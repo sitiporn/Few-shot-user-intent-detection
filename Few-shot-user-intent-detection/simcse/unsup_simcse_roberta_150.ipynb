{
 "cells": [
  {
   "cell_type": "code",
   "execution_count": 1,
   "id": "51622bae-a7a0-4622-a266-1e0918bcab3a",
   "metadata": {},
   "outputs": [],
   "source": [
    "import os\n",
    "import numpy as np\n",
    "import torch\n",
    "import torch.nn as nn\n",
    "from torch.utils.data import Dataset, DataLoader\n",
    "from transformers import RobertaConfig, RobertaModel, RobertaTokenizer, RobertaForSequenceClassification\n",
    "from transformers import AdamW\n",
    "import random\n",
    "from IPython.display import clear_output\n",
    "import matplotlib.pyplot as plt\n",
    "from collections import OrderedDict\n",
    "from scipy.spatial.distance import cosine\n",
    "from sim_utils import load_examples, Inputexample, CustomTextDataset, freeze_layers, train, test\n",
    "from transformers import AutoModelForSequenceClassification, TrainingArguments, Trainer, AutoConfig, AutoModel, AutoTokenizer\n",
    "\n",
    "#comment this if you are not using puffer\n",
    "os.environ['http_proxy'] = 'http://192.41.170.23:3128'\n",
    "os.environ['https_proxy'] = 'http://192.41.170.23:3128'"
   ]
  },
  {
   "cell_type": "code",
   "execution_count": 2,
   "id": "e365ee63-74ce-421f-964b-b644b9fdc131",
   "metadata": {},
   "outputs": [],
   "source": [
    "N = 5\n",
    "data = []\n",
    "labels = []\n",
    "\n",
    "train_samples = []\n",
    "train_labels = []\n",
    "\n",
    "valid_samples = []\n",
    "valid_labels = []\n",
    "\n",
    "test_samples = []\n",
    "test_labels = []\n",
    "\n",
    "embed_dim = 768\n",
    "batch_size = 16 \n",
    "lr=2e-3  # you can adjust \n",
    "temp = 0.3  # you can adjust \n",
    "lamda = 0.01  # you can adjust  \n",
    "skip_time = 0 # the number of time that yi not equal to yj in supervised contrastive loss equation \n",
    "data_name = 'CLINC150'\n",
    "model_name = 'simcse_unsup'\n",
    "shot_name = 'train_5'\n",
    "exp_name = f'{model_name}_lr={lr}_t={temp}_{data_name}_{shot_name}'\n",
    "device = torch.device('cuda:0' if torch.cuda.is_available() else 'cpu')"
   ]
  },
  {
   "cell_type": "markdown",
   "id": "e7834a94-e081-43b7-ae60-dc44593a24e7",
   "metadata": {},
   "source": [
    "Path example of train, validation and test "
   ]
  },
  {
   "cell_type": "code",
   "execution_count": 3,
   "id": "e58a34c6",
   "metadata": {},
   "outputs": [
    {
     "name": "stdout",
     "output_type": "stream",
     "text": [
      "train path :  ../../../../Thesis/CLINC150/train_5/\n",
      "valid path :  ../../../../Thesis/CLINC150/valid/\n",
      "test path  :  ../../../../Thesis/CLINC150/test/\n",
      "experiment code name : simcse_unsup_lr=0.002_t=0.3_CLINC150_train_5\n"
     ]
    }
   ],
   "source": [
    "path_shot = f'../../../../Thesis/{data_name}/{shot_name}/'\n",
    "valid_path = f'../../../../Thesis/{data_name}/valid/'\n",
    "test_path = f'../../../../Thesis/{data_name}/test/'\n",
    "print(\"train path : \",path_shot)\n",
    "print(\"valid path : \",valid_path)\n",
    "print(\"test path  : \",test_path)\n",
    "print(\"experiment code name :\",exp_name)"
   ]
  },
  {
   "cell_type": "code",
   "execution_count": 4,
   "id": "cc0b272e-288d-45da-bd17-438ffd3b959d",
   "metadata": {},
   "outputs": [
    {
     "name": "stdout",
     "output_type": "stream",
     "text": [
      "===== small train set ====\n",
      "Train on Cross Entropy loss\n",
      "len of dataset : 750\n",
      "===== validation set ====\n",
      "Train on Cross Entropy loss\n",
      "len of dataset : 3000\n",
      "===== test set ====\n",
      "Train on Cross Entropy loss\n",
      "len of dataset : 4500\n",
      "number of class : 150\n"
     ]
    }
   ],
   "source": [
    "# Download data fewshot \n",
    "# https://downgit.github.io/#/home?url=https:%2F%2Fgithub.com%2Fjianguoz%2FFew-Shot-Intent-Detection%2Ftree%2Fmain%2FDatasets%2FHWU64\n",
    "\n",
    "# load data\n",
    "train_samples = load_examples(path_shot)\n",
    "valid_samples = load_examples(valid_path)\n",
    "test_samples = load_examples(test_path)\n",
    "\n",
    "\n",
    "print(\"===== small train set ====\")\n",
    "\n",
    "for i in range(len(train_samples)):\n",
    "    data.append(train_samples[i].text)\n",
    "    labels.append(train_samples[i].label)\n",
    "\n",
    "\n",
    "train_data = CustomTextDataset(labels,data,batch_size=batch_size,repeated_label=False)\n",
    "train_loader = DataLoader(train_data,batch_size=batch_size,shuffle=True)\n",
    "\n",
    "\n",
    "\n",
    "print(\"===== validation set ====\")\n",
    "\n",
    "data = []\n",
    "labels = []\n",
    "\n",
    "for i in range(len(valid_samples)):\n",
    "    data.append(valid_samples[i].text)\n",
    "    labels.append(valid_samples[i].label)\n",
    "\n",
    "valid_data = CustomTextDataset(labels,data,batch_size=batch_size,repeated_label=False)\n",
    "valid_loader = DataLoader(valid_data,batch_size=batch_size,shuffle=True)\n",
    "\n",
    "\n",
    "\n",
    "print(\"===== test set ====\")\n",
    "\n",
    "data = []\n",
    "labels = []\n",
    "    \n",
    "for i in range(len(test_samples)):\n",
    "    data.append(test_samples[i].text)\n",
    "    labels.append(test_samples[i].label)\n",
    "\n",
    "test_data = CustomTextDataset(labels,data,batch_size=batch_size,repeated_label=False)\n",
    "test_loader = DataLoader(test_data,batch_size=batch_size,shuffle=True)\n",
    "\n",
    "\n",
    "\n",
    "# got the number of unique classes from dataset\n",
    "num_class = len(np.unique(np.array(labels)))\n",
    "\n",
    "# get text label of uniqure classes\n",
    "unique_label = np.unique(np.array(labels))\n",
    "\n",
    "# map text label to index classes\n",
    "label_maps = {unique_label[i]: i for i in range(len(unique_label))}\n",
    "\n",
    "print(\"number of class :\",num_class)"
   ]
  },
  {
   "cell_type": "code",
   "execution_count": 5,
   "id": "f44c9979-022c-45a4-acc5-2a4c7637b4bf",
   "metadata": {},
   "outputs": [
    {
     "name": "stderr",
     "output_type": "stream",
     "text": [
      "Some weights of the model checkpoint at princeton-nlp/unsup-simcse-roberta-base were not used when initializing RobertaForSequenceClassification: ['pooler.dense.weight', 'pooler.dense.bias']\n",
      "- This IS expected if you are initializing RobertaForSequenceClassification from the checkpoint of a model trained on another task or with another architecture (e.g. initializing a BertForSequenceClassification model from a BertForPreTraining model).\n",
      "- This IS NOT expected if you are initializing RobertaForSequenceClassification from the checkpoint of a model that you expect to be exactly identical (initializing a BertForSequenceClassification model from a BertForSequenceClassification model).\n",
      "Some weights of RobertaForSequenceClassification were not initialized from the model checkpoint at princeton-nlp/unsup-simcse-roberta-base and are newly initialized: ['classifier.out_proj.weight', 'classifier.out_proj.bias', 'classifier.dense.weight', 'classifier.dense.bias']\n",
      "You should probably TRAIN this model on a down-stream task to be able to use it for predictions and inference.\n"
     ]
    },
    {
     "name": "stdout",
     "output_type": "stream",
     "text": [
      "classifier.dense.weight\n",
      "classifier.dense.bias\n",
      "classifier.out_proj.weight\n",
      "classifier.out_proj.bias\n"
     ]
    }
   ],
   "source": [
    "tokenizer = AutoTokenizer.from_pretrained(\"princeton-nlp/unsup-simcse-roberta-base\")\n",
    "config = AutoConfig.from_pretrained(\"princeton-nlp/unsup-simcse-roberta-base\")\n",
    "config.num_labels = num_class\n",
    "simcse = AutoModelForSequenceClassification.from_pretrained(\"princeton-nlp/unsup-simcse-roberta-base\",config=config)\n",
    "simcse = freeze_layers(simcse,freeze_layers_count=12)"
   ]
  },
  {
   "cell_type": "code",
   "execution_count": 6,
   "id": "386a074c-a8bc-4a42-ac24-75393cdce94a",
   "metadata": {},
   "outputs": [],
   "source": [
    "optimizer= AdamW(simcse.parameters(), lr=lr)\n",
    "simcse = simcse.to(device)"
   ]
  },
  {
   "cell_type": "code",
   "execution_count": 7,
   "id": "de0011ad-62d5-4d80-9f9a-4434eb746694",
   "metadata": {},
   "outputs": [
    {
     "name": "stdout",
     "output_type": "stream",
     "text": [
      "======  Epoch 1 ====== \n",
      " Training Loss: 0.26050966517130536, \t\t Training acc: 0.1693333387374878\n",
      "train correct :  tensor(127, device='cuda:0')\n",
      "train total : 750\n",
      " Validation Loss: 0.1295551441113154, \t\t Validation acc: 0.5733333230018616\n",
      "valid correct :  tensor(1720, device='cuda:0')\n",
      "valid total : 3000\n",
      "Validation Loss Decreased(inf--->0.129555) \t Saving The Model\n",
      "======  Epoch 2 ====== \n",
      " Training Loss: 0.07071150549252828, \t\t Training acc: 0.7906666398048401\n",
      "train correct :  tensor(593, device='cuda:0')\n",
      "train total : 750\n",
      " Validation Loss: 0.07097756989796956, \t\t Validation acc: 0.7053333520889282\n",
      "valid correct :  tensor(2116, device='cuda:0')\n",
      "valid total : 3000\n",
      "Validation Loss Decreased(0.129555--->0.070978) \t Saving The Model\n",
      "======  Epoch 3 ====== \n",
      " Training Loss: 0.025732452829678853, \t\t Training acc: 0.9279999732971191\n",
      "train correct :  tensor(696, device='cuda:0')\n",
      "train total : 750\n",
      " Validation Loss: 0.058613581051429116, \t\t Validation acc: 0.746999979019165\n",
      "valid correct :  tensor(2241, device='cuda:0')\n",
      "valid total : 3000\n",
      "Validation Loss Decreased(0.070978--->0.058614) \t Saving The Model\n",
      "======  Epoch 4 ====== \n",
      " Training Loss: 0.01372836384177208, \t\t Training acc: 0.9626666307449341\n",
      "train correct :  tensor(722, device='cuda:0')\n",
      "train total : 750\n",
      " Validation Loss: 0.056059609274069465, \t\t Validation acc: 0.7646666765213013\n",
      "valid correct :  tensor(2294, device='cuda:0')\n",
      "valid total : 3000\n",
      "Validation Loss Decreased(0.058614--->0.056060) \t Saving The Model\n",
      "======  Epoch 5 ====== \n",
      " Training Loss: 0.008326236248016358, \t\t Training acc: 0.9706666469573975\n",
      "train correct :  tensor(728, device='cuda:0')\n",
      "train total : 750\n",
      " Validation Loss: 0.055127966900666556, \t\t Validation acc: 0.762666642665863\n",
      "valid correct :  tensor(2288, device='cuda:0')\n",
      "valid total : 3000\n",
      "Validation Loss Decreased(0.056060--->0.055128) \t Saving The Model\n",
      "======  Epoch 6 ====== \n",
      " Training Loss: 0.006050499324997266, \t\t Training acc: 0.9773333072662354\n",
      "train correct :  tensor(733, device='cuda:0')\n",
      "train total : 750\n",
      " Validation Loss: 0.0561437037140131, \t\t Validation acc: 0.7576666474342346\n",
      "valid correct :  tensor(2273, device='cuda:0')\n",
      "valid total : 3000\n",
      "======  Epoch 7 ====== \n",
      " Training Loss: 0.0061327991411089895, \t\t Training acc: 0.9800000190734863\n",
      "train correct :  tensor(735, device='cuda:0')\n",
      "train total : 750\n",
      " Validation Loss: 0.054400856663783394, \t\t Validation acc: 0.765333354473114\n",
      "valid correct :  tensor(2296, device='cuda:0')\n",
      "valid total : 3000\n",
      "Validation Loss Decreased(0.055128--->0.054401) \t Saving The Model\n",
      "======  Epoch 8 ====== \n",
      " Training Loss: 0.0030220996774733065, \t\t Training acc: 0.9906666278839111\n",
      "train correct :  tensor(743, device='cuda:0')\n",
      "train total : 750\n",
      " Validation Loss: 0.05316983015835285, \t\t Validation acc: 0.7776666879653931\n",
      "valid correct :  tensor(2333, device='cuda:0')\n",
      "valid total : 3000\n",
      "Validation Loss Decreased(0.054401--->0.053170) \t Saving The Model\n",
      "======  Epoch 9 ====== \n",
      " Training Loss: 0.0029792623495062194, \t\t Training acc: 0.9946666359901428\n",
      "train correct :  tensor(746, device='cuda:0')\n",
      "train total : 750\n",
      " Validation Loss: 0.0518226602251331, \t\t Validation acc: 0.7876666784286499\n",
      "valid correct :  tensor(2363, device='cuda:0')\n",
      "valid total : 3000\n",
      "Validation Loss Decreased(0.053170--->0.051823) \t Saving The Model\n",
      "======  Epoch 10 ====== \n",
      " Training Loss: 0.0040013786094884075, \t\t Training acc: 0.9866666793823242\n",
      "train correct :  tensor(740, device='cuda:0')\n",
      "train total : 750\n",
      " Validation Loss: 0.052522231941421825, \t\t Validation acc: 0.7763333320617676\n",
      "valid correct :  tensor(2329, device='cuda:0')\n",
      "valid total : 3000\n",
      "======  Epoch 11 ====== \n",
      " Training Loss: 0.0017568241953849792, \t\t Training acc: 0.9973333477973938\n",
      "train correct :  tensor(748, device='cuda:0')\n",
      "train total : 750\n",
      " Validation Loss: 0.05272366789231698, \t\t Validation acc: 0.7753333449363708\n",
      "valid correct :  tensor(2326, device='cuda:0')\n",
      "valid total : 3000\n",
      "======  Epoch 12 ====== \n",
      " Training Loss: 0.0018586430866271257, \t\t Training acc: 0.9946666359901428\n",
      "train correct :  tensor(746, device='cuda:0')\n",
      "train total : 750\n",
      " Validation Loss: 0.0496998314956824, \t\t Validation acc: 0.7906666398048401\n",
      "valid correct :  tensor(2372, device='cuda:0')\n",
      "valid total : 3000\n",
      "Validation Loss Decreased(0.051823--->0.049700) \t Saving The Model\n",
      "======  Epoch 13 ====== \n",
      " Training Loss: 0.0030444422556708257, \t\t Training acc: 0.9906666278839111\n",
      "train correct :  tensor(743, device='cuda:0')\n",
      "train total : 750\n",
      " Validation Loss: 0.05294811615347862, \t\t Validation acc: 0.7886666655540466\n",
      "valid correct :  tensor(2366, device='cuda:0')\n",
      "valid total : 3000\n",
      "======  Epoch 14 ====== \n",
      " Training Loss: 0.002702935185904304, \t\t Training acc: 0.9893333315849304\n",
      "train correct :  tensor(742, device='cuda:0')\n",
      "train total : 750\n",
      " Validation Loss: 0.059113722993681825, \t\t Validation acc: 0.7756666541099548\n",
      "valid correct :  tensor(2327, device='cuda:0')\n",
      "valid total : 3000\n",
      "======  Epoch 15 ====== \n",
      " Training Loss: 0.0033175844345241785, \t\t Training acc: 0.9853333234786987\n",
      "train correct :  tensor(739, device='cuda:0')\n",
      "train total : 750\n",
      " Validation Loss: 0.05816479828953743, \t\t Validation acc: 0.7689999938011169\n",
      "valid correct :  tensor(2307, device='cuda:0')\n",
      "valid total : 3000\n",
      "======  Epoch 16 ====== \n",
      " Training Loss: 0.004581787123034398, \t\t Training acc: 0.9906666278839111\n",
      "train correct :  tensor(743, device='cuda:0')\n",
      "train total : 750\n",
      " Validation Loss: 0.061919657371938226, \t\t Validation acc: 0.7580000162124634\n",
      "valid correct :  tensor(2274, device='cuda:0')\n",
      "valid total : 3000\n",
      "======  Epoch 17 ====== \n",
      " Training Loss: 0.002785003090898196, \t\t Training acc: 0.9933333396911621\n",
      "train correct :  tensor(745, device='cuda:0')\n",
      "train total : 750\n",
      " Validation Loss: 0.056375827175875505, \t\t Validation acc: 0.7743332982063293\n",
      "valid correct :  tensor(2323, device='cuda:0')\n",
      "valid total : 3000\n",
      "======  Epoch 18 ====== \n",
      " Training Loss: 0.002725292100571096, \t\t Training acc: 0.9906666278839111\n",
      "train correct :  tensor(743, device='cuda:0')\n",
      "train total : 750\n",
      " Validation Loss: 0.05845550397783518, \t\t Validation acc: 0.7689999938011169\n",
      "valid correct :  tensor(2307, device='cuda:0')\n",
      "valid total : 3000\n",
      "======  Epoch 19 ====== \n",
      " Training Loss: 0.0008635065717001756, \t\t Training acc: 0.9973333477973938\n",
      "train correct :  tensor(748, device='cuda:0')\n",
      "train total : 750\n",
      " Validation Loss: 0.05731810074299574, \t\t Validation acc: 0.7766666412353516\n",
      "valid correct :  tensor(2330, device='cuda:0')\n",
      "valid total : 3000\n",
      "======  Epoch 20 ====== \n",
      " Training Loss: 0.001285459140005211, \t\t Training acc: 0.9959999918937683\n",
      "train correct :  tensor(747, device='cuda:0')\n",
      "train total : 750\n",
      " Validation Loss: 0.059051779771844545, \t\t Validation acc: 0.7706666588783264\n",
      "valid correct :  tensor(2312, device='cuda:0')\n",
      "valid total : 3000\n",
      "======  Epoch 21 ====== \n",
      " Training Loss: 0.004800841908281048, \t\t Training acc: 0.9866666793823242\n",
      "train correct :  tensor(740, device='cuda:0')\n",
      "train total : 750\n",
      " Validation Loss: 0.06687260454396407, \t\t Validation acc: 0.7419999837875366\n",
      "valid correct :  tensor(2226, device='cuda:0')\n",
      "valid total : 3000\n",
      "======  Epoch 22 ====== \n",
      " Training Loss: 0.0034201607025849323, \t\t Training acc: 0.9853333234786987\n",
      "train correct :  tensor(739, device='cuda:0')\n",
      "train total : 750\n",
      " Validation Loss: 0.0767477672000726, \t\t Validation acc: 0.7316666841506958\n",
      "valid correct :  tensor(2195, device='cuda:0')\n",
      "valid total : 3000\n",
      "======  Epoch 23 ====== \n",
      " Training Loss: 0.008428490354058644, \t\t Training acc: 0.972000002861023\n",
      "train correct :  tensor(729, device='cuda:0')\n",
      "train total : 750\n",
      " Validation Loss: 0.07023674248655637, \t\t Validation acc: 0.7373332977294922\n",
      "valid correct :  tensor(2212, device='cuda:0')\n",
      "valid total : 3000\n",
      "======  Epoch 24 ====== \n",
      " Training Loss: 0.004655418350671728, \t\t Training acc: 0.981333315372467\n",
      "train correct :  tensor(736, device='cuda:0')\n",
      "train total : 750\n",
      " Validation Loss: 0.07476890150209269, \t\t Validation acc: 0.731333315372467\n",
      "valid correct :  tensor(2194, device='cuda:0')\n",
      "valid total : 3000\n",
      "======  Epoch 25 ====== \n",
      " Training Loss: 0.006167778028796116, \t\t Training acc: 0.9746666550636292\n",
      "train correct :  tensor(731, device='cuda:0')\n",
      "train total : 750\n",
      " Validation Loss: 0.07171200553079446, \t\t Validation acc: 0.7440000176429749\n",
      "valid correct :  tensor(2232, device='cuda:0')\n",
      "valid total : 3000\n",
      "======  Epoch 26 ====== \n",
      " Training Loss: 0.005064622553065419, \t\t Training acc: 0.9773333072662354\n",
      "train correct :  tensor(733, device='cuda:0')\n",
      "train total : 750\n",
      " Validation Loss: 0.08600210932393869, \t\t Validation acc: 0.7236666679382324\n",
      "valid correct :  tensor(2171, device='cuda:0')\n",
      "valid total : 3000\n",
      "======  Epoch 27 ====== \n",
      " Training Loss: 0.011484051569985847, \t\t Training acc: 0.9413332939147949\n",
      "train correct :  tensor(706, device='cuda:0')\n",
      "train total : 750\n",
      " Validation Loss: 0.09029954890658458, \t\t Validation acc: 0.7123333215713501\n",
      "valid correct :  tensor(2137, device='cuda:0')\n",
      "valid total : 3000\n",
      "======  Epoch 28 ====== \n",
      " Training Loss: 0.010750255259374777, \t\t Training acc: 0.9519999623298645\n",
      "train correct :  tensor(714, device='cuda:0')\n",
      "train total : 750\n",
      " Validation Loss: 0.10214523248871167, \t\t Validation acc: 0.684666633605957\n",
      "valid correct :  tensor(2054, device='cuda:0')\n",
      "valid total : 3000\n",
      "======  Epoch 29 ====== \n",
      " Training Loss: 0.013472901554778219, \t\t Training acc: 0.9559999704360962\n",
      "train correct :  tensor(717, device='cuda:0')\n",
      "train total : 750\n",
      " Validation Loss: 0.08877225008606911, \t\t Validation acc: 0.6940000057220459\n",
      "valid correct :  tensor(2082, device='cuda:0')\n",
      "valid total : 3000\n",
      "======  Epoch 30 ====== \n",
      " Training Loss: 0.009196697841243197, \t\t Training acc: 0.9613333344459534\n",
      "train correct :  tensor(721, device='cuda:0')\n",
      "train total : 750\n",
      " Validation Loss: 0.0863266669412454, \t\t Validation acc: 0.7243333458900452\n",
      "valid correct :  tensor(2173, device='cuda:0')\n",
      "valid total : 3000\n"
     ]
    }
   ],
   "source": [
    "train_log, valid_log = train(exp_name,simcse,device,label_maps,optimizer,train_loader,valid_loader,train_data,valid_data,tokenizer,epochs=30)"
   ]
  },
  {
   "cell_type": "code",
   "execution_count": 8,
   "id": "28a6845f-9b45-4f89-bc55-10d5b2a8f75f",
   "metadata": {},
   "outputs": [
    {
     "data": {
      "text/plain": [
       "<matplotlib.legend.Legend at 0x7f39b880b1f0>"
      ]
     },
     "execution_count": 8,
     "metadata": {},
     "output_type": "execute_result"
    },
    {
     "data": {
      "image/png": "[encoded data removed]",
      "text/plain": [
       "<Figure size 432x288 with 2 Axes>"
      ]
     },
     "metadata": {
      "needs_background": "light"
     },
     "output_type": "display_data"
    }
   ],
   "source": [
    "fig, (ax1, ax2) = plt.subplots(2)\n",
    "fig.suptitle('Show by freezing 12 layers')\n",
    "ax1.plot(torch.tensor(train_log[0] , device = 'cpu').tolist())\n",
    "ax1.plot(torch.tensor(valid_log[0] , device = 'cpu').tolist())\n",
    "ax1.legend(['train_acc','validation_acc'])\n",
    "ax2.plot(torch.tensor(train_log[1] , device = 'cpu').tolist())\n",
    "ax2.plot(torch.tensor(valid_log[1] , device = 'cpu').tolist())\n",
    "ax2.legend(['train_loss','validation_loss'])"
   ]
  },
  {
   "cell_type": "code",
   "execution_count": 10,
   "id": "00ef3eac-0ff0-4f4e-b9f2-d7cc9f8c3316",
   "metadata": {},
   "outputs": [
    {
     "name": "stdout",
     "output_type": "stream",
     "text": [
      "correct : 3138\n",
      "total : 4500\n"
     ]
    }
   ],
   "source": [
    "test_acc = test(simcse,device,label_maps,test_loader,len(test_data),tokenizer)"
   ]
  },
  {
   "cell_type": "code",
   "execution_count": 11,
   "id": "785a5508-1057-4001-93a9-5a44ba7a6ae6",
   "metadata": {},
   "outputs": [
    {
     "name": "stdout",
     "output_type": "stream",
     "text": [
      "Accuracy : 69.73333333333333 %\n"
     ]
    }
   ],
   "source": [
    "print(f'Accuracy : {100 * test_acc} %') "
   ]
  },
  {
   "cell_type": "code",
   "execution_count": 15,
   "id": "2aa12de0-8051-4c26-9bd4-1fd0760e7201",
   "metadata": {},
   "outputs": [
    {
     "name": "stdout",
     "output_type": "stream",
     "text": [
      "huggingface/tokenizers: The current process just got forked, after parallelism has already been used. Disabling parallelism to avoid deadlocks...\n",
      "To disable this warning, you can either:\n",
      "\t- Avoid using `tokenizers` before the fork if possible\n",
      "\t- Explicitly set the environment variable TOKENIZERS_PARALLELISM=(true | false)\n",
      " {exp_name}.pth         saved_model.pth\n",
      " model_64_train_5.pth  'simcse_unsup_lr=0.002_t=0.3_CLINC150_train_5.pth'\n",
      " model_77_train_5.pth\n"
     ]
    }
   ],
   "source": [
    "!ls ../../../fewshot_models/"
   ]
  },
  {
   "cell_type": "code",
   "execution_count": 17,
   "id": "faf2d2e7-1f5d-4916-af6b-abbc439e108b",
   "metadata": {},
   "outputs": [
    {
     "name": "stderr",
     "output_type": "stream",
     "text": [
      "Some weights of the model checkpoint at princeton-nlp/unsup-simcse-roberta-base were not used when initializing RobertaForSequenceClassification: ['pooler.dense.weight', 'pooler.dense.bias']\n",
      "- This IS expected if you are initializing RobertaForSequenceClassification from the checkpoint of a model trained on another task or with another architecture (e.g. initializing a BertForSequenceClassification model from a BertForPreTraining model).\n",
      "- This IS NOT expected if you are initializing RobertaForSequenceClassification from the checkpoint of a model that you expect to be exactly identical (initializing a BertForSequenceClassification model from a BertForSequenceClassification model).\n",
      "Some weights of RobertaForSequenceClassification were not initialized from the model checkpoint at princeton-nlp/unsup-simcse-roberta-base and are newly initialized: ['classifier.out_proj.weight', 'classifier.out_proj.bias', 'classifier.dense.weight', 'classifier.dense.bias']\n",
      "You should probably TRAIN this model on a down-stream task to be able to use it for predictions and inference.\n"
     ]
    }
   ],
   "source": [
    "PATH = f'../../../fewshot_models/{exp_name}.pth'\n",
    "best_model = AutoModelForSequenceClassification.from_pretrained(\"princeton-nlp/unsup-simcse-roberta-base\",config=config)\n",
    "# Model class must be defined somewhere\n",
    "best_model.load_state_dict(torch.load(PATH))\n",
    "best_model = best_model.to(device)"
   ]
  },
  {
   "cell_type": "code",
   "execution_count": 18,
   "id": "b7abc09f-8bd4-4c7a-b680-e405fab3f905",
   "metadata": {},
   "outputs": [
    {
     "name": "stdout",
     "output_type": "stream",
     "text": [
      "correct : 3494\n",
      "total : 4500\n"
     ]
    }
   ],
   "source": [
    "test_acc = test(best_model,device=device,label_maps=label_maps,test_loader=test_loader,data_size=len(test_data),tokenizer=tokenizer)"
   ]
  },
  {
   "cell_type": "code",
   "execution_count": 19,
   "id": "4e81bc4c-07ff-440e-9068-8753dd0bd9f8",
   "metadata": {},
   "outputs": [
    {
     "name": "stdout",
     "output_type": "stream",
     "text": [
      "Accuracy : 77.64444444444445 %\n"
     ]
    }
   ],
   "source": [
    "print(f'Accuracy : {100 * test_acc} %') "
   ]
  },
  {
   "cell_type": "code",
   "execution_count": null,
   "id": "ede2704c-d0db-4616-8ca6-47f0e00cb873",
   "metadata": {},
   "outputs": [],
   "source": []
  }
 ],
 "metadata": {
  "kernelspec": {
   "display_name": "Python 3 (ipykernel)",
   "language": "python",
   "name": "python3"
  },
  "language_info": {
   "codemirror_mode": {
    "name": "ipython",
    "version": 3
   },
   "file_extension": ".py",
   "mimetype": "text/x-python",
   "name": "python",
   "nbconvert_exporter": "python",
   "pygments_lexer": "ipython3",
   "version": "3.9.7"
  }
 },
 "nbformat": 4,
 "nbformat_minor": 5
}
