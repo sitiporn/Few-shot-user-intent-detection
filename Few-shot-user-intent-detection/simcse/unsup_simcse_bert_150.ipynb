{
 "cells": [
  {
   "cell_type": "code",
   "execution_count": 1,
   "id": "51622bae-a7a0-4622-a266-1e0918bcab3a",
   "metadata": {},
   "outputs": [],
   "source": [
    "import os\n",
    "import numpy as np\n",
    "import torch\n",
    "import torch.nn as nn\n",
    "from torch.utils.data import Dataset, DataLoader\n",
    "from transformers import RobertaConfig, RobertaModel, RobertaTokenizer, RobertaForSequenceClassification\n",
    "from transformers import AdamW\n",
    "import random\n",
    "from IPython.display import clear_output\n",
    "import matplotlib.pyplot as plt\n",
    "from collections import OrderedDict\n",
    "from scipy.spatial.distance import cosine\n",
    "from sim_utils import load_examples, Inputexample, CustomTextDataset, freeze_layers, train, test\n",
    "from transformers import AutoModelForSequenceClassification, TrainingArguments, Trainer, AutoConfig, AutoModel, AutoTokenizer\n",
    "from transformers import AutoModelForSequenceClassification, TrainingArguments, Trainer, AutoConfig\n",
    "\n",
    "#comment this if you are not using puffer\n",
    "os.environ['http_proxy'] = 'http://192.41.170.23:3128'\n",
    "os.environ['https_proxy'] = 'http://192.41.170.23:3128'"
   ]
  },
  {
   "cell_type": "code",
   "execution_count": 2,
   "id": "e365ee63-74ce-421f-964b-b644b9fdc131",
   "metadata": {},
   "outputs": [],
   "source": [
    "N = 5\n",
    "data = []\n",
    "labels = []\n",
    "\n",
    "train_samples = []\n",
    "train_labels = []\n",
    "\n",
    "valid_samples = []\n",
    "valid_labels = []\n",
    "\n",
    "test_samples = []\n",
    "test_labels = []\n",
    "\n",
    "embed_dim = 768\n",
    "batch_size = 16 \n",
    "lr=2e-3  # you can adjust \n",
    "temp = 0.3  # you can adjust \n",
    "lamda = 0.01  # you can adjust  \n",
    "skip_time = 0 # the number of time that yi not equal to yj in supervised contrastive loss equation \n",
    "data_name = 'CLINC150'\n",
    "model_name = 'unsup-simcse-bert'\n",
    "shot_name = 'train_5'\n",
    "exp_name = f'{model_name}_lr={lr}_t={temp}_{data_name}_{shot_name}'\n",
    "device = torch.device('cuda:0' if torch.cuda.is_available() else 'cpu')"
   ]
  },
  {
   "cell_type": "markdown",
   "id": "e7834a94-e081-43b7-ae60-dc44593a24e7",
   "metadata": {},
   "source": [
    "Path example of train, validation and test "
   ]
  },
  {
   "cell_type": "code",
   "execution_count": 3,
   "id": "e58a34c6",
   "metadata": {},
   "outputs": [
    {
     "name": "stdout",
     "output_type": "stream",
     "text": [
      "train path :  ../../../../Thesis/CLINC150/train_5/\n",
      "valid path :  ../../../../Thesis/CLINC150/valid/\n",
      "test path  :  ../../../../Thesis/CLINC150/test/\n",
      "experiment code name : unsup-simcse-bert_lr=0.002_t=0.3_CLINC150_train_5\n"
     ]
    }
   ],
   "source": [
    "path_shot = f'../../../../Thesis/{data_name}/{shot_name}/'\n",
    "valid_path = f'../../../../Thesis/{data_name}/valid/'\n",
    "test_path = f'../../../../Thesis/{data_name}/test/'\n",
    "print(\"train path : \",path_shot)\n",
    "print(\"valid path : \",valid_path)\n",
    "print(\"test path  : \",test_path)\n",
    "print(\"experiment code name :\",exp_name)"
   ]
  },
  {
   "cell_type": "code",
   "execution_count": 4,
   "id": "cc0b272e-288d-45da-bd17-438ffd3b959d",
   "metadata": {},
   "outputs": [
    {
     "name": "stdout",
     "output_type": "stream",
     "text": [
      "===== small train set ====\n",
      "Train on Cross Entropy loss\n",
      "len of dataset : 750\n",
      "===== validation set ====\n",
      "Train on Cross Entropy loss\n",
      "len of dataset : 3000\n",
      "===== test set ====\n",
      "Train on Cross Entropy loss\n",
      "len of dataset : 4500\n",
      "number of class : 150\n"
     ]
    }
   ],
   "source": [
    "# Download data fewshot \n",
    "# https://downgit.github.io/#/home?url=https:%2F%2Fgithub.com%2Fjianguoz%2FFew-Shot-Intent-Detection%2Ftree%2Fmain%2FDatasets%2FHWU64\n",
    "\n",
    "# load data\n",
    "train_samples = load_examples(path_shot)\n",
    "valid_samples = load_examples(valid_path)\n",
    "test_samples = load_examples(test_path)\n",
    "\n",
    "\n",
    "print(\"===== small train set ====\")\n",
    "\n",
    "for i in range(len(train_samples)):\n",
    "    data.append(train_samples[i].text)\n",
    "    labels.append(train_samples[i].label)\n",
    "\n",
    "\n",
    "train_data = CustomTextDataset(labels,data,batch_size=batch_size,repeated_label=False)\n",
    "train_loader = DataLoader(train_data,batch_size=batch_size,shuffle=True)\n",
    "\n",
    "\n",
    "\n",
    "print(\"===== validation set ====\")\n",
    "\n",
    "data = []\n",
    "labels = []\n",
    "\n",
    "for i in range(len(valid_samples)):\n",
    "    data.append(valid_samples[i].text)\n",
    "    labels.append(valid_samples[i].label)\n",
    "\n",
    "valid_data = CustomTextDataset(labels,data,batch_size=batch_size,repeated_label=False)\n",
    "valid_loader = DataLoader(valid_data,batch_size=batch_size,shuffle=True)\n",
    "\n",
    "\n",
    "\n",
    "print(\"===== test set ====\")\n",
    "\n",
    "data = []\n",
    "labels = []\n",
    "    \n",
    "for i in range(len(test_samples)):\n",
    "    data.append(test_samples[i].text)\n",
    "    labels.append(test_samples[i].label)\n",
    "\n",
    "test_data = CustomTextDataset(labels,data,batch_size=batch_size,repeated_label=False)\n",
    "test_loader = DataLoader(test_data,batch_size=batch_size,shuffle=True)\n",
    "\n",
    "\n",
    "\n",
    "# got the number of unique classes from dataset\n",
    "num_class = len(np.unique(np.array(labels)))\n",
    "\n",
    "# get text label of uniqure classes\n",
    "unique_label = np.unique(np.array(labels))\n",
    "\n",
    "# map text label to index classes\n",
    "label_maps = {unique_label[i]: i for i in range(len(unique_label))}\n",
    "\n",
    "print(\"number of class :\",num_class)"
   ]
  },
  {
   "cell_type": "code",
   "execution_count": 5,
   "id": "f44c9979-022c-45a4-acc5-2a4c7637b4bf",
   "metadata": {},
   "outputs": [
    {
     "data": {
      "application/vnd.jupyter.widget-view+json": {
       "model_id": "c67a4f38e34d408799d5143a268805e1",
       "version_major": 2,
       "version_minor": 0
      },
      "text/plain": [
       "Downloading:   0%|          | 0.00/252 [00:00<?, ?B/s]"
      ]
     },
     "metadata": {},
     "output_type": "display_data"
    },
    {
     "data": {
      "application/vnd.jupyter.widget-view+json": {
       "model_id": "4a8d99a35e574a3c8e9ef2e8f5f4631b",
       "version_major": 2,
       "version_minor": 0
      },
      "text/plain": [
       "Downloading:   0%|          | 0.00/697 [00:00<?, ?B/s]"
      ]
     },
     "metadata": {},
     "output_type": "display_data"
    },
    {
     "data": {
      "application/vnd.jupyter.widget-view+json": {
       "model_id": "d968f09e05d34a1c9bc0efe690118f0b",
       "version_major": 2,
       "version_minor": 0
      },
      "text/plain": [
       "Downloading:   0%|          | 0.00/226k [00:00<?, ?B/s]"
      ]
     },
     "metadata": {},
     "output_type": "display_data"
    },
    {
     "data": {
      "application/vnd.jupyter.widget-view+json": {
       "model_id": "17a2b872749944d591ea267e78b309f9",
       "version_major": 2,
       "version_minor": 0
      },
      "text/plain": [
       "Downloading:   0%|          | 0.00/112 [00:00<?, ?B/s]"
      ]
     },
     "metadata": {},
     "output_type": "display_data"
    },
    {
     "data": {
      "application/vnd.jupyter.widget-view+json": {
       "model_id": "956a438ba6fb4739b3a09e7465c14181",
       "version_major": 2,
       "version_minor": 0
      },
      "text/plain": [
       "Downloading:   0%|          | 0.00/418M [00:00<?, ?B/s]"
      ]
     },
     "metadata": {},
     "output_type": "display_data"
    },
    {
     "name": "stderr",
     "output_type": "stream",
     "text": [
      "Some weights of BertForSequenceClassification were not initialized from the model checkpoint at princeton-nlp/unsup-simcse-bert-base-uncased and are newly initialized: ['classifier.bias', 'classifier.weight']\n",
      "You should probably TRAIN this model on a down-stream task to be able to use it for predictions and inference.\n"
     ]
    },
    {
     "name": "stdout",
     "output_type": "stream",
     "text": [
      "classifier.weight\n",
      "classifier.bias\n"
     ]
    }
   ],
   "source": [
    "tokenizer = AutoTokenizer.from_pretrained(\"princeton-nlp/unsup-simcse-bert-base-uncased\")\n",
    "config = AutoConfig.from_pretrained(\"princeton-nlp/unsup-simcse-bert-base-uncased\")\n",
    "config.num_labels = num_class\n",
    "simcse = AutoModelForSequenceClassification.from_pretrained(\"princeton-nlp/unsup-simcse-bert-base-uncased\",config=config)\n",
    "simcse = freeze_layers(simcse,freeze_layers_count=12)"
   ]
  },
  {
   "cell_type": "code",
   "execution_count": 6,
   "id": "386a074c-a8bc-4a42-ac24-75393cdce94a",
   "metadata": {},
   "outputs": [],
   "source": [
    "optimizer= AdamW(simcse.parameters(), lr=lr)\n",
    "simcse = simcse.to(device)"
   ]
  },
  {
   "cell_type": "code",
   "execution_count": 7,
   "id": "de0011ad-62d5-4d80-9f9a-4434eb746694",
   "metadata": {},
   "outputs": [
    {
     "name": "stdout",
     "output_type": "stream",
     "text": [
      "======  Epoch 1 ====== \n",
      " Training Loss: 0.29809127998352053, \t\t Training acc: 0.10799999535083771\n",
      "train correct :  tensor(81, device='cuda:0')\n",
      "train total : 750\n",
      " Validation Loss: 0.24140964579582214, \t\t Validation acc: 0.5090000033378601\n",
      "valid correct :  tensor(1527, device='cuda:0')\n",
      "valid total : 3000\n",
      "Validation Loss Decreased(inf--->0.241410) \t Saving The Model\n",
      "======  Epoch 2 ====== \n",
      " Training Loss: 0.19786713822682697, \t\t Training acc: 0.7573333382606506\n",
      "train correct :  tensor(568, device='cuda:0')\n",
      "train total : 750\n",
      " Validation Loss: 0.1756749922434489, \t\t Validation acc: 0.6816666722297668\n",
      "valid correct :  tensor(2045, device='cuda:0')\n",
      "valid total : 3000\n",
      "Validation Loss Decreased(0.241410--->0.175675) \t Saving The Model\n",
      "======  Epoch 3 ====== \n",
      " Training Loss: 0.12851947848002115, \t\t Training acc: 0.8920000195503235\n",
      "train correct :  tensor(669, device='cuda:0')\n",
      "train total : 750\n",
      " Validation Loss: 0.13255966862042745, \t\t Validation acc: 0.7109999656677246\n",
      "valid correct :  tensor(2133, device='cuda:0')\n",
      "valid total : 3000\n",
      "Validation Loss Decreased(0.175675--->0.132560) \t Saving The Model\n",
      "======  Epoch 4 ====== \n",
      " Training Loss: 0.0851724427541097, \t\t Training acc: 0.9266666769981384\n",
      "train correct :  tensor(695, device='cuda:0')\n",
      "train total : 750\n",
      " Validation Loss: 0.10762843624750773, \t\t Validation acc: 0.7409999966621399\n",
      "valid correct :  tensor(2223, device='cuda:0')\n",
      "valid total : 3000\n",
      "Validation Loss Decreased(0.132560--->0.107628) \t Saving The Model\n",
      "======  Epoch 5 ====== \n",
      " Training Loss: 0.056387912034988406, \t\t Training acc: 0.9653333425521851\n",
      "train correct :  tensor(724, device='cuda:0')\n",
      "train total : 750\n",
      " Validation Loss: 0.09256122362613678, \t\t Validation acc: 0.746666669845581\n",
      "valid correct :  tensor(2240, device='cuda:0')\n",
      "valid total : 3000\n",
      "Validation Loss Decreased(0.107628--->0.092561) \t Saving The Model\n",
      "======  Epoch 6 ====== \n",
      " Training Loss: 0.042280428449312846, \t\t Training acc: 0.9786666631698608\n",
      "train correct :  tensor(734, device='cuda:0')\n",
      "train total : 750\n",
      " Validation Loss: 0.08343516427278519, \t\t Validation acc: 0.7536666393280029\n",
      "valid correct :  tensor(2261, device='cuda:0')\n",
      "valid total : 3000\n",
      "Validation Loss Decreased(0.092561--->0.083435) \t Saving The Model\n",
      "======  Epoch 7 ====== \n",
      " Training Loss: 0.030352469364802043, \t\t Training acc: 0.9853333234786987\n",
      "train correct :  tensor(739, device='cuda:0')\n",
      "train total : 750\n",
      " Validation Loss: 0.07692720115184784, \t\t Validation acc: 0.7586666345596313\n",
      "valid correct :  tensor(2276, device='cuda:0')\n",
      "valid total : 3000\n",
      "Validation Loss Decreased(0.083435--->0.076927) \t Saving The Model\n",
      "======  Epoch 8 ====== \n",
      " Training Loss: 0.024122829099496205, \t\t Training acc: 0.981333315372467\n",
      "train correct :  tensor(736, device='cuda:0')\n",
      "train total : 750\n",
      " Validation Loss: 0.07260282464822133, \t\t Validation acc: 0.7606666684150696\n",
      "valid correct :  tensor(2282, device='cuda:0')\n",
      "valid total : 3000\n",
      "Validation Loss Decreased(0.076927--->0.072603) \t Saving The Model\n",
      "======  Epoch 9 ====== \n",
      " Training Loss: 0.018706337849299114, \t\t Training acc: 0.9919999837875366\n",
      "train correct :  tensor(744, device='cuda:0')\n",
      "train total : 750\n",
      " Validation Loss: 0.069609411885341, \t\t Validation acc: 0.7593333125114441\n",
      "valid correct :  tensor(2278, device='cuda:0')\n",
      "valid total : 3000\n",
      "Validation Loss Decreased(0.072603--->0.069609) \t Saving The Model\n",
      "======  Epoch 10 ====== \n",
      " Training Loss: 0.015683002769947052, \t\t Training acc: 0.9959999918937683\n",
      "train correct :  tensor(747, device='cuda:0')\n",
      "train total : 750\n",
      " Validation Loss: 0.0667270790040493, \t\t Validation acc: 0.765333354473114\n",
      "valid correct :  tensor(2296, device='cuda:0')\n",
      "valid total : 3000\n",
      "Validation Loss Decreased(0.069609--->0.066727) \t Saving The Model\n",
      "======  Epoch 11 ====== \n",
      " Training Loss: 0.013523067235946656, \t\t Training acc: 0.9973333477973938\n",
      "train correct :  tensor(748, device='cuda:0')\n",
      "train total : 750\n",
      " Validation Loss: 0.06496460824211439, \t\t Validation acc: 0.762333333492279\n",
      "valid correct :  tensor(2287, device='cuda:0')\n",
      "valid total : 3000\n",
      "Validation Loss Decreased(0.066727--->0.064965) \t Saving The Model\n",
      "======  Epoch 12 ====== \n",
      " Training Loss: 0.011537583927313487, \t\t Training acc: 0.9959999918937683\n",
      "train correct :  tensor(747, device='cuda:0')\n",
      "train total : 750\n",
      " Validation Loss: 0.06369823672374089, \t\t Validation acc: 0.7633333206176758\n",
      "valid correct :  tensor(2290, device='cuda:0')\n",
      "valid total : 3000\n",
      "Validation Loss Decreased(0.064965--->0.063698) \t Saving The Model\n",
      "======  Epoch 13 ====== \n",
      " Training Loss: 0.0098098790148894, \t\t Training acc: 0.9986666440963745\n",
      "train correct :  tensor(749, device='cuda:0')\n",
      "train total : 750\n",
      " Validation Loss: 0.06255268029371898, \t\t Validation acc: 0.7646666765213013\n",
      "valid correct :  tensor(2294, device='cuda:0')\n",
      "valid total : 3000\n",
      "Validation Loss Decreased(0.063698--->0.062553) \t Saving The Model\n",
      "======  Epoch 14 ====== \n",
      " Training Loss: 0.008582804501056671, \t\t Training acc: 0.9986666440963745\n",
      "train correct :  tensor(749, device='cuda:0')\n",
      "train total : 750\n",
      " Validation Loss: 0.06125469752152761, \t\t Validation acc: 0.7670000195503235\n",
      "valid correct :  tensor(2301, device='cuda:0')\n",
      "valid total : 3000\n",
      "Validation Loss Decreased(0.062553--->0.061255) \t Saving The Model\n",
      "======  Epoch 15 ====== \n",
      " Training Loss: 0.007966421196858088, \t\t Training acc: 0.9933333396911621\n",
      "train correct :  tensor(745, device='cuda:0')\n",
      "train total : 750\n",
      " Validation Loss: 0.06039157136778037, \t\t Validation acc: 0.7649999856948853\n",
      "valid correct :  tensor(2295, device='cuda:0')\n",
      "valid total : 3000\n",
      "Validation Loss Decreased(0.061255--->0.060392) \t Saving The Model\n",
      "======  Epoch 16 ====== \n",
      " Training Loss: 0.006760291218757629, \t\t Training acc: 1.0\n",
      "train correct :  tensor(750, device='cuda:0')\n",
      "train total : 750\n",
      " Validation Loss: 0.059833812554677325, \t\t Validation acc: 0.7670000195503235\n",
      "valid correct :  tensor(2301, device='cuda:0')\n",
      "valid total : 3000\n",
      "Validation Loss Decreased(0.060392--->0.059834) \t Saving The Model\n",
      "======  Epoch 17 ====== \n",
      " Training Loss: 0.006334119404355685, \t\t Training acc: 0.9986666440963745\n",
      "train correct :  tensor(749, device='cuda:0')\n",
      "train total : 750\n",
      " Validation Loss: 0.05891573543349902, \t\t Validation acc: 0.765999972820282\n",
      "valid correct :  tensor(2298, device='cuda:0')\n",
      "valid total : 3000\n",
      "Validation Loss Decreased(0.059834--->0.058916) \t Saving The Model\n",
      "======  Epoch 18 ====== \n",
      " Training Loss: 0.0056933100372552874, \t\t Training acc: 1.0\n",
      "train correct :  tensor(750, device='cuda:0')\n",
      "train total : 750\n",
      " Validation Loss: 0.058277824779351554, \t\t Validation acc: 0.768666684627533\n",
      "valid correct :  tensor(2306, device='cuda:0')\n",
      "valid total : 3000\n",
      "Validation Loss Decreased(0.058916--->0.058278) \t Saving The Model\n",
      "======  Epoch 19 ====== \n",
      " Training Loss: 0.005453598355253537, \t\t Training acc: 0.9986666440963745\n",
      "train correct :  tensor(749, device='cuda:0')\n",
      "train total : 750\n",
      " Validation Loss: 0.057974551270405454, \t\t Validation acc: 0.7636666297912598\n",
      "valid correct :  tensor(2291, device='cuda:0')\n",
      "valid total : 3000\n",
      "Validation Loss Decreased(0.058278--->0.057975) \t Saving The Model\n",
      "======  Epoch 20 ====== \n",
      " Training Loss: 0.004664651284615199, \t\t Training acc: 0.9986666440963745\n",
      "train correct :  tensor(749, device='cuda:0')\n",
      "train total : 750\n",
      " Validation Loss: 0.0571391660074393, \t\t Validation acc: 0.7683333158493042\n",
      "valid correct :  tensor(2305, device='cuda:0')\n",
      "valid total : 3000\n",
      "Validation Loss Decreased(0.057975--->0.057139) \t Saving The Model\n",
      "======  Epoch 21 ====== \n",
      " Training Loss: 0.004363954116900762, \t\t Training acc: 1.0\n",
      "train correct :  tensor(750, device='cuda:0')\n",
      "train total : 750\n",
      " Validation Loss: 0.05698539400100708, \t\t Validation acc: 0.768666684627533\n",
      "valid correct :  tensor(2306, device='cuda:0')\n",
      "valid total : 3000\n",
      "Validation Loss Decreased(0.057139--->0.056985) \t Saving The Model\n",
      "======  Epoch 22 ====== \n",
      " Training Loss: 0.00394186446070671, \t\t Training acc: 0.9986666440963745\n",
      "train correct :  tensor(749, device='cuda:0')\n",
      "train total : 750\n",
      " Validation Loss: 0.05682592351734638, \t\t Validation acc: 0.7696666717529297\n",
      "valid correct :  tensor(2309, device='cuda:0')\n",
      "valid total : 3000\n",
      "Validation Loss Decreased(0.056985--->0.056826) \t Saving The Model\n",
      "======  Epoch 23 ====== \n",
      " Training Loss: 0.0037646459887425107, \t\t Training acc: 1.0\n",
      "train correct :  tensor(750, device='cuda:0')\n",
      "train total : 750\n",
      " Validation Loss: 0.05635967725515366, \t\t Validation acc: 0.7723333239555359\n",
      "valid correct :  tensor(2317, device='cuda:0')\n",
      "valid total : 3000\n",
      "Validation Loss Decreased(0.056826--->0.056360) \t Saving The Model\n",
      "======  Epoch 24 ====== \n",
      " Training Loss: 0.0036828859945138297, \t\t Training acc: 1.0\n",
      "train correct :  tensor(750, device='cuda:0')\n",
      "train total : 750\n",
      " Validation Loss: 0.05589686752359072, \t\t Validation acc: 0.7713333368301392\n",
      "valid correct :  tensor(2314, device='cuda:0')\n",
      "valid total : 3000\n",
      "Validation Loss Decreased(0.056360--->0.055897) \t Saving The Model\n",
      "======  Epoch 25 ====== \n",
      " Training Loss: 0.0032997925877571105, \t\t Training acc: 1.0\n",
      "train correct :  tensor(750, device='cuda:0')\n",
      "train total : 750\n",
      " Validation Loss: 0.05602733313043912, \t\t Validation acc: 0.7730000019073486\n",
      "valid correct :  tensor(2319, device='cuda:0')\n",
      "valid total : 3000\n",
      "======  Epoch 26 ====== \n",
      " Training Loss: 0.002944714757303397, \t\t Training acc: 1.0\n",
      "train correct :  tensor(750, device='cuda:0')\n",
      "train total : 750\n",
      " Validation Loss: 0.05553476120034854, \t\t Validation acc: 0.7749999761581421\n",
      "valid correct :  tensor(2325, device='cuda:0')\n",
      "valid total : 3000\n",
      "Validation Loss Decreased(0.055897--->0.055535) \t Saving The Model\n",
      "======  Epoch 27 ====== \n",
      " Training Loss: 0.002985395518441995, \t\t Training acc: 1.0\n",
      "train correct :  tensor(750, device='cuda:0')\n",
      "train total : 750\n",
      " Validation Loss: 0.05547573612133662, \t\t Validation acc: 0.7706666588783264\n",
      "valid correct :  tensor(2312, device='cuda:0')\n",
      "valid total : 3000\n",
      "Validation Loss Decreased(0.055535--->0.055476) \t Saving The Model\n",
      "======  Epoch 28 ====== \n",
      " Training Loss: 0.0028687813133001327, \t\t Training acc: 0.9986666440963745\n",
      "train correct :  tensor(749, device='cuda:0')\n",
      "train total : 750\n",
      " Validation Loss: 0.055317414035399755, \t\t Validation acc: 0.7706666588783264\n",
      "valid correct :  tensor(2312, device='cuda:0')\n",
      "valid total : 3000\n",
      "Validation Loss Decreased(0.055476--->0.055317) \t Saving The Model\n",
      "======  Epoch 29 ====== \n",
      " Training Loss: 0.002506929804881414, \t\t Training acc: 1.0\n",
      "train correct :  tensor(750, device='cuda:0')\n",
      "train total : 750\n",
      " Validation Loss: 0.05541536344587803, \t\t Validation acc: 0.7716666460037231\n",
      "valid correct :  tensor(2315, device='cuda:0')\n",
      "valid total : 3000\n",
      "======  Epoch 30 ====== \n",
      " Training Loss: 0.0024756721407175066, \t\t Training acc: 0.9986666440963745\n",
      "train correct :  tensor(749, device='cuda:0')\n",
      "train total : 750\n",
      " Validation Loss: 0.05521462453405063, \t\t Validation acc: 0.7709999680519104\n",
      "valid correct :  tensor(2313, device='cuda:0')\n",
      "valid total : 3000\n",
      "Validation Loss Decreased(0.055317--->0.055215) \t Saving The Model\n"
     ]
    }
   ],
   "source": [
    "train_log, valid_log = train(exp_name,simcse,device,label_maps,optimizer,train_loader,valid_loader,train_data,valid_data,tokenizer,epochs=30)"
   ]
  },
  {
   "cell_type": "code",
   "execution_count": 8,
   "id": "28a6845f-9b45-4f89-bc55-10d5b2a8f75f",
   "metadata": {},
   "outputs": [
    {
     "data": {
      "text/plain": [
       "<matplotlib.legend.Legend at 0x7f3b09f715e0>"
      ]
     },
     "execution_count": 8,
     "metadata": {},
     "output_type": "execute_result"
    },
    {
     "data": {
      "image/png": "[encoded data removed]",
      "text/plain": [
       "<Figure size 432x288 with 2 Axes>"
      ]
     },
     "metadata": {
      "needs_background": "light"
     },
     "output_type": "display_data"
    }
   ],
   "source": [
    "fig, (ax1, ax2) = plt.subplots(2)\n",
    "fig.suptitle('Show by freezing 12 layers')\n",
    "ax1.plot(torch.tensor(train_log[0] , device = 'cpu').tolist())\n",
    "ax1.plot(torch.tensor(valid_log[0] , device = 'cpu').tolist())\n",
    "ax1.legend(['train_acc','validation_acc'])\n",
    "ax2.plot(torch.tensor(train_log[1] , device = 'cpu').tolist())\n",
    "ax2.plot(torch.tensor(valid_log[1] , device = 'cpu').tolist())\n",
    "ax2.legend(['train_loss','validation_loss'])"
   ]
  },
  {
   "cell_type": "code",
   "execution_count": 9,
   "id": "00ef3eac-0ff0-4f4e-b9f2-d7cc9f8c3316",
   "metadata": {},
   "outputs": [
    {
     "name": "stdout",
     "output_type": "stream",
     "text": [
      "correct : 3416\n",
      "total : 4500\n"
     ]
    }
   ],
   "source": [
    "test_acc = test(simcse,device,label_maps,test_loader,len(test_data),tokenizer)"
   ]
  },
  {
   "cell_type": "code",
   "execution_count": 10,
   "id": "785a5508-1057-4001-93a9-5a44ba7a6ae6",
   "metadata": {},
   "outputs": [
    {
     "name": "stdout",
     "output_type": "stream",
     "text": [
      "Accuracy : 75.91111111111111 %\n"
     ]
    }
   ],
   "source": [
    "print(f'Accuracy : {100 * test_acc} %') "
   ]
  },
  {
   "cell_type": "code",
   "execution_count": 12,
   "id": "faf2d2e7-1f5d-4916-af6b-abbc439e108b",
   "metadata": {},
   "outputs": [
    {
     "name": "stderr",
     "output_type": "stream",
     "text": [
      "Some weights of BertForSequenceClassification were not initialized from the model checkpoint at princeton-nlp/unsup-simcse-bert-base-uncased and are newly initialized: ['classifier.bias', 'classifier.weight']\n",
      "You should probably TRAIN this model on a down-stream task to be able to use it for predictions and inference.\n"
     ]
    }
   ],
   "source": [
    "PATH = f'../../../fewshot_models/{exp_name}.pth'\n",
    "best_model = AutoModelForSequenceClassification.from_pretrained(\"princeton-nlp/unsup-simcse-bert-base-uncased\",config=config)\n",
    "# Model class must be defined somewhere\n",
    "best_model.load_state_dict(torch.load(PATH))\n",
    "best_model = best_model.to(device)"
   ]
  },
  {
   "cell_type": "code",
   "execution_count": 13,
   "id": "1c9cf0b9-3bee-4af6-972f-172bc6a40dd9",
   "metadata": {},
   "outputs": [
    {
     "name": "stdout",
     "output_type": "stream",
     "text": [
      "correct : 3416\n",
      "total : 4500\n"
     ]
    }
   ],
   "source": [
    "test_acc = test(best_model,device=device,label_maps=label_maps,test_loader=test_loader,data_size=len(test_data),tokenizer=tokenizer)"
   ]
  },
  {
   "cell_type": "code",
   "execution_count": 14,
   "id": "8916534d-4f3c-4060-b585-3032f2262ad1",
   "metadata": {},
   "outputs": [
    {
     "name": "stdout",
     "output_type": "stream",
     "text": [
      "Accuracy : 75.91111111111111 %\n"
     ]
    }
   ],
   "source": [
    "print(f'Accuracy : {100 * test_acc} %') "
   ]
  },
  {
   "cell_type": "code",
   "execution_count": null,
   "id": "ede2704c-d0db-4616-8ca6-47f0e00cb873",
   "metadata": {},
   "outputs": [],
   "source": []
  }
 ],
 "metadata": {
  "kernelspec": {
   "display_name": "Python 3 (ipykernel)",
   "language": "python",
   "name": "python3"
  },
  "language_info": {
   "codemirror_mode": {
    "name": "ipython",
    "version": 3
   },
   "file_extension": ".py",
   "mimetype": "text/x-python",
   "name": "python",
   "nbconvert_exporter": "python",
   "pygments_lexer": "ipython3",
   "version": "3.9.7"
  }
 },
 "nbformat": 4,
 "nbformat_minor": 5
}
