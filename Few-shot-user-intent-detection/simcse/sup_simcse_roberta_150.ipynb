{
 "cells": [
  {
   "cell_type": "code",
   "execution_count": 1,
   "id": "51622bae-a7a0-4622-a266-1e0918bcab3a",
   "metadata": {},
   "outputs": [],
   "source": [
    "import os\n",
    "import numpy as np\n",
    "import torch\n",
    "import torch.nn as nn\n",
    "from torch.utils.data import Dataset, DataLoader\n",
    "from transformers import RobertaConfig, RobertaModel, RobertaTokenizer, RobertaForSequenceClassification\n",
    "from transformers import AdamW\n",
    "import random\n",
    "from IPython.display import clear_output\n",
    "import matplotlib.pyplot as plt\n",
    "from collections import OrderedDict\n",
    "from scipy.spatial.distance import cosine\n",
    "from sim_utils import load_examples, Inputexample, CustomTextDataset, freeze_layers, train, test\n",
    "from transformers import AutoModelForSequenceClassification, TrainingArguments, Trainer, AutoConfig, AutoModel, AutoTokenizer\n",
    "from transformers import AutoModelForSequenceClassification, TrainingArguments, Trainer, AutoConfig\n",
    "\n",
    "#comment this if you are not using puffer\n",
    "os.environ['http_proxy'] = 'http://192.41.170.23:3128'\n",
    "os.environ['https_proxy'] = 'http://192.41.170.23:3128'"
   ]
  },
  {
   "cell_type": "code",
   "execution_count": 2,
   "id": "e365ee63-74ce-421f-964b-b644b9fdc131",
   "metadata": {},
   "outputs": [],
   "source": [
    "N = 5\n",
    "data = []\n",
    "labels = []\n",
    "\n",
    "train_samples = []\n",
    "train_labels = []\n",
    "\n",
    "valid_samples = []\n",
    "valid_labels = []\n",
    "\n",
    "test_samples = []\n",
    "test_labels = []\n",
    "\n",
    "embed_dim = 768\n",
    "batch_size = 16 \n",
    "lr=2e-3  # you can adjust \n",
    "temp = 0.3  # you can adjust \n",
    "lamda = 0.01  # you can adjust  \n",
    "skip_time = 0 # the number of time that yi not equal to yj in supervised contrastive loss equation \n",
    "data_name = 'CLINC150'\n",
    "model_name = 'sup-simcse-roberta'\n",
    "shot_name = 'train_5'\n",
    "exp_name = f'{model_name}_lr={lr}_t={temp}_{data_name}_{shot_name}'\n",
    "device = torch.device('cuda:1' if torch.cuda.is_available() else 'cpu')"
   ]
  },
  {
   "cell_type": "markdown",
   "id": "e7834a94-e081-43b7-ae60-dc44593a24e7",
   "metadata": {},
   "source": [
    "Path example of train, validation and test "
   ]
  },
  {
   "cell_type": "code",
   "execution_count": 3,
   "id": "e58a34c6",
   "metadata": {},
   "outputs": [
    {
     "name": "stdout",
     "output_type": "stream",
     "text": [
      "train path :  ../../../../Thesis/CLINC150/train_5/\n",
      "valid path :  ../../../../Thesis/CLINC150/valid/\n",
      "test path  :  ../../../../Thesis/CLINC150/test/\n",
      "experiment code name : sup-simcse-roberta_lr=0.002_t=0.3_CLINC150_train_5\n"
     ]
    }
   ],
   "source": [
    "path_shot = f'../../../../Thesis/{data_name}/{shot_name}/'\n",
    "valid_path = f'../../../../Thesis/{data_name}/valid/'\n",
    "test_path = f'../../../../Thesis/{data_name}/test/'\n",
    "print(\"train path : \",path_shot)\n",
    "print(\"valid path : \",valid_path)\n",
    "print(\"test path  : \",test_path)\n",
    "print(\"experiment code name :\",exp_name)"
   ]
  },
  {
   "cell_type": "code",
   "execution_count": 4,
   "id": "cc0b272e-288d-45da-bd17-438ffd3b959d",
   "metadata": {},
   "outputs": [
    {
     "name": "stdout",
     "output_type": "stream",
     "text": [
      "===== small train set ====\n",
      "Train on Cross Entropy loss\n",
      "len of dataset : 750\n",
      "===== validation set ====\n",
      "Train on Cross Entropy loss\n",
      "len of dataset : 3000\n",
      "===== test set ====\n",
      "Train on Cross Entropy loss\n",
      "len of dataset : 4500\n",
      "number of class : 150\n"
     ]
    }
   ],
   "source": [
    "# Download data fewshot \n",
    "# https://downgit.github.io/#/home?url=https:%2F%2Fgithub.com%2Fjianguoz%2FFew-Shot-Intent-Detection%2Ftree%2Fmain%2FDatasets%2FHWU64\n",
    "\n",
    "# load data\n",
    "train_samples = load_examples(path_shot)\n",
    "valid_samples = load_examples(valid_path)\n",
    "test_samples = load_examples(test_path)\n",
    "\n",
    "\n",
    "print(\"===== small train set ====\")\n",
    "\n",
    "for i in range(len(train_samples)):\n",
    "    data.append(train_samples[i].text)\n",
    "    labels.append(train_samples[i].label)\n",
    "\n",
    "\n",
    "train_data = CustomTextDataset(labels,data,batch_size=batch_size,repeated_label=False)\n",
    "train_loader = DataLoader(train_data,batch_size=batch_size,shuffle=True)\n",
    "\n",
    "\n",
    "\n",
    "print(\"===== validation set ====\")\n",
    "\n",
    "data = []\n",
    "labels = []\n",
    "\n",
    "for i in range(len(valid_samples)):\n",
    "    data.append(valid_samples[i].text)\n",
    "    labels.append(valid_samples[i].label)\n",
    "\n",
    "valid_data = CustomTextDataset(labels,data,batch_size=batch_size,repeated_label=False)\n",
    "valid_loader = DataLoader(valid_data,batch_size=batch_size,shuffle=True)\n",
    "\n",
    "\n",
    "\n",
    "print(\"===== test set ====\")\n",
    "\n",
    "data = []\n",
    "labels = []\n",
    "    \n",
    "for i in range(len(test_samples)):\n",
    "    data.append(test_samples[i].text)\n",
    "    labels.append(test_samples[i].label)\n",
    "\n",
    "test_data = CustomTextDataset(labels,data,batch_size=batch_size,repeated_label=False)\n",
    "test_loader = DataLoader(test_data,batch_size=batch_size,shuffle=True)\n",
    "\n",
    "\n",
    "\n",
    "# got the number of unique classes from dataset\n",
    "num_class = len(np.unique(np.array(labels)))\n",
    "\n",
    "# get text label of uniqure classes\n",
    "unique_label = np.unique(np.array(labels))\n",
    "\n",
    "# map text label to index classes\n",
    "label_maps = {unique_label[i]: i for i in range(len(unique_label))}\n",
    "\n",
    "print(\"number of class :\",num_class)"
   ]
  },
  {
   "cell_type": "code",
   "execution_count": 5,
   "id": "f44c9979-022c-45a4-acc5-2a4c7637b4bf",
   "metadata": {},
   "outputs": [
    {
     "data": {
      "application/vnd.jupyter.widget-view+json": {
       "model_id": "880005752817467ab0fbe33731a59da5",
       "version_major": 2,
       "version_minor": 0
      },
      "text/plain": [
       "Downloading:   0%|          | 0.00/255 [00:00<?, ?B/s]"
      ]
     },
     "metadata": {},
     "output_type": "display_data"
    },
    {
     "data": {
      "application/vnd.jupyter.widget-view+json": {
       "model_id": "8a4f8775fdec4467bdb2cc8322157ef6",
       "version_major": 2,
       "version_minor": 0
      },
      "text/plain": [
       "Downloading:   0%|          | 0.00/738 [00:00<?, ?B/s]"
      ]
     },
     "metadata": {},
     "output_type": "display_data"
    },
    {
     "data": {
      "application/vnd.jupyter.widget-view+json": {
       "model_id": "c83c3b0ab5df4367a0b0da1673bd7bfc",
       "version_major": 2,
       "version_minor": 0
      },
      "text/plain": [
       "Downloading:   0%|          | 0.00/780k [00:00<?, ?B/s]"
      ]
     },
     "metadata": {},
     "output_type": "display_data"
    },
    {
     "data": {
      "application/vnd.jupyter.widget-view+json": {
       "model_id": "cfed867d55c743a0a0c768ddf9024351",
       "version_major": 2,
       "version_minor": 0
      },
      "text/plain": [
       "Downloading:   0%|          | 0.00/446k [00:00<?, ?B/s]"
      ]
     },
     "metadata": {},
     "output_type": "display_data"
    },
    {
     "data": {
      "application/vnd.jupyter.widget-view+json": {
       "model_id": "9d52f4a7e5884ee38604ba643b790f80",
       "version_major": 2,
       "version_minor": 0
      },
      "text/plain": [
       "Downloading:   0%|          | 0.00/239 [00:00<?, ?B/s]"
      ]
     },
     "metadata": {},
     "output_type": "display_data"
    },
    {
     "data": {
      "application/vnd.jupyter.widget-view+json": {
       "model_id": "8fa2c107ae044ab7beb093897acbba55",
       "version_major": 2,
       "version_minor": 0
      },
      "text/plain": [
       "Downloading:   0%|          | 0.00/476M [00:00<?, ?B/s]"
      ]
     },
     "metadata": {},
     "output_type": "display_data"
    },
    {
     "name": "stderr",
     "output_type": "stream",
     "text": [
      "Some weights of the model checkpoint at princeton-nlp/sup-simcse-roberta-base were not used when initializing RobertaForSequenceClassification: ['pooler.dense.weight', 'pooler.dense.bias']\n",
      "- This IS expected if you are initializing RobertaForSequenceClassification from the checkpoint of a model trained on another task or with another architecture (e.g. initializing a BertForSequenceClassification model from a BertForPreTraining model).\n",
      "- This IS NOT expected if you are initializing RobertaForSequenceClassification from the checkpoint of a model that you expect to be exactly identical (initializing a BertForSequenceClassification model from a BertForSequenceClassification model).\n",
      "Some weights of RobertaForSequenceClassification were not initialized from the model checkpoint at princeton-nlp/sup-simcse-roberta-base and are newly initialized: ['classifier.dense.weight', 'classifier.dense.bias', 'classifier.out_proj.bias', 'classifier.out_proj.weight']\n",
      "You should probably TRAIN this model on a down-stream task to be able to use it for predictions and inference.\n"
     ]
    },
    {
     "name": "stdout",
     "output_type": "stream",
     "text": [
      "classifier.dense.weight\n",
      "classifier.dense.bias\n",
      "classifier.out_proj.weight\n",
      "classifier.out_proj.bias\n"
     ]
    }
   ],
   "source": [
    "tokenizer = AutoTokenizer.from_pretrained(\"princeton-nlp/sup-simcse-roberta-base\")\n",
    "config = AutoConfig.from_pretrained(\"princeton-nlp/sup-simcse-roberta-base\")\n",
    "config.num_labels = num_class\n",
    "simcse = AutoModelForSequenceClassification.from_pretrained(\"princeton-nlp/sup-simcse-roberta-base\",config=config)\n",
    "simcse = freeze_layers(simcse,freeze_layers_count=12)"
   ]
  },
  {
   "cell_type": "code",
   "execution_count": 6,
   "id": "386a074c-a8bc-4a42-ac24-75393cdce94a",
   "metadata": {},
   "outputs": [],
   "source": [
    "optimizer= AdamW(simcse.parameters(), lr=lr)\n",
    "simcse = simcse.to(device)"
   ]
  },
  {
   "cell_type": "code",
   "execution_count": 7,
   "id": "de0011ad-62d5-4d80-9f9a-4434eb746694",
   "metadata": {},
   "outputs": [
    {
     "name": "stdout",
     "output_type": "stream",
     "text": [
      "======  Epoch 1 ====== \n",
      " Training Loss: 0.277322003364563, \t\t Training acc: 0.11733333021402359\n",
      "train correct :  tensor(88, device='cuda:1')\n",
      "train total : 750\n",
      " Validation Loss: 0.15952577714125316, \t\t Validation acc: 0.5049999952316284\n",
      "valid correct :  tensor(1515, device='cuda:1')\n",
      "valid total : 3000\n",
      "Validation Loss Decreased(inf--->0.159526) \t Saving The Model\n",
      "======  Epoch 2 ====== \n",
      " Training Loss: 0.1028877371152242, \t\t Training acc: 0.687999963760376\n",
      "train correct :  tensor(516, device='cuda:1')\n",
      "train total : 750\n",
      " Validation Loss: 0.07136059266328812, \t\t Validation acc: 0.7279999852180481\n",
      "valid correct :  tensor(2184, device='cuda:1')\n",
      "valid total : 3000\n",
      "Validation Loss Decreased(0.159526--->0.071361) \t Saving The Model\n",
      "======  Epoch 3 ====== \n",
      " Training Loss: 0.036696045478185016, \t\t Training acc: 0.8786666393280029\n",
      "train correct :  tensor(659, device='cuda:1')\n",
      "train total : 750\n",
      " Validation Loss: 0.05501470226049423, \t\t Validation acc: 0.7696666717529297\n",
      "valid correct :  tensor(2309, device='cuda:1')\n",
      "valid total : 3000\n",
      "Validation Loss Decreased(0.071361--->0.055015) \t Saving The Model\n",
      "======  Epoch 4 ====== \n",
      " Training Loss: 0.01887679463624954, \t\t Training acc: 0.9453333020210266\n",
      "train correct :  tensor(709, device='cuda:1')\n",
      "train total : 750\n",
      " Validation Loss: 0.04345495096842448, \t\t Validation acc: 0.8173333406448364\n",
      "valid correct :  tensor(2452, device='cuda:1')\n",
      "valid total : 3000\n",
      "Validation Loss Decreased(0.055015--->0.043455) \t Saving The Model\n",
      "======  Epoch 5 ====== \n",
      " Training Loss: 0.00980917325615883, \t\t Training acc: 0.9706666469573975\n",
      "train correct :  tensor(728, device='cuda:1')\n",
      "train total : 750\n",
      " Validation Loss: 0.040327439670761425, \t\t Validation acc: 0.8196666836738586\n",
      "valid correct :  tensor(2459, device='cuda:1')\n",
      "valid total : 3000\n",
      "Validation Loss Decreased(0.043455--->0.040327) \t Saving The Model\n",
      "======  Epoch 6 ====== \n",
      " Training Loss: 0.00814922324816386, \t\t Training acc: 0.9760000109672546\n",
      "train correct :  tensor(732, device='cuda:1')\n",
      "train total : 750\n",
      " Validation Loss: 0.04168777591735125, \t\t Validation acc: 0.8226666450500488\n",
      "valid correct :  tensor(2468, device='cuda:1')\n",
      "valid total : 3000\n",
      "======  Epoch 7 ====== \n",
      " Training Loss: 0.0055816792100667955, \t\t Training acc: 0.9853333234786987\n",
      "train correct :  tensor(739, device='cuda:1')\n",
      "train total : 750\n",
      " Validation Loss: 0.0367472066655755, \t\t Validation acc: 0.8410000205039978\n",
      "valid correct :  tensor(2523, device='cuda:1')\n",
      "valid total : 3000\n",
      "Validation Loss Decreased(0.040327--->0.036747) \t Saving The Model\n",
      "======  Epoch 8 ====== \n",
      " Training Loss: 0.0031472399160265923, \t\t Training acc: 0.9919999837875366\n",
      "train correct :  tensor(744, device='cuda:1')\n",
      "train total : 750\n",
      " Validation Loss: 0.034243851255625485, \t\t Validation acc: 0.8539999723434448\n",
      "valid correct :  tensor(2562, device='cuda:1')\n",
      "valid total : 3000\n",
      "Validation Loss Decreased(0.036747--->0.034244) \t Saving The Model\n",
      "======  Epoch 9 ====== \n",
      " Training Loss: 0.0028069477590421834, \t\t Training acc: 0.9946666359901428\n",
      "train correct :  tensor(746, device='cuda:1')\n",
      "train total : 750\n",
      " Validation Loss: 0.03847158158818881, \t\t Validation acc: 0.8399999737739563\n",
      "valid correct :  tensor(2520, device='cuda:1')\n",
      "valid total : 3000\n",
      "======  Epoch 10 ====== \n",
      " Training Loss: 0.0034595710212985673, \t\t Training acc: 0.9893333315849304\n",
      "train correct :  tensor(742, device='cuda:1')\n",
      "train total : 750\n",
      " Validation Loss: 0.03493548645824194, \t\t Validation acc: 0.8466666340827942\n",
      "valid correct :  tensor(2540, device='cuda:1')\n",
      "valid total : 3000\n",
      "======  Epoch 11 ====== \n",
      " Training Loss: 0.0020348247463504473, \t\t Training acc: 0.9933333396911621\n",
      "train correct :  tensor(745, device='cuda:1')\n",
      "train total : 750\n",
      " Validation Loss: 0.03473166666304072, \t\t Validation acc: 0.8446666598320007\n",
      "valid correct :  tensor(2534, device='cuda:1')\n",
      "valid total : 3000\n",
      "======  Epoch 12 ====== \n",
      " Training Loss: 0.0021813960118840137, \t\t Training acc: 0.9933333396911621\n",
      "train correct :  tensor(745, device='cuda:1')\n",
      "train total : 750\n",
      " Validation Loss: 0.03461040457586447, \t\t Validation acc: 0.8449999690055847\n",
      "valid correct :  tensor(2535, device='cuda:1')\n",
      "valid total : 3000\n",
      "======  Epoch 13 ====== \n",
      " Training Loss: 0.002468712362771233, \t\t Training acc: 0.9959999918937683\n",
      "train correct :  tensor(747, device='cuda:1')\n",
      "train total : 750\n",
      " Validation Loss: 0.03641705455134312, \t\t Validation acc: 0.8456666469573975\n",
      "valid correct :  tensor(2537, device='cuda:1')\n",
      "valid total : 3000\n",
      "======  Epoch 14 ====== \n",
      " Training Loss: 0.0032930863965302706, \t\t Training acc: 0.9879999756813049\n",
      "train correct :  tensor(741, device='cuda:1')\n",
      "train total : 750\n",
      " Validation Loss: 0.03638133003935218, \t\t Validation acc: 0.8446666598320007\n",
      "valid correct :  tensor(2534, device='cuda:1')\n",
      "valid total : 3000\n",
      "======  Epoch 15 ====== \n",
      " Training Loss: 0.0030298591579000153, \t\t Training acc: 0.9879999756813049\n",
      "train correct :  tensor(741, device='cuda:1')\n",
      "train total : 750\n",
      " Validation Loss: 0.03727977856248617, \t\t Validation acc: 0.8349999785423279\n",
      "valid correct :  tensor(2505, device='cuda:1')\n",
      "valid total : 3000\n",
      "======  Epoch 16 ====== \n",
      " Training Loss: 0.004175914098819097, \t\t Training acc: 0.9893333315849304\n",
      "train correct :  tensor(742, device='cuda:1')\n",
      "train total : 750\n",
      " Validation Loss: 0.04031498942586283, \t\t Validation acc: 0.828000009059906\n",
      "valid correct :  tensor(2484, device='cuda:1')\n",
      "valid total : 3000\n",
      "======  Epoch 17 ====== \n",
      " Training Loss: 0.002082003849868973, \t\t Training acc: 0.9933333396911621\n",
      "train correct :  tensor(745, device='cuda:1')\n",
      "train total : 750\n",
      " Validation Loss: 0.04014091945936282, \t\t Validation acc: 0.8366666436195374\n",
      "valid correct :  tensor(2510, device='cuda:1')\n",
      "valid total : 3000\n",
      "======  Epoch 18 ====== \n",
      " Training Loss: 0.002321084286396702, \t\t Training acc: 0.9906666278839111\n",
      "train correct :  tensor(743, device='cuda:1')\n",
      "train total : 750\n",
      " Validation Loss: 0.03496727415919304, \t\t Validation acc: 0.8466666340827942\n",
      "valid correct :  tensor(2540, device='cuda:1')\n",
      "valid total : 3000\n",
      "======  Epoch 19 ====== \n",
      " Training Loss: 0.002048297865316272, \t\t Training acc: 0.9919999837875366\n",
      "train correct :  tensor(744, device='cuda:1')\n",
      "train total : 750\n",
      " Validation Loss: 0.04060358948633075, \t\t Validation acc: 0.8299999833106995\n",
      "valid correct :  tensor(2490, device='cuda:1')\n",
      "valid total : 3000\n",
      "======  Epoch 20 ====== \n",
      " Training Loss: 0.002075313277542591, \t\t Training acc: 0.9906666278839111\n",
      "train correct :  tensor(743, device='cuda:1')\n",
      "train total : 750\n",
      " Validation Loss: 0.0405503668859601, \t\t Validation acc: 0.8240000009536743\n",
      "valid correct :  tensor(2472, device='cuda:1')\n",
      "valid total : 3000\n",
      "======  Epoch 21 ====== \n",
      " Training Loss: 0.0022595610935240984, \t\t Training acc: 0.9919999837875366\n",
      "train correct :  tensor(744, device='cuda:1')\n",
      "train total : 750\n",
      " Validation Loss: 0.04288603040203452, \t\t Validation acc: 0.8193333148956299\n",
      "valid correct :  tensor(2458, device='cuda:1')\n",
      "valid total : 3000\n",
      "======  Epoch 22 ====== \n",
      " Training Loss: 0.0027324241654326517, \t\t Training acc: 0.9906666278839111\n",
      "train correct :  tensor(743, device='cuda:1')\n",
      "train total : 750\n",
      " Validation Loss: 0.042029348069181044, \t\t Validation acc: 0.8289999961853027\n",
      "valid correct :  tensor(2487, device='cuda:1')\n",
      "valid total : 3000\n",
      "======  Epoch 23 ====== \n",
      " Training Loss: 0.0054351361536731325, \t\t Training acc: 0.9879999756813049\n",
      "train correct :  tensor(741, device='cuda:1')\n",
      "train total : 750\n",
      " Validation Loss: 0.05318311946342389, \t\t Validation acc: 0.8019999861717224\n",
      "valid correct :  tensor(2406, device='cuda:1')\n",
      "valid total : 3000\n",
      "======  Epoch 24 ====== \n",
      " Training Loss: 0.00589237819891423, \t\t Training acc: 0.9853333234786987\n",
      "train correct :  tensor(739, device='cuda:1')\n",
      "train total : 750\n",
      " Validation Loss: 0.04855873043090105, \t\t Validation acc: 0.7989999651908875\n",
      "valid correct :  tensor(2397, device='cuda:1')\n",
      "valid total : 3000\n",
      "======  Epoch 25 ====== \n",
      " Training Loss: 0.004488130340352655, \t\t Training acc: 0.9800000190734863\n",
      "train correct :  tensor(735, device='cuda:1')\n",
      "train total : 750\n",
      " Validation Loss: 0.047500976085662845, \t\t Validation acc: 0.8040000200271606\n",
      "valid correct :  tensor(2412, device='cuda:1')\n",
      "valid total : 3000\n",
      "======  Epoch 26 ====== \n",
      " Training Loss: 0.005221295467577875, \t\t Training acc: 0.9760000109672546\n",
      "train correct :  tensor(732, device='cuda:1')\n",
      "train total : 750\n",
      " Validation Loss: 0.06535664125780265, \t\t Validation acc: 0.762666642665863\n",
      "valid correct :  tensor(2288, device='cuda:1')\n",
      "valid total : 3000\n",
      "======  Epoch 27 ====== \n",
      " Training Loss: 0.005880277040724953, \t\t Training acc: 0.9706666469573975\n",
      "train correct :  tensor(728, device='cuda:1')\n",
      "train total : 750\n",
      " Validation Loss: 0.05599635491023461, \t\t Validation acc: 0.784333348274231\n",
      "valid correct :  tensor(2353, device='cuda:1')\n",
      "valid total : 3000\n",
      "======  Epoch 28 ====== \n",
      " Training Loss: 0.005381855838621656, \t\t Training acc: 0.9826666712760925\n",
      "train correct :  tensor(737, device='cuda:1')\n",
      "train total : 750\n",
      " Validation Loss: 0.05673821289464832, \t\t Validation acc: 0.7826666831970215\n",
      "valid correct :  tensor(2348, device='cuda:1')\n",
      "valid total : 3000\n",
      "======  Epoch 29 ====== \n",
      " Training Loss: 0.004698828931276997, \t\t Training acc: 0.9800000190734863\n",
      "train correct :  tensor(735, device='cuda:1')\n",
      "train total : 750\n",
      " Validation Loss: 0.0623056425328056, \t\t Validation acc: 0.7836666703224182\n",
      "valid correct :  tensor(2351, device='cuda:1')\n",
      "valid total : 3000\n",
      "======  Epoch 30 ====== \n",
      " Training Loss: 0.0054369189762510355, \t\t Training acc: 0.9773333072662354\n",
      "train correct :  tensor(733, device='cuda:1')\n",
      "train total : 750\n",
      " Validation Loss: 0.06865249344706535, \t\t Validation acc: 0.7590000033378601\n",
      "valid correct :  tensor(2277, device='cuda:1')\n",
      "valid total : 3000\n"
     ]
    }
   ],
   "source": [
    "train_log, valid_log = train(exp_name,simcse,device,label_maps,optimizer,train_loader,valid_loader,train_data,valid_data,tokenizer,epochs=30)"
   ]
  },
  {
   "cell_type": "code",
   "execution_count": 8,
   "id": "28a6845f-9b45-4f89-bc55-10d5b2a8f75f",
   "metadata": {},
   "outputs": [
    {
     "data": {
      "text/plain": [
       "<matplotlib.legend.Legend at 0x7f81195998e0>"
      ]
     },
     "execution_count": 8,
     "metadata": {},
     "output_type": "execute_result"
    },
    {
     "data": {
      "image/png": "[encoded data removed]",
      "text/plain": [
       "<Figure size 432x288 with 2 Axes>"
      ]
     },
     "metadata": {
      "needs_background": "light"
     },
     "output_type": "display_data"
    }
   ],
   "source": [
    "fig, (ax1, ax2) = plt.subplots(2)\n",
    "fig.suptitle('Show by freezing 12 layers')\n",
    "ax1.plot(torch.tensor(train_log[0] , device = 'cpu').tolist())\n",
    "ax1.plot(torch.tensor(valid_log[0] , device = 'cpu').tolist())\n",
    "ax1.legend(['train_acc','validation_acc'])\n",
    "ax2.plot(torch.tensor(train_log[1] , device = 'cpu').tolist())\n",
    "ax2.plot(torch.tensor(valid_log[1] , device = 'cpu').tolist())\n",
    "ax2.legend(['train_loss','validation_loss'])"
   ]
  },
  {
   "cell_type": "code",
   "execution_count": 9,
   "id": "00ef3eac-0ff0-4f4e-b9f2-d7cc9f8c3316",
   "metadata": {},
   "outputs": [
    {
     "name": "stdout",
     "output_type": "stream",
     "text": [
      "correct : 3391\n",
      "total : 4500\n"
     ]
    }
   ],
   "source": [
    "test_acc = test(simcse,device,label_maps,test_loader,len(test_data),tokenizer)"
   ]
  },
  {
   "cell_type": "code",
   "execution_count": 10,
   "id": "785a5508-1057-4001-93a9-5a44ba7a6ae6",
   "metadata": {},
   "outputs": [
    {
     "name": "stdout",
     "output_type": "stream",
     "text": [
      "Accuracy : 75.35555555555555 %\n"
     ]
    }
   ],
   "source": [
    "print(f'Accuracy : {100 * test_acc} %') "
   ]
  },
  {
   "cell_type": "code",
   "execution_count": 11,
   "id": "2aa12de0-8051-4c26-9bd4-1fd0760e7201",
   "metadata": {},
   "outputs": [
    {
     "name": "stdout",
     "output_type": "stream",
     "text": [
      "huggingface/tokenizers: The current process just got forked, after parallelism has already been used. Disabling parallelism to avoid deadlocks...\n",
      "To disable this warning, you can either:\n",
      "\t- Avoid using `tokenizers` before the fork if possible\n",
      "\t- Explicitly set the environment variable TOKENIZERS_PARALLELISM=(true | false)\n",
      " {exp_name}.pth        'simcse_unsup_lr=0.002_t=0.3_CLINC150_train_5.pth'\n",
      " model_64_train_5.pth  'sup-simcse-roberta_lr=0.002_t=0.3_CLINC150_train_5.pth'\n",
      " model_77_train_5.pth  'unsup-simcse-bert_lr=0.002_t=0.3_CLINC150_train_5.pth'\n",
      " saved_model.pth\n"
     ]
    }
   ],
   "source": [
    "!ls ../../../fewshot_models/"
   ]
  },
  {
   "cell_type": "code",
   "execution_count": 15,
   "id": "faf2d2e7-1f5d-4916-af6b-abbc439e108b",
   "metadata": {},
   "outputs": [
    {
     "name": "stderr",
     "output_type": "stream",
     "text": [
      "Some weights of the model checkpoint at princeton-nlp/sup-simcse-roberta-base were not used when initializing RobertaForSequenceClassification: ['pooler.dense.weight', 'pooler.dense.bias']\n",
      "- This IS expected if you are initializing RobertaForSequenceClassification from the checkpoint of a model trained on another task or with another architecture (e.g. initializing a BertForSequenceClassification model from a BertForPreTraining model).\n",
      "- This IS NOT expected if you are initializing RobertaForSequenceClassification from the checkpoint of a model that you expect to be exactly identical (initializing a BertForSequenceClassification model from a BertForSequenceClassification model).\n",
      "Some weights of RobertaForSequenceClassification were not initialized from the model checkpoint at princeton-nlp/sup-simcse-roberta-base and are newly initialized: ['classifier.dense.weight', 'classifier.dense.bias', 'classifier.out_proj.bias', 'classifier.out_proj.weight']\n",
      "You should probably TRAIN this model on a down-stream task to be able to use it for predictions and inference.\n"
     ]
    }
   ],
   "source": [
    "PATH = f'../../../fewshot_models/{exp_name}.pth'\n",
    "best_model = AutoModelForSequenceClassification.from_pretrained(\"princeton-nlp/sup-simcse-roberta-base\",config=config)\n",
    "# Model class must be defined somewhere\n",
    "best_model.load_state_dict(torch.load(PATH))\n",
    "best_model = best_model.to(device)"
   ]
  },
  {
   "cell_type": "code",
   "execution_count": 16,
   "id": "b7abc09f-8bd4-4c7a-b680-e405fab3f905",
   "metadata": {},
   "outputs": [
    {
     "name": "stdout",
     "output_type": "stream",
     "text": [
      "correct : 3746\n",
      "total : 4500\n"
     ]
    }
   ],
   "source": [
    "test_acc = test(best_model,device=device,label_maps=label_maps,test_loader=test_loader,data_size=len(test_data),tokenizer=tokenizer)"
   ]
  },
  {
   "cell_type": "code",
   "execution_count": 17,
   "id": "4e81bc4c-07ff-440e-9068-8753dd0bd9f8",
   "metadata": {},
   "outputs": [
    {
     "name": "stdout",
     "output_type": "stream",
     "text": [
      "Accuracy : 83.24444444444444 %\n"
     ]
    }
   ],
   "source": [
    "print(f'Accuracy : {100 * test_acc} %') "
   ]
  },
  {
   "cell_type": "code",
   "execution_count": null,
   "id": "ede2704c-d0db-4616-8ca6-47f0e00cb873",
   "metadata": {},
   "outputs": [],
   "source": []
  }
 ],
 "metadata": {
  "kernelspec": {
   "display_name": "Python 3 (ipykernel)",
   "language": "python",
   "name": "python3"
  },
  "language_info": {
   "codemirror_mode": {
    "name": "ipython",
    "version": 3
   },
   "file_extension": ".py",
   "mimetype": "text/x-python",
   "name": "python",
   "nbconvert_exporter": "python",
   "pygments_lexer": "ipython3",
   "version": "3.9.7"
  }
 },
 "nbformat": 4,
 "nbformat_minor": 5
}
