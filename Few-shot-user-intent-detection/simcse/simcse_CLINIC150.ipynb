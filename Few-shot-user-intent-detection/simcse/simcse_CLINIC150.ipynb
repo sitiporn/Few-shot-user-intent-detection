{
 "cells": [
  {
   "cell_type": "code",
   "execution_count": null,
   "id": "8c96d0d4",
   "metadata": {},
   "outputs": [
    {
     "ename": "ImportError",
     "evalue": "cannot import name 'AutoTokenize' from 'transformers' (/opt/conda/lib/python3.9/site-packages/transformers/__init__.py)",
     "output_type": "error",
     "traceback": [
      "\u001b[0;31m---------------------------------------------------------------------------\u001b[0m",
      "\u001b[0;31mImportError\u001b[0m                               Traceback (most recent call last)",
      "\u001b[0;32m/tmp/ipykernel_424/1365989492.py\u001b[0m in \u001b[0;36m<module>\u001b[0;34m\u001b[0m\n\u001b[1;32m     10\u001b[0m \u001b[0;32mfrom\u001b[0m \u001b[0mcollections\u001b[0m \u001b[0;32mimport\u001b[0m \u001b[0mOrderedDict\u001b[0m\u001b[0;34m\u001b[0m\u001b[0;34m\u001b[0m\u001b[0m\n\u001b[1;32m     11\u001b[0m \u001b[0;32mfrom\u001b[0m \u001b[0mscipy\u001b[0m\u001b[0;34m.\u001b[0m\u001b[0mspatial\u001b[0m\u001b[0;34m.\u001b[0m\u001b[0mdistance\u001b[0m \u001b[0;32mimport\u001b[0m \u001b[0mcosine\u001b[0m\u001b[0;34m\u001b[0m\u001b[0;34m\u001b[0m\u001b[0m\n\u001b[0;32m---> 12\u001b[0;31m \u001b[0;32mfrom\u001b[0m \u001b[0mtransformers\u001b[0m \u001b[0;32mimport\u001b[0m \u001b[0mAutoModel\u001b[0m\u001b[0;34m,\u001b[0m \u001b[0mAutoTokenize\u001b[0m\u001b[0;34m\u001b[0m\u001b[0;34m\u001b[0m\u001b[0m\n\u001b[0m\u001b[1;32m     13\u001b[0m \u001b[0;32mfrom\u001b[0m \u001b[0msim_utils\u001b[0m \u001b[0;32mimport\u001b[0m \u001b[0mload_examples\u001b[0m\u001b[0;34m,\u001b[0m \u001b[0mInputexample\u001b[0m\u001b[0;34m,\u001b[0m \u001b[0mCustomTextDataset\u001b[0m\u001b[0;34m,\u001b[0m \u001b[0mfreeze_layers\u001b[0m\u001b[0;34m,\u001b[0m \u001b[0mtrain\u001b[0m\u001b[0;34m,\u001b[0m \u001b[0mtest\u001b[0m\u001b[0;34m\u001b[0m\u001b[0;34m\u001b[0m\u001b[0m\n",
      "\u001b[0;31mImportError\u001b[0m: cannot import name 'AutoTokenize' from 'transformers' (/opt/conda/lib/python3.9/site-packages/transformers/__init__.py)"
     ]
    }
   ],
   "source": [
    "\n",
    "import numpy as np\n",
    "import torch\n",
    "import torch.nn as nn\n",
    "from torch.utils.data import Dataset, DataLoader\n",
    "from transformers import RobertaConfig, RobertaModel, RobertaTokenizer, RobertaForSequenceClassification\n",
    "from transformers import AdamW\n",
    "import random\n",
    "from IPython.display import clear_output\n",
    "import matplotlib.pyplot as plt\n",
    "from collections import OrderedDict\n",
    "from scipy.spatial.distance import cosine\n",
    "from transformers import AutoModel, AutoTokenize\n"
   ]
  },
  {
   "cell_type": "code",
   "execution_count": 2,
   "id": "e365ee63-74ce-421f-964b-b644b9fdc131",
   "metadata": {},
   "outputs": [],
   "source": [
    "N = 5\n",
    "data = []\n",
    "labels = []\n",
    "\n",
    "train_samples = []\n",
    "train_labels = []\n",
    "\n",
    "valid_samples = []\n",
    "valid_labels = []\n",
    "\n",
    "test_samples = []\n",
    "test_labels = []\n",
    "\n",
    "embed_dim = 768\n",
    "batch_size = 16\n",
    "lr=2e-3  # you can adjust \n",
    "temp = 0.3  # you can adjust \n",
    "lamda = 0.01  # you can adjust  \n",
    "skip_time = 0 # the number of time that yi not equal to yj in supervised contrastive loss equation \n",
    "device = torch.device('cuda:2' if torch.cuda.is_available() else 'cpu')"
   ]
  },
  {
   "cell_type": "markdown",
   "id": "6a3f507e-cb1d-4f05-baeb-89871d78a068",
   "metadata": {},
   "source": [
    "### The Aim of these training is to fine tuning on few shot setting on text classification task"
   ]
  },
  {
   "cell_type": "markdown",
   "id": "68cf4a20-f3c3-4725-928e-2ddb847daea8",
   "metadata": {},
   "source": [
    "Path example of train, validation and test "
   ]
  },
  {
   "cell_type": "code",
   "execution_count": 3,
   "id": "e58a34c6",
   "metadata": {},
   "outputs": [],
   "source": [
    "path_5shot = f'../../../../Thesis/CLINC150/train_5/'\n",
    "valid_path = f'../../../../Thesis/CLINC150/valid/'\n",
    "test_path = f'../../../../Thesis/CLINC150//test/'"
   ]
  },
  {
   "cell_type": "code",
   "execution_count": 4,
   "id": "d3b4755c-3204-4e26-98e7-de46077b84ee",
   "metadata": {},
   "outputs": [],
   "source": [
    "# Import our models. The package will take care of downloading the models automatically\n",
    "tokenizer = AutoTokenizer.from_pretrained(\"princeton-nlp/sup-simcse-bert-base-uncased\")"
   ]
  },
  {
   "cell_type": "code",
   "execution_count": 5,
   "id": "cc0b272e-288d-45da-bd17-438ffd3b959d",
   "metadata": {},
   "outputs": [
    {
     "name": "stdout",
     "output_type": "stream",
     "text": [
      "===== small train set ====\n",
      "Train on Cross Entropy loss\n",
      "len of dataset : 750\n",
      "===== validation set ====\n",
      "Train on Cross Entropy loss\n",
      "len of dataset : 3000\n",
      "===== test set ====\n",
      "Train on Cross Entropy loss\n",
      "len of dataset : 4500\n"
     ]
    }
   ],
   "source": [
    "# Download data fewshot \n",
    "# https://downgit.github.io/#/home?url=https:%2F%2Fgithub.com%2Fjianguoz%2FFew-Shot-Intent-Detection%2Ftree%2Fmain%2FDatasets%2FHWU64\n",
    "\n",
    "# load data\n",
    "train_samples = load_examples(path_5shot)\n",
    "valid_samples = load_examples(valid_path)\n",
    "test_samples = load_examples(test_path)\n",
    "\n",
    "\n",
    "print(\"===== small train set ====\")\n",
    "\n",
    "for i in range(len(train_samples)):\n",
    "    data.append(train_samples[i].text)\n",
    "    labels.append(train_samples[i].label)\n",
    "\n",
    "\n",
    "train_data = CustomTextDataset(labels,data,batch_size=batch_size,repeated_label=False)\n",
    "train_loader = DataLoader(train_data,batch_size=batch_size,shuffle=True)\n",
    "\n",
    "\n",
    "\n",
    "print(\"===== validation set ====\")\n",
    "\n",
    "data = []\n",
    "labels = []\n",
    "\n",
    "for i in range(len(valid_samples)):\n",
    "    data.append(valid_samples[i].text)\n",
    "    labels.append(valid_samples[i].label)\n",
    "\n",
    "valid_data = CustomTextDataset(labels,data,batch_size=batch_size,repeated_label=False)\n",
    "valid_loader = DataLoader(valid_data,batch_size=batch_size,shuffle=True)\n",
    "\n",
    "\n",
    "\n",
    "print(\"===== test set ====\")\n",
    "\n",
    "data = []\n",
    "labels = []\n",
    "    \n",
    "for i in range(len(test_samples)):\n",
    "    data.append(test_samples[i].text)\n",
    "    labels.append(test_samples[i].label)\n",
    "\n",
    "test_data = CustomTextDataset(labels,data,batch_size=batch_size,repeated_label=False)\n",
    "test_loader = DataLoader(test_data,batch_size=batch_size,shuffle=True)\n",
    "\n",
    "\n",
    "\n",
    "# got the number of unique classes from dataset\n",
    "num_class = len(np.unique(np.array(labels)))\n",
    "\n",
    "# get text label of uniqure classes\n",
    "unique_label = np.unique(np.array(labels))\n",
    "\n",
    "# map text label to index classes\n",
    "label_maps = {unique_label[i]: i for i in range(len(unique_label))}"
   ]
  },
  {
   "cell_type": "code",
   "execution_count": 6,
   "id": "3c071bbb-faa0-4e7d-a3a9-8aa05a093039",
   "metadata": {},
   "outputs": [],
   "source": [
    "tokenizer = AutoTokenizer.from_pretrained('bert-base-uncased')\n",
    "simcse = AutoModel.from_pretrained(\"princeton-nlp/sup-simcse-bert-base-uncased\")\n",
    "config = AutoConfig.from_pretrained(\"bert-base-uncased\")\n",
    "config.num_labels = 150\n",
    "model = AutoModelForSequenceClassification.from_config(config)"
   ]
  },
  {
   "cell_type": "code",
   "execution_count": 7,
   "id": "6dcdd28d-d203-40bd-a684-02289964b843",
   "metadata": {},
   "outputs": [
    {
     "name": "stdout",
     "output_type": "stream",
     "text": [
      "Done with feed old weight to new architecure\n"
     ]
    }
   ],
   "source": [
    "with torch.no_grad():\n",
    "    \n",
    "    for new_name, new_param in model.named_parameters():\n",
    "\n",
    "        new_keys = new_name.split(\".\")\n",
    "\n",
    "        for old_name, old_param in simcse.named_parameters():\n",
    "\n",
    "            old_keys = old_name.split(\".\")\n",
    "\n",
    "            if new_keys[1:] == old_keys:\n",
    "                # print(\"-----------------------\")\n",
    "                # print(new_keys[1:])\n",
    "                # print(old_keys)\n",
    "                # print(\"-----------------------\")\n",
    "                # if new_param.shape == old_param.shape\n",
    "                # feed old weight to new network\n",
    "                model.state_dict()[new_name].data.copy_(old_param)\n",
    "                \n",
    "                assert torch.all(model.state_dict()[new_name] == simcse.state_dict()[old_name])\n",
    "                                \n",
    "print(\"Done with feed old weight to new architecure\")     "
   ]
  },
  {
   "cell_type": "code",
   "execution_count": 8,
   "id": "36aceb20-a97a-4945-abba-67bac08c5c46",
   "metadata": {},
   "outputs": [
    {
     "name": "stdout",
     "output_type": "stream",
     "text": [
      "classifier.weight\n",
      "classifier.bias\n"
     ]
    }
   ],
   "source": [
    "model = freeze_layers(model,freeze_layers_count=12)"
   ]
  },
  {
   "cell_type": "code",
   "execution_count": 9,
   "id": "386a074c-a8bc-4a42-ac24-75393cdce94a",
   "metadata": {},
   "outputs": [],
   "source": [
    "optimizer= AdamW(model.parameters(), lr=lr)\n",
    "model = model.to(device)"
   ]
  },
  {
   "cell_type": "code",
   "execution_count": 10,
   "id": "de0011ad-62d5-4d80-9f9a-4434eb746694",
   "metadata": {},
   "outputs": [
    {
     "name": "stdout",
     "output_type": "stream",
     "text": [
      "======  Epoch 1 ====== \n",
      " Training Loss: 0.2992645041147868, \t\t Training acc: 0.13066665828227997\n",
      "train correct :  tensor(98, device='cuda:2')\n",
      "train total : 750\n",
      " Validation Loss: 0.25042287302017213, \t\t Validation acc: 0.515333354473114\n",
      "valid correct :  tensor(1546, device='cuda:2')\n",
      "valid total : 3000\n",
      "Validation Loss Decreased(inf--->0.250423) \t Saving The Model\n",
      "======  Epoch 2 ====== \n",
      " Training Loss: 0.21215808137257894, \t\t Training acc: 0.7573333382606506\n",
      "train correct :  tensor(568, device='cuda:2')\n",
      "train total : 750\n",
      " Validation Loss: 0.1898254632949829, \t\t Validation acc: 0.7099999785423279\n",
      "valid correct :  tensor(2130, device='cuda:2')\n",
      "valid total : 3000\n",
      "Validation Loss Decreased(0.250423--->0.189825) \t Saving The Model\n",
      "======  Epoch 3 ====== \n",
      " Training Loss: 0.14895673497517903, \t\t Training acc: 0.890666663646698\n",
      "train correct :  tensor(668, device='cuda:2')\n",
      "train total : 750\n",
      " Validation Loss: 0.1458679322799047, \t\t Validation acc: 0.7676666378974915\n",
      "valid correct :  tensor(2303, device='cuda:2')\n",
      "valid total : 3000\n",
      "Validation Loss Decreased(0.189825--->0.145868) \t Saving The Model\n",
      "======  Epoch 4 ====== \n",
      " Training Loss: 0.10236827754974365, \t\t Training acc: 0.9333333373069763\n",
      "train correct :  tensor(700, device='cuda:2')\n",
      "train total : 750\n",
      " Validation Loss: 0.11531416670481363, \t\t Validation acc: 0.8046666383743286\n",
      "valid correct :  tensor(2414, device='cuda:2')\n",
      "valid total : 3000\n",
      "Validation Loss Decreased(0.145868--->0.115314) \t Saving The Model\n",
      "======  Epoch 5 ====== \n",
      " Training Loss: 0.07182072623570761, \t\t Training acc: 0.9639999866485596\n",
      "train correct :  tensor(723, device='cuda:2')\n",
      "train total : 750\n",
      " Validation Loss: 0.09592670317490895, \t\t Validation acc: 0.8116666674613953\n",
      "valid correct :  tensor(2435, device='cuda:2')\n",
      "valid total : 3000\n",
      "Validation Loss Decreased(0.115314--->0.095927) \t Saving The Model\n",
      "======  Epoch 6 ====== \n",
      " Training Loss: 0.05218481461207072, \t\t Training acc: 0.9760000109672546\n",
      "train correct :  tensor(732, device='cuda:2')\n",
      "train total : 750\n",
      " Validation Loss: 0.08315524590015412, \t\t Validation acc: 0.8206666707992554\n",
      "valid correct :  tensor(2462, device='cuda:2')\n",
      "valid total : 3000\n",
      "Validation Loss Decreased(0.095927--->0.083155) \t Saving The Model\n",
      "======  Epoch 7 ====== \n",
      " Training Loss: 0.039545700232187904, \t\t Training acc: 0.9786666631698608\n",
      "train correct :  tensor(734, device='cuda:2')\n",
      "train total : 750\n",
      " Validation Loss: 0.07456706784168879, \t\t Validation acc: 0.8243333101272583\n",
      "valid correct :  tensor(2473, device='cuda:2')\n",
      "valid total : 3000\n",
      "Validation Loss Decreased(0.083155--->0.074567) \t Saving The Model\n",
      "======  Epoch 8 ====== \n",
      " Training Loss: 0.030485580881436665, \t\t Training acc: 0.9839999675750732\n",
      "train correct :  tensor(738, device='cuda:2')\n",
      "train total : 750\n",
      " Validation Loss: 0.06830291706323624, \t\t Validation acc: 0.8339999914169312\n",
      "valid correct :  tensor(2502, device='cuda:2')\n",
      "valid total : 3000\n",
      "Validation Loss Decreased(0.074567--->0.068303) \t Saving The Model\n",
      "======  Epoch 9 ====== \n",
      " Training Loss: 0.0248020844856898, \t\t Training acc: 0.9906666278839111\n",
      "train correct :  tensor(743, device='cuda:2')\n",
      "train total : 750\n",
      " Validation Loss: 0.0638128869732221, \t\t Validation acc: 0.8299999833106995\n",
      "valid correct :  tensor(2490, device='cuda:2')\n",
      "valid total : 3000\n",
      "Validation Loss Decreased(0.068303--->0.063813) \t Saving The Model\n",
      "======  Epoch 10 ====== \n",
      " Training Loss: 0.020553184886773428, \t\t Training acc: 0.9879999756813049\n",
      "train correct :  tensor(741, device='cuda:2')\n",
      "train total : 750\n",
      " Validation Loss: 0.06047784477472305, \t\t Validation acc: 0.8316666483879089\n",
      "valid correct :  tensor(2495, device='cuda:2')\n",
      "valid total : 3000\n",
      "Validation Loss Decreased(0.063813--->0.060478) \t Saving The Model\n",
      "======  Epoch 11 ====== \n",
      " Training Loss: 0.016809610148270926, \t\t Training acc: 0.9946666359901428\n",
      "train correct :  tensor(746, device='cuda:2')\n",
      "train total : 750\n",
      " Validation Loss: 0.05771314361691475, \t\t Validation acc: 0.8336666822433472\n",
      "valid correct :  tensor(2501, device='cuda:2')\n",
      "valid total : 3000\n",
      "Validation Loss Decreased(0.060478--->0.057713) \t Saving The Model\n",
      "======  Epoch 12 ====== \n",
      " Training Loss: 0.01444791320959727, \t\t Training acc: 0.9946666359901428\n",
      "train correct :  tensor(746, device='cuda:2')\n",
      "train total : 750\n",
      " Validation Loss: 0.055620770851771036, \t\t Validation acc: 0.8296666741371155\n",
      "valid correct :  tensor(2489, device='cuda:2')\n",
      "valid total : 3000\n",
      "Validation Loss Decreased(0.057713--->0.055621) \t Saving The Model\n",
      "======  Epoch 13 ====== \n",
      " Training Loss: 0.012795020858446757, \t\t Training acc: 0.9973333477973938\n",
      "train correct :  tensor(748, device='cuda:2')\n",
      "train total : 750\n",
      " Validation Loss: 0.053644192258516944, \t\t Validation acc: 0.8306666612625122\n",
      "valid correct :  tensor(2492, device='cuda:2')\n",
      "valid total : 3000\n",
      "Validation Loss Decreased(0.055621--->0.053644) \t Saving The Model\n",
      "======  Epoch 14 ====== \n",
      " Training Loss: 0.010835100342830022, \t\t Training acc: 0.9986666440963745\n",
      "train correct :  tensor(749, device='cuda:2')\n",
      "train total : 750\n",
      " Validation Loss: 0.052336190770069756, \t\t Validation acc: 0.8339999914169312\n",
      "valid correct :  tensor(2502, device='cuda:2')\n",
      "valid total : 3000\n",
      "Validation Loss Decreased(0.053644--->0.052336) \t Saving The Model\n",
      "======  Epoch 15 ====== \n",
      " Training Loss: 0.009545387427012126, \t\t Training acc: 0.9986666440963745\n",
      "train correct :  tensor(749, device='cuda:2')\n",
      "train total : 750\n",
      " Validation Loss: 0.050801202525695165, \t\t Validation acc: 0.8343333005905151\n",
      "valid correct :  tensor(2503, device='cuda:2')\n",
      "valid total : 3000\n",
      "Validation Loss Decreased(0.052336--->0.050801) \t Saving The Model\n",
      "======  Epoch 16 ====== \n",
      " Training Loss: 0.008601512024799982, \t\t Training acc: 1.0\n",
      "train correct :  tensor(750, device='cuda:2')\n",
      "train total : 750\n",
      " Validation Loss: 0.04963820788264275, \t\t Validation acc: 0.8349999785423279\n",
      "valid correct :  tensor(2505, device='cuda:2')\n",
      "valid total : 3000\n",
      "Validation Loss Decreased(0.050801--->0.049638) \t Saving The Model\n",
      "======  Epoch 17 ====== \n",
      " Training Loss: 0.00775314994653066, \t\t Training acc: 0.9973333477973938\n",
      "train correct :  tensor(748, device='cuda:2')\n",
      "train total : 750\n",
      " Validation Loss: 0.04882013632853826, \t\t Validation acc: 0.8309999704360962\n",
      "valid correct :  tensor(2493, device='cuda:2')\n",
      "valid total : 3000\n",
      "Validation Loss Decreased(0.049638--->0.048820) \t Saving The Model\n",
      "======  Epoch 18 ====== \n",
      " Training Loss: 0.006852656493584315, \t\t Training acc: 0.9986666440963745\n",
      "train correct :  tensor(749, device='cuda:2')\n",
      "train total : 750\n",
      " Validation Loss: 0.04786046497027079, \t\t Validation acc: 0.8353333473205566\n",
      "valid correct :  tensor(2506, device='cuda:2')\n",
      "valid total : 3000\n",
      "Validation Loss Decreased(0.048820--->0.047860) \t Saving The Model\n",
      "======  Epoch 19 ====== \n",
      " Training Loss: 0.006488966623942057, \t\t Training acc: 0.9986666440963745\n",
      "train correct :  tensor(749, device='cuda:2')\n",
      "train total : 750\n",
      " Validation Loss: 0.047085362171133356, \t\t Validation acc: 0.8353333473205566\n",
      "valid correct :  tensor(2506, device='cuda:2')\n",
      "valid total : 3000\n",
      "Validation Loss Decreased(0.047860--->0.047085) \t Saving The Model\n",
      "======  Epoch 20 ====== \n",
      " Training Loss: 0.005923971071839332, \t\t Training acc: 0.9986666440963745\n",
      "train correct :  tensor(749, device='cuda:2')\n",
      "train total : 750\n",
      " Validation Loss: 0.04655061809221903, \t\t Validation acc: 0.8343333005905151\n",
      "valid correct :  tensor(2503, device='cuda:2')\n",
      "valid total : 3000\n",
      "Validation Loss Decreased(0.047085--->0.046551) \t Saving The Model\n",
      "======  Epoch 21 ====== \n",
      " Training Loss: 0.005462313696742058, \t\t Training acc: 0.9986666440963745\n",
      "train correct :  tensor(749, device='cuda:2')\n",
      "train total : 750\n",
      " Validation Loss: 0.04612147770325343, \t\t Validation acc: 0.8320000171661377\n",
      "valid correct :  tensor(2496, device='cuda:2')\n",
      "valid total : 3000\n",
      "Validation Loss Decreased(0.046551--->0.046121) \t Saving The Model\n",
      "======  Epoch 22 ====== \n",
      " Training Loss: 0.004952880874276161, \t\t Training acc: 1.0\n",
      "train correct :  tensor(750, device='cuda:2')\n",
      "train total : 750\n",
      " Validation Loss: 0.04547571886579196, \t\t Validation acc: 0.8339999914169312\n",
      "valid correct :  tensor(2502, device='cuda:2')\n",
      "valid total : 3000\n",
      "Validation Loss Decreased(0.046121--->0.045476) \t Saving The Model\n",
      "======  Epoch 23 ====== \n",
      " Training Loss: 0.004608102063337962, \t\t Training acc: 1.0\n",
      "train correct :  tensor(750, device='cuda:2')\n",
      "train total : 750\n",
      " Validation Loss: 0.0450686366657416, \t\t Validation acc: 0.831333339214325\n",
      "valid correct :  tensor(2494, device='cuda:2')\n",
      "valid total : 3000\n",
      "Validation Loss Decreased(0.045476--->0.045069) \t Saving The Model\n",
      "======  Epoch 24 ====== \n",
      " Training Loss: 0.0042427157163619994, \t\t Training acc: 1.0\n",
      "train correct :  tensor(750, device='cuda:2')\n",
      "train total : 750\n",
      " Validation Loss: 0.04470991381506125, \t\t Validation acc: 0.8336666822433472\n",
      "valid correct :  tensor(2501, device='cuda:2')\n",
      "valid total : 3000\n",
      "Validation Loss Decreased(0.045069--->0.044710) \t Saving The Model\n",
      "======  Epoch 25 ====== \n",
      " Training Loss: 0.003845845930278301, \t\t Training acc: 1.0\n",
      "train correct :  tensor(750, device='cuda:2')\n",
      "train total : 750\n",
      " Validation Loss: 0.04411569820841153, \t\t Validation acc: 0.8346666693687439\n",
      "valid correct :  tensor(2504, device='cuda:2')\n",
      "valid total : 3000\n",
      "Validation Loss Decreased(0.044710--->0.044116) \t Saving The Model\n",
      "======  Epoch 26 ====== \n",
      " Training Loss: 0.0037661843796571097, \t\t Training acc: 1.0\n",
      "train correct :  tensor(750, device='cuda:2')\n",
      "train total : 750\n",
      " Validation Loss: 0.04382756814360619, \t\t Validation acc: 0.8326666355133057\n",
      "valid correct :  tensor(2498, device='cuda:2')\n",
      "valid total : 3000\n",
      "Validation Loss Decreased(0.044116--->0.043828) \t Saving The Model\n",
      "======  Epoch 27 ====== \n",
      " Training Loss: 0.003518874314924081, \t\t Training acc: 1.0\n",
      "train correct :  tensor(750, device='cuda:2')\n",
      "train total : 750\n",
      " Validation Loss: 0.043767827257514, \t\t Validation acc: 0.8320000171661377\n",
      "valid correct :  tensor(2496, device='cuda:2')\n",
      "valid total : 3000\n",
      "Validation Loss Decreased(0.043828--->0.043768) \t Saving The Model\n",
      "======  Epoch 28 ====== \n",
      " Training Loss: 0.003184806113441785, \t\t Training acc: 1.0\n",
      "train correct :  tensor(750, device='cuda:2')\n",
      "train total : 750\n",
      " Validation Loss: 0.04322067435085773, \t\t Validation acc: 0.8336666822433472\n",
      "valid correct :  tensor(2501, device='cuda:2')\n",
      "valid total : 3000\n",
      "Validation Loss Decreased(0.043768--->0.043221) \t Saving The Model\n",
      "======  Epoch 29 ====== \n",
      " Training Loss: 0.0032319580788413684, \t\t Training acc: 1.0\n",
      "train correct :  tensor(750, device='cuda:2')\n",
      "train total : 750\n",
      " Validation Loss: 0.0429301374455293, \t\t Validation acc: 0.8323333263397217\n",
      "valid correct :  tensor(2497, device='cuda:2')\n",
      "valid total : 3000\n",
      "Validation Loss Decreased(0.043221--->0.042930) \t Saving The Model\n",
      "======  Epoch 30 ====== \n",
      " Training Loss: 0.0028923576201001803, \t\t Training acc: 1.0\n",
      "train correct :  tensor(750, device='cuda:2')\n",
      "train total : 750\n",
      " Validation Loss: 0.04266026241580645, \t\t Validation acc: 0.8323333263397217\n",
      "valid correct :  tensor(2497, device='cuda:2')\n",
      "valid total : 3000\n",
      "Validation Loss Decreased(0.042930--->0.042660) \t Saving The Model\n"
     ]
    }
   ],
   "source": [
    "train_log, valid_log = train(model,device,label_maps,optimizer,train_loader,valid_loader,train_data,valid_data,tokenizer=tokenizer,epochs=30)"
   ]
  },
  {
   "cell_type": "code",
   "execution_count": 11,
   "id": "28a6845f-9b45-4f89-bc55-10d5b2a8f75f",
   "metadata": {},
   "outputs": [
    {
     "data": {
      "text/plain": [
       "<matplotlib.legend.Legend at 0x7fb562ab0520>"
      ]
     },
     "execution_count": 11,
     "metadata": {},
     "output_type": "execute_result"
    },
    {
     "data": {
      "image/png": "[encoded data removed]",
      "text/plain": [
       "<Figure size 432x288 with 2 Axes>"
      ]
     },
     "metadata": {
      "needs_background": "light"
     },
     "output_type": "display_data"
    }
   ],
   "source": [
    "fig, (ax1, ax2) = plt.subplots(2)\n",
    "fig.suptitle('Show by freezing 12 layers')\n",
    "ax1.plot(torch.tensor(train_log[0] , device = 'cpu').tolist())\n",
    "ax1.plot(torch.tensor(valid_log[0] , device = 'cpu').tolist())\n",
    "ax1.legend(['train_acc','validation_acc'])\n",
    "ax2.plot(torch.tensor(train_log[1] , device = 'cpu').tolist())\n",
    "ax2.plot(torch.tensor(valid_log[1] , device = 'cpu').tolist())\n",
    "ax2.legend(['train_loss','validation_loss'])"
   ]
  },
  {
   "cell_type": "code",
   "execution_count": 13,
   "id": "00ef3eac-0ff0-4f4e-b9f2-d7cc9f8c3316",
   "metadata": {},
   "outputs": [
    {
     "name": "stdout",
     "output_type": "stream",
     "text": [
      "correct : 3719\n",
      "total : 4500\n"
     ]
    }
   ],
   "source": [
    "test_acc = test(model,device=device,label_maps=label_maps,test_loader=test_loader,data_size=len(test_data),tokenizer=tokenizer)"
   ]
  },
  {
   "cell_type": "code",
   "execution_count": 14,
   "id": "785a5508-1057-4001-93a9-5a44ba7a6ae6",
   "metadata": {},
   "outputs": [
    {
     "name": "stdout",
     "output_type": "stream",
     "text": [
      "Accuracy : 82.64444444444445 %\n"
     ]
    }
   ],
   "source": [
    "print(f'Accuracy : {100 * test_acc} %') "
   ]
  },
  {
   "cell_type": "code",
   "execution_count": 26,
   "id": "eb1be65b-7048-4032-9587-9dc737d25f91",
   "metadata": {},
   "outputs": [],
   "source": [
    "PATH = f'../../../fewshot_models/saved_model.pth'\n",
    "best_model = AutoModelForSequenceClassification.from_config(config)\n",
    "# Model class must be defined somewhere\n",
    "best_model.load_state_dict(torch.load(PATH))\n",
    "best_model = best_model.to(device)"
   ]
  },
  {
   "cell_type": "code",
   "execution_count": 27,
   "id": "8f360c0e-8779-427c-966f-6b055ae13195",
   "metadata": {},
   "outputs": [
    {
     "name": "stdout",
     "output_type": "stream",
     "text": [
      "correct : 3634\n",
      "total : 4500\n"
     ]
    }
   ],
   "source": [
    "test_acc = test(best_model,device=device,label_maps=label_maps,test_loader=test_loader,data_size=len(test_data),tokenizer=tokenizer)"
   ]
  },
  {
   "cell_type": "code",
   "execution_count": 28,
   "id": "f3e951d4-d479-464b-b671-085e2f58b81e",
   "metadata": {},
   "outputs": [
    {
     "name": "stdout",
     "output_type": "stream",
     "text": [
      "Accuracy : 80.75555555555556 %\n"
     ]
    }
   ],
   "source": [
    "print(f'Accuracy : {100 * test_acc} %') "
   ]
  },
  {
   "cell_type": "code",
   "execution_count": null,
   "id": "9a0b9cd0-d60c-4bcd-93dc-3378ad90e82b",
   "metadata": {},
   "outputs": [],
   "source": []
  }
 ],
 "metadata": {
  "kernelspec": {
   "display_name": "Python 3 (ipykernel)",
   "language": "python",
   "name": "python3"
  },
  "language_info": {
   "codemirror_mode": {
    "name": "ipython",
    "version": 3
   },
   "file_extension": ".py",
   "mimetype": "text/x-python",
   "name": "python",
   "nbconvert_exporter": "python",
   "pygments_lexer": "ipython3",
   "version": "3.9.7"
  }
 },
 "nbformat": 4,
 "nbformat_minor": 5
}
