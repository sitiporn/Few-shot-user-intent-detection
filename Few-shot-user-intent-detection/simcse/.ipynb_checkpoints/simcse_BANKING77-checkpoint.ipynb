{
 "cells": [
  {
   "cell_type": "code",
   "execution_count": 31,
   "id": "4185799e-f90c-4278-b3e9-ded22a43533f",
   "metadata": {},
   "outputs": [],
   "source": [
    "import os\n",
    "import numpy as np\n",
    "import torch\n",
    "import torch.nn as nn\n",
    "from torch.utils.data import Dataset, DataLoader\n",
    "from transformers import RobertaConfig, RobertaModel, RobertaTokenizer, RobertaForSequenceClassification\n",
    "from transformers import AdamW\n",
    "import random\n",
    "from IPython.display import clear_output\n",
    "import matplotlib.pyplot as plt\n",
    "from collections import OrderedDict\n",
    "from scipy.spatial.distance import cosine\n",
    "from sim_utils import load_examples, Inputexample, CustomTextDataset, freeze_layers, train, test\n",
    "from transformers import AutoModelForSequenceClassification, TrainingArguments, Trainer, AutoConfig, AutoModel, AutoTokenizer\n",
    "#comment this if you are not using puffer\n",
    "os.environ['http_proxy'] = 'http://192.41.170.23:3128'\n",
    "os.environ['https_proxy'] = 'http://192.41.170.23:3128'"
   ]
  },
  {
   "cell_type": "code",
   "execution_count": 7,
   "id": "e365ee63-74ce-421f-964b-b644b9fdc131",
   "metadata": {},
   "outputs": [],
   "source": [
    "N = 5\n",
    "data = []\n",
    "labels = []\n",
    "\n",
    "train_samples = []\n",
    "train_labels = []\n",
    "\n",
    "valid_samples = []\n",
    "valid_labels = []\n",
    "\n",
    "test_samples = []\n",
    "test_labels = []\n",
    "\n",
    "embed_dim = 768\n",
    "batch_size = 4 \n",
    "lr=2e-3  # you can adjust \n",
    "temp = 0.3  # you can adjust \n",
    "lamda = 0.01  # you can adjust  \n",
    "skip_time = 0 # the number of time that yi not equal to yj in supervised contrastive loss equation \n",
    "device = torch.device('cuda:3' if torch.cuda.is_available() else 'cpu')"
   ]
  },
  {
   "cell_type": "markdown",
   "id": "6a3f507e-cb1d-4f05-baeb-89871d78a068",
   "metadata": {},
   "source": [
    "### The Aim of these training is to fine tuning on few shot setting on text classification task"
   ]
  },
  {
   "cell_type": "markdown",
   "id": "68cf4a20-f3c3-4725-928e-2ddb847daea8",
   "metadata": {},
   "source": [
    "Path example of train, validation and test "
   ]
  },
  {
   "cell_type": "code",
   "execution_count": 8,
   "id": "e58a34c6",
   "metadata": {},
   "outputs": [],
   "source": [
    "path_5shot = f'../../../../Thesis/BANKING77/train_5/'\n",
    "valid_path = f'../../../../Thesis/BANKING77/valid/'\n",
    "test_path = f'../../../../Thesis/BANKING77/test/'"
   ]
  },
  {
   "cell_type": "code",
   "execution_count": 9,
   "id": "d3b4755c-3204-4e26-98e7-de46077b84ee",
   "metadata": {},
   "outputs": [],
   "source": [
    "# Import our models. The package will take care of downloading the models automatically\n",
    "tokenizer = AutoTokenizer.from_pretrained(\"princeton-nlp/sup-simcse-bert-base-uncased\")"
   ]
  },
  {
   "cell_type": "code",
   "execution_count": 10,
   "id": "cc0b272e-288d-45da-bd17-438ffd3b959d",
   "metadata": {},
   "outputs": [
    {
     "name": "stdout",
     "output_type": "stream",
     "text": [
      "===== small train set ====\n",
      "Train on Cross Entropy loss\n",
      "len of dataset : 385\n",
      "===== validation set ====\n",
      "Train on Cross Entropy loss\n",
      "len of dataset : 1540\n",
      "===== test set ====\n",
      "Train on Cross Entropy loss\n",
      "len of dataset : 3080\n",
      "number of class : 77\n"
     ]
    }
   ],
   "source": [
    "# Download data fewshot \n",
    "# https://downgit.github.io/#/home?url=https:%2F%2Fgithub.com%2Fjianguoz%2FFew-Shot-Intent-Detection%2Ftree%2Fmain%2FDatasets%2FHWU64\n",
    "\n",
    "# load data\n",
    "train_samples = load_examples(path_5shot)\n",
    "valid_samples = load_examples(valid_path)\n",
    "test_samples = load_examples(test_path)\n",
    "\n",
    "\n",
    "print(\"===== small train set ====\")\n",
    "\n",
    "for i in range(len(train_samples)):\n",
    "    data.append(train_samples[i].text)\n",
    "    labels.append(train_samples[i].label)\n",
    "\n",
    "\n",
    "train_data = CustomTextDataset(labels,data,batch_size=batch_size,repeated_label=False)\n",
    "train_loader = DataLoader(train_data,batch_size=batch_size,shuffle=True)\n",
    "\n",
    "\n",
    "\n",
    "print(\"===== validation set ====\")\n",
    "\n",
    "data = []\n",
    "labels = []\n",
    "\n",
    "for i in range(len(valid_samples)):\n",
    "    data.append(valid_samples[i].text)\n",
    "    labels.append(valid_samples[i].label)\n",
    "\n",
    "valid_data = CustomTextDataset(labels,data,batch_size=batch_size,repeated_label=False)\n",
    "valid_loader = DataLoader(valid_data,batch_size=batch_size,shuffle=True)\n",
    "\n",
    "\n",
    "\n",
    "print(\"===== test set ====\")\n",
    "\n",
    "data = []\n",
    "labels = []\n",
    "    \n",
    "for i in range(len(test_samples)):\n",
    "    data.append(test_samples[i].text)\n",
    "    labels.append(test_samples[i].label)\n",
    "\n",
    "test_data = CustomTextDataset(labels,data,batch_size=batch_size,repeated_label=False)\n",
    "test_loader = DataLoader(test_data,batch_size=batch_size,shuffle=True)\n",
    "\n",
    "\n",
    "\n",
    "# got the number of unique classes from dataset\n",
    "num_class = len(np.unique(np.array(labels)))\n",
    "\n",
    "# get text label of uniqure classes\n",
    "unique_label = np.unique(np.array(labels))\n",
    "\n",
    "# map text label to index classes\n",
    "label_maps = {unique_label[i]: i for i in range(len(unique_label))}\n",
    "\n",
    "print(\"number of class :\",num_class)"
   ]
  },
  {
   "cell_type": "code",
   "execution_count": 11,
   "id": "bffa36c1-624d-43c1-94a6-a1e4f3ea730b",
   "metadata": {},
   "outputs": [],
   "source": [
    "from transformers import AutoModelForSequenceClassification, TrainingArguments, Trainer, AutoConfig"
   ]
  },
  {
   "cell_type": "code",
   "execution_count": 12,
   "id": "59017e63-2a32-4156-ab50-93be0cbe5615",
   "metadata": {},
   "outputs": [],
   "source": [
    "tokenizer = AutoTokenizer.from_pretrained(\"princeton-nlp/sup-simcse-bert-base-uncased\")"
   ]
  },
  {
   "cell_type": "code",
   "execution_count": 13,
   "id": "e8a8c263-984d-476c-a1f4-a17cabe5dd88",
   "metadata": {},
   "outputs": [],
   "source": [
    "simcse = AutoModel.from_pretrained(\"princeton-nlp/sup-simcse-bert-base-uncased\")"
   ]
  },
  {
   "cell_type": "code",
   "execution_count": 14,
   "id": "4ba5c716-7bf0-481d-8786-88ad2af2c873",
   "metadata": {},
   "outputs": [
    {
     "name": "stdout",
     "output_type": "stream",
     "text": [
      "classifier change accordingly to num_class:  Linear(in_features=768, out_features=77, bias=True)\n"
     ]
    }
   ],
   "source": [
    "config = AutoConfig.from_pretrained(\"bert-base-uncased\")\n",
    "config.num_labels = num_class\n",
    "model = AutoModelForSequenceClassification.from_config(config)\n",
    "print(\"classifier change accordingly to num_class: \",model.classifier)"
   ]
  },
  {
   "cell_type": "code",
   "execution_count": 15,
   "id": "6dcdd28d-d203-40bd-a684-02289964b843",
   "metadata": {},
   "outputs": [
    {
     "name": "stdout",
     "output_type": "stream",
     "text": [
      "Done with feed old weight to new architecure\n"
     ]
    }
   ],
   "source": [
    "with torch.no_grad():\n",
    "    \n",
    "    for new_name, new_param in model.named_parameters():\n",
    "\n",
    "        new_keys = new_name.split(\".\")\n",
    "\n",
    "        for old_name, old_param in simcse.named_parameters():\n",
    "\n",
    "            old_keys = old_name.split(\".\")\n",
    "\n",
    "            if new_keys[1:] == old_keys:\n",
    "                # print(\"-----------------------\")\n",
    "                # print(new_keys[1:])\n",
    "                # print(old_keys)\n",
    "                # print(\"-----------------------\")\n",
    "                # if new_param.shape == old_param.shape\n",
    "                # feed old weight to new network\n",
    "                model.state_dict()[new_name].data.copy_(old_param)\n",
    "                \n",
    "                assert torch.all(model.state_dict()[new_name] == simcse.state_dict()[old_name])\n",
    "                                \n",
    "print(\"Done with feed old weight to new architecure\")     "
   ]
  },
  {
   "cell_type": "code",
   "execution_count": 18,
   "id": "386a074c-a8bc-4a42-ac24-75393cdce94a",
   "metadata": {},
   "outputs": [],
   "source": [
    "optimizer= AdamW(model.parameters(), lr=lr)\n",
    "model = model.to(device)"
   ]
  },
  {
   "cell_type": "code",
   "execution_count": 19,
   "id": "de0011ad-62d5-4d80-9f9a-4434eb746694",
   "metadata": {},
   "outputs": [
    {
     "name": "stdout",
     "output_type": "stream",
     "text": [
      "======  Epoch 1 ====== \n",
      " Training Loss: 1.0690667926491082, \t\t Training acc: 0.09870129823684692\n",
      "train correct :  tensor(38, device='cuda:3')\n",
      "train total : 385\n",
      " Validation Loss: 0.8256272718503878, \t\t Validation acc: 0.5188311338424683\n",
      "valid correct :  tensor(799, device='cuda:3')\n",
      "valid total : 1540\n",
      "Validation Loss Decreased(inf--->0.825627) \t Saving The Model\n",
      "======  Epoch 2 ====== \n",
      " Training Loss: 0.7099945953914097, \t\t Training acc: 0.5636363625526428\n",
      "train correct :  tensor(217, device='cuda:3')\n",
      "train total : 385\n",
      " Validation Loss: 0.6388375701068284, \t\t Validation acc: 0.550000011920929\n",
      "valid correct :  tensor(847, device='cuda:3')\n",
      "valid total : 1540\n",
      "Validation Loss Decreased(0.825627--->0.638838) \t Saving The Model\n",
      "======  Epoch 3 ====== \n",
      " Training Loss: 0.4973335941116531, \t\t Training acc: 0.781818151473999\n",
      "train correct :  tensor(301, device='cuda:3')\n",
      "train total : 385\n",
      " Validation Loss: 0.5164986661502293, \t\t Validation acc: 0.6279220581054688\n",
      "valid correct :  tensor(967, device='cuda:3')\n",
      "valid total : 1540\n",
      "Validation Loss Decreased(0.638838--->0.516499) \t Saving The Model\n",
      "======  Epoch 4 ====== \n",
      " Training Loss: 0.3558715615953718, \t\t Training acc: 0.8675324320793152\n",
      "train correct :  tensor(334, device='cuda:3')\n",
      "train total : 385\n",
      " Validation Loss: 0.44399889421153377, \t\t Validation acc: 0.6863636374473572\n",
      "valid correct :  tensor(1057, device='cuda:3')\n",
      "valid total : 1540\n",
      "Validation Loss Decreased(0.516499--->0.443999) \t Saving The Model\n",
      "======  Epoch 5 ====== \n",
      " Training Loss: 0.2647977040959643, \t\t Training acc: 0.9246752858161926\n",
      "train correct :  tensor(356, device='cuda:3')\n",
      "train total : 385\n",
      " Validation Loss: 0.3964657368211003, \t\t Validation acc: 0.6896103620529175\n",
      "valid correct :  tensor(1062, device='cuda:3')\n",
      "valid total : 1540\n",
      "Validation Loss Decreased(0.443999--->0.396466) \t Saving The Model\n",
      "======  Epoch 6 ====== \n",
      " Training Loss: 0.20654853071485246, \t\t Training acc: 0.9532467126846313\n",
      "train correct :  tensor(367, device='cuda:3')\n",
      "train total : 385\n",
      " Validation Loss: 0.36354263984150703, \t\t Validation acc: 0.7123376727104187\n",
      "valid correct :  tensor(1097, device='cuda:3')\n",
      "valid total : 1540\n",
      "Validation Loss Decreased(0.396466--->0.363543) \t Saving The Model\n",
      "======  Epoch 7 ====== \n",
      " Training Loss: 0.16405999459229506, \t\t Training acc: 0.9558441638946533\n",
      "train correct :  tensor(368, device='cuda:3')\n",
      "train total : 385\n",
      " Validation Loss: 0.3431731956055412, \t\t Validation acc: 0.7175324559211731\n",
      "valid correct :  tensor(1105, device='cuda:3')\n",
      "valid total : 1540\n",
      "Validation Loss Decreased(0.363543--->0.343173) \t Saving The Model\n",
      "======  Epoch 8 ====== \n",
      " Training Loss: 0.13000051721736983, \t\t Training acc: 0.9740259647369385\n",
      "train correct :  tensor(375, device='cuda:3')\n",
      "train total : 385\n",
      " Validation Loss: 0.3267484731681935, \t\t Validation acc: 0.7201298475265503\n",
      "valid correct :  tensor(1109, device='cuda:3')\n",
      "valid total : 1540\n",
      "Validation Loss Decreased(0.343173--->0.326748) \t Saving The Model\n",
      "======  Epoch 9 ====== \n",
      " Training Loss: 0.10925147575991494, \t\t Training acc: 0.984415590763092\n",
      "train correct :  tensor(379, device='cuda:3')\n",
      "train total : 385\n",
      " Validation Loss: 0.3151767383051383, \t\t Validation acc: 0.714285671710968\n",
      "valid correct :  tensor(1100, device='cuda:3')\n",
      "valid total : 1540\n",
      "Validation Loss Decreased(0.326748--->0.315177) \t Saving The Model\n",
      "======  Epoch 10 ====== \n",
      " Training Loss: 0.08843040150868428, \t\t Training acc: 0.9896103739738464\n",
      "train correct :  tensor(381, device='cuda:3')\n",
      "train total : 385\n",
      " Validation Loss: 0.30656114941487067, \t\t Validation acc: 0.7162337303161621\n",
      "valid correct :  tensor(1103, device='cuda:3')\n",
      "valid total : 1540\n",
      "Validation Loss Decreased(0.315177--->0.306561) \t Saving The Model\n",
      "======  Epoch 11 ====== \n",
      " Training Loss: 0.07835108841007406, \t\t Training acc: 0.9922077655792236\n",
      "train correct :  tensor(382, device='cuda:3')\n",
      "train total : 385\n",
      " Validation Loss: 0.29936195059449644, \t\t Validation acc: 0.7162337303161621\n",
      "valid correct :  tensor(1103, device='cuda:3')\n",
      "valid total : 1540\n",
      "Validation Loss Decreased(0.306561--->0.299362) \t Saving The Model\n",
      "======  Epoch 12 ====== \n",
      " Training Loss: 0.06635127496216205, \t\t Training acc: 0.997402548789978\n",
      "train correct :  tensor(384, device='cuda:3')\n",
      "train total : 385\n",
      " Validation Loss: 0.2941881398005145, \t\t Validation acc: 0.7233766317367554\n",
      "valid correct :  tensor(1114, device='cuda:3')\n",
      "valid total : 1540\n",
      "Validation Loss Decreased(0.299362--->0.294188) \t Saving The Model\n",
      "======  Epoch 13 ====== \n",
      " Training Loss: 0.057663695630315065, \t\t Training acc: 0.9948051571846008\n",
      "train correct :  tensor(383, device='cuda:3')\n",
      "train total : 385\n",
      " Validation Loss: 0.28966495907055095, \t\t Validation acc: 0.7123376727104187\n",
      "valid correct :  tensor(1097, device='cuda:3')\n",
      "valid total : 1540\n",
      "Validation Loss Decreased(0.294188--->0.289665) \t Saving The Model\n",
      "======  Epoch 14 ====== \n",
      " Training Loss: 0.048437670715056454, \t\t Training acc: 0.997402548789978\n",
      "train correct :  tensor(384, device='cuda:3')\n",
      "train total : 385\n",
      " Validation Loss: 0.2854599762611188, \t\t Validation acc: 0.7181817889213562\n",
      "valid correct :  tensor(1106, device='cuda:3')\n",
      "valid total : 1540\n",
      "Validation Loss Decreased(0.289665--->0.285460) \t Saving The Model\n",
      "======  Epoch 15 ====== \n",
      " Training Loss: 0.04377003474669023, \t\t Training acc: 1.0\n",
      "train correct :  tensor(385, device='cuda:3')\n",
      "train total : 385\n",
      " Validation Loss: 0.28253862871365115, \t\t Validation acc: 0.7201298475265503\n",
      "valid correct :  tensor(1109, device='cuda:3')\n",
      "valid total : 1540\n",
      "Validation Loss Decreased(0.285460--->0.282539) \t Saving The Model\n",
      "======  Epoch 16 ====== \n",
      " Training Loss: 0.039089897129829826, \t\t Training acc: 1.0\n",
      "train correct :  tensor(385, device='cuda:3')\n",
      "train total : 385\n",
      " Validation Loss: 0.2800267288920941, \t\t Validation acc: 0.7188311815261841\n",
      "valid correct :  tensor(1107, device='cuda:3')\n",
      "valid total : 1540\n",
      "Validation Loss Decreased(0.282539--->0.280027) \t Saving The Model\n",
      "======  Epoch 17 ====== \n",
      " Training Loss: 0.03638839131438887, \t\t Training acc: 1.0\n",
      "train correct :  tensor(385, device='cuda:3')\n",
      "train total : 385\n",
      " Validation Loss: 0.2787280492799042, \t\t Validation acc: 0.7181817889213562\n",
      "valid correct :  tensor(1106, device='cuda:3')\n",
      "valid total : 1540\n",
      "Validation Loss Decreased(0.280027--->0.278728) \t Saving The Model\n",
      "======  Epoch 18 ====== \n",
      " Training Loss: 0.031745733610995405, \t\t Training acc: 0.997402548789978\n",
      "train correct :  tensor(384, device='cuda:3')\n",
      "train total : 385\n",
      " Validation Loss: 0.2781273125102381, \t\t Validation acc: 0.7207791805267334\n",
      "valid correct :  tensor(1110, device='cuda:3')\n",
      "valid total : 1540\n",
      "Validation Loss Decreased(0.278728--->0.278127) \t Saving The Model\n",
      "======  Epoch 19 ====== \n",
      " Training Loss: 0.029988934080322067, \t\t Training acc: 1.0\n",
      "train correct :  tensor(385, device='cuda:3')\n",
      "train total : 385\n",
      " Validation Loss: 0.2763524585488168, \t\t Validation acc: 0.7175324559211731\n",
      "valid correct :  tensor(1105, device='cuda:3')\n",
      "valid total : 1540\n",
      "Validation Loss Decreased(0.278127--->0.276352) \t Saving The Model\n",
      "======  Epoch 20 ====== \n",
      " Training Loss: 0.02783785571235341, \t\t Training acc: 1.0\n",
      "train correct :  tensor(385, device='cuda:3')\n",
      "train total : 385\n",
      " Validation Loss: 0.27487366055319834, \t\t Validation acc: 0.7162337303161621\n",
      "valid correct :  tensor(1103, device='cuda:3')\n",
      "valid total : 1540\n",
      "Validation Loss Decreased(0.276352--->0.274874) \t Saving The Model\n",
      "======  Epoch 21 ====== \n",
      " Training Loss: 0.02512174490597341, \t\t Training acc: 1.0\n",
      "train correct :  tensor(385, device='cuda:3')\n",
      "train total : 385\n",
      " Validation Loss: 0.2737841120062323, \t\t Validation acc: 0.7227272391319275\n",
      "valid correct :  tensor(1113, device='cuda:3')\n",
      "valid total : 1540\n",
      "Validation Loss Decreased(0.274874--->0.273784) \t Saving The Model\n",
      "======  Epoch 22 ====== \n",
      " Training Loss: 0.021338835010280856, \t\t Training acc: 1.0\n",
      "train correct :  tensor(385, device='cuda:3')\n",
      "train total : 385\n",
      " Validation Loss: 0.27256516929861013, \t\t Validation acc: 0.7246752977371216\n",
      "valid correct :  tensor(1116, device='cuda:3')\n",
      "valid total : 1540\n",
      "Validation Loss Decreased(0.273784--->0.272565) \t Saving The Model\n",
      "======  Epoch 23 ====== \n",
      " Training Loss: 0.020269434700732107, \t\t Training acc: 1.0\n",
      "train correct :  tensor(385, device='cuda:3')\n",
      "train total : 385\n",
      " Validation Loss: 0.27211132646090797, \t\t Validation acc: 0.7272726893424988\n",
      "valid correct :  tensor(1120, device='cuda:3')\n",
      "valid total : 1540\n",
      "Validation Loss Decreased(0.272565--->0.272111) \t Saving The Model\n",
      "======  Epoch 24 ====== \n",
      " Training Loss: 0.017253167709553395, \t\t Training acc: 1.0\n",
      "train correct :  tensor(385, device='cuda:3')\n",
      "train total : 385\n",
      " Validation Loss: 0.2707628089257262, \t\t Validation acc: 0.7266233563423157\n",
      "valid correct :  tensor(1119, device='cuda:3')\n",
      "valid total : 1540\n",
      "Validation Loss Decreased(0.272111--->0.270763) \t Saving The Model\n",
      "======  Epoch 25 ====== \n",
      " Training Loss: 0.01699409990438393, \t\t Training acc: 1.0\n",
      "train correct :  tensor(385, device='cuda:3')\n",
      "train total : 385\n",
      " Validation Loss: 0.2687310188452338, \t\t Validation acc: 0.7240259647369385\n",
      "valid correct :  tensor(1115, device='cuda:3')\n",
      "valid total : 1540\n",
      "Validation Loss Decreased(0.270763--->0.268731) \t Saving The Model\n",
      "======  Epoch 26 ====== \n",
      " Training Loss: 0.01623407955245151, \t\t Training acc: 1.0\n",
      "train correct :  tensor(385, device='cuda:3')\n",
      "train total : 385\n",
      " Validation Loss: 0.26851126323030755, \t\t Validation acc: 0.7240259647369385\n",
      "valid correct :  tensor(1115, device='cuda:3')\n",
      "valid total : 1540\n",
      "Validation Loss Decreased(0.268731--->0.268511) \t Saving The Model\n",
      "======  Epoch 27 ====== \n",
      " Training Loss: 0.016422897584542826, \t\t Training acc: 1.0\n",
      "train correct :  tensor(385, device='cuda:3')\n",
      "train total : 385\n",
      " Validation Loss: 0.2691505144265565, \t\t Validation acc: 0.7292207479476929\n",
      "valid correct :  tensor(1123, device='cuda:3')\n",
      "valid total : 1540\n",
      "======  Epoch 28 ====== \n",
      " Training Loss: 0.014295089396031259, \t\t Training acc: 1.0\n",
      "train correct :  tensor(385, device='cuda:3')\n",
      "train total : 385\n",
      " Validation Loss: 0.27027498046661935, \t\t Validation acc: 0.7220779061317444\n",
      "valid correct :  tensor(1112, device='cuda:3')\n",
      "valid total : 1540\n",
      "======  Epoch 29 ====== \n",
      " Training Loss: 0.01407548872536266, \t\t Training acc: 1.0\n",
      "train correct :  tensor(385, device='cuda:3')\n",
      "train total : 385\n",
      " Validation Loss: 0.26998088190017583, \t\t Validation acc: 0.7279220819473267\n",
      "valid correct :  tensor(1121, device='cuda:3')\n",
      "valid total : 1540\n",
      "======  Epoch 30 ====== \n",
      " Training Loss: 0.012835439947711956, \t\t Training acc: 1.0\n",
      "train correct :  tensor(385, device='cuda:3')\n",
      "train total : 385\n",
      " Validation Loss: 0.27010046072884814, \t\t Validation acc: 0.7240259647369385\n",
      "valid correct :  tensor(1115, device='cuda:3')\n",
      "valid total : 1540\n"
     ]
    }
   ],
   "source": [
    "train_log, valid_log = train(model,optimizer,train_loader,valid_loader,epochs=30)"
   ]
  },
  {
   "cell_type": "code",
   "execution_count": 26,
   "id": "28a6845f-9b45-4f89-bc55-10d5b2a8f75f",
   "metadata": {},
   "outputs": [
    {
     "data": {
      "text/plain": [
       "<matplotlib.legend.Legend at 0x7ffba08a98b0>"
      ]
     },
     "execution_count": 26,
     "metadata": {},
     "output_type": "execute_result"
    },
    {
     "data": {
      "image/png": "[encoded data removed]",
      "text/plain": [
       "<Figure size 432x288 with 2 Axes>"
      ]
     },
     "metadata": {
      "needs_background": "light"
     },
     "output_type": "display_data"
    }
   ],
   "source": [
    "fig, (ax1, ax2) = plt.subplots(2)\n",
    "fig.suptitle('Show by freezing 12 layers')\n",
    "ax1.plot(torch.tensor(train_log[0] , device = 'cpu').tolist())\n",
    "ax1.plot(torch.tensor(valid_log[0] , device = 'cpu').tolist())\n",
    "ax1.legend(['train_acc','validation_acc'])\n",
    "ax2.plot(torch.tensor(train_log[1] , device = 'cpu').tolist())\n",
    "ax2.plot(torch.tensor(valid_log[1] , device = 'cpu').tolist())\n",
    "ax2.legend(['train_loss','validation_loss'])"
   ]
  },
  {
   "cell_type": "code",
   "execution_count": 27,
   "id": "00ef3eac-0ff0-4f4e-b9f2-d7cc9f8c3316",
   "metadata": {},
   "outputs": [
    {
     "name": "stdout",
     "output_type": "stream",
     "text": [
      "correct : 2191\n",
      "total : 3080\n"
     ]
    }
   ],
   "source": [
    "test_acc = test(model,test_loader=test_loader,data_size=len(test_data))"
   ]
  },
  {
   "cell_type": "code",
   "execution_count": 28,
   "id": "785a5508-1057-4001-93a9-5a44ba7a6ae6",
   "metadata": {},
   "outputs": [
    {
     "name": "stdout",
     "output_type": "stream",
     "text": [
      "Accuracy : 71.13636363636363 %\n"
     ]
    }
   ],
   "source": [
    "print(f'Accuracy : {100 * test_acc} %') "
   ]
  },
  {
   "cell_type": "code",
   "execution_count": 29,
   "id": "faf2d2e7-1f5d-4916-af6b-abbc439e108b",
   "metadata": {},
   "outputs": [],
   "source": [
    "PATH = f'../../../fewshot_models/model_77_train_5.pth'\n",
    "best_model = AutoModelForSequenceClassification.from_config(config)\n",
    "# Model class must be defined somewhere\n",
    "best_model.load_state_dict(torch.load(PATH))\n",
    "best_model = best_model.to(device)"
   ]
  },
  {
   "cell_type": "code",
   "execution_count": 32,
   "id": "b7abc09f-8bd4-4c7a-b680-e405fab3f905",
   "metadata": {},
   "outputs": [
    {
     "name": "stdout",
     "output_type": "stream",
     "text": [
      "correct : 2144\n",
      "total : 3080\n"
     ]
    }
   ],
   "source": [
    "test_acc = test(best_model,device=device,label_maps=label_maps,test_loader=test_loader,data_size=len(test_data),tokenizer=tokenizer)"
   ]
  },
  {
   "cell_type": "code",
   "execution_count": 33,
   "id": "4e81bc4c-07ff-440e-9068-8753dd0bd9f8",
   "metadata": {},
   "outputs": [
    {
     "name": "stdout",
     "output_type": "stream",
     "text": [
      "Accuracy : 69.61038961038962 %\n"
     ]
    }
   ],
   "source": [
    "print(f'Accuracy : {100 * test_acc} %') "
   ]
  },
  {
   "cell_type": "code",
   "execution_count": null,
   "id": "9839849c-dfde-4f10-9122-be06c4261079",
   "metadata": {},
   "outputs": [],
   "source": []
  }
 ],
 "metadata": {
  "kernelspec": {
   "display_name": "Python 3 (ipykernel)",
   "language": "python",
   "name": "python3"
  },
  "language_info": {
   "codemirror_mode": {
    "name": "ipython",
    "version": 3
   },
   "file_extension": ".py",
   "mimetype": "text/x-python",
   "name": "python",
   "nbconvert_exporter": "python",
   "pygments_lexer": "ipython3",
   "version": "3.9.7"
  }
 },
 "nbformat": 4,
 "nbformat_minor": 5
}
