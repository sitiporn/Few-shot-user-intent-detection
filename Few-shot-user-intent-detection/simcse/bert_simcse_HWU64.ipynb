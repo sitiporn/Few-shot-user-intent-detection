{
 "cells": [
  {
   "cell_type": "code",
   "execution_count": 29,
   "id": "4185799e-f90c-4278-b3e9-ded22a43533f",
   "metadata": {},
   "outputs": [],
   "source": [
    "import os\n",
    "import numpy as np\n",
    "import torch\n",
    "import torch.nn as nn\n",
    "from torch.utils.data import Dataset, DataLoader\n",
    "from transformers import RobertaConfig, RobertaModel, RobertaTokenizer, RobertaForSequenceClassification\n",
    "from transformers import AdamW\n",
    "import random\n",
    "from IPython.display import clear_output\n",
    "import matplotlib.pyplot as plt\n",
    "from collections import OrderedDict\n",
    "from scipy.spatial.distance import cosine\n",
    "from sim_utils import load_examples, Inputexample, CustomTextDataset, freeze_layers, train, test\n",
    "from transformers import AutoModelForSequenceClassification, TrainingArguments, Trainer, AutoConfig, AutoModel, AutoTokenizer\n",
    "#comment this if you are not using puffer\n",
    "os.environ['http_proxy'] = 'http://192.41.170.23:3128'\n",
    "os.environ['https_proxy'] = 'http://192.41.170.23:3128'"
   ]
  },
  {
   "cell_type": "code",
   "execution_count": 8,
   "id": "e365ee63-74ce-421f-964b-b644b9fdc131",
   "metadata": {},
   "outputs": [],
   "source": [
    "N = 5\n",
    "data = []\n",
    "labels = []\n",
    "\n",
    "train_samples = []\n",
    "train_labels = []\n",
    "\n",
    "valid_samples = []\n",
    "valid_labels = []\n",
    "\n",
    "test_samples = []\n",
    "test_labels = []\n",
    "\n",
    "embed_dim = 768\n",
    "batch_size = 4 \n",
    "lr=2e-3  # you can adjust \n",
    "temp = 0.3  # you can adjust \n",
    "lamda = 0.01  # you can adjust  \n",
    "skip_time = 0 # the number of time that yi not equal to yj in supervised contrastive loss equation \n",
    "device = torch.device('cuda:3' if torch.cuda.is_available() else 'cpu')"
   ]
  },
  {
   "cell_type": "markdown",
   "id": "6a3f507e-cb1d-4f05-baeb-89871d78a068",
   "metadata": {
    "tags": []
   },
   "source": [
    "### The Aim of these training is to fine tuning on few shot setting on text classification task"
   ]
  },
  {
   "cell_type": "markdown",
   "id": "68cf4a20-f3c3-4725-928e-2ddb847daea8",
   "metadata": {},
   "source": [
    "Path example of train, validation and test "
   ]
  },
  {
   "cell_type": "code",
   "execution_count": 9,
   "id": "06b9899d-9aa8-49cb-9da7-bfa57704bd54",
   "metadata": {},
   "outputs": [],
   "source": [
    "path_5shot = f'../../../../NLP/NLP/Assignment/solutions/HWU64/train_5/'\n",
    "valid_path = f'../../../../NLP/NLP/Assignment/solutions/HWU64/valid/'\n",
    "test_path =  f'../../../../NLP/NLP/Assignment/solutions/HWU64/test/'"
   ]
  },
  {
   "cell_type": "raw",
   "id": "91ca1760-564e-42fe-9a79-81e6a0881ab0",
   "metadata": {},
   "source": [
    "path_5shot = f'../../../../Thesis/CLINC150/train_5/'\n",
    "valid_path = f'../../../../Thesis/CLINC150/valid/'\n",
    "test_path = f'../../../../Thesis/CLINC150//test/'"
   ]
  },
  {
   "cell_type": "code",
   "execution_count": 10,
   "id": "d3b4755c-3204-4e26-98e7-de46077b84ee",
   "metadata": {},
   "outputs": [],
   "source": [
    "# Import our models. The package will take care of downloading the models automatically\n",
    "tokenizer = AutoTokenizer.from_pretrained(\"princeton-nlp/sup-simcse-bert-base-uncased\")"
   ]
  },
  {
   "cell_type": "code",
   "execution_count": 11,
   "id": "cc0b272e-288d-45da-bd17-438ffd3b959d",
   "metadata": {},
   "outputs": [
    {
     "name": "stdout",
     "output_type": "stream",
     "text": [
      "===== small train set ====\n",
      "Train on Cross Entropy loss\n",
      "len of dataset : 320\n",
      "===== validation set ====\n",
      "Train on Cross Entropy loss\n",
      "len of dataset : 1076\n",
      "===== test set ====\n",
      "Train on Cross Entropy loss\n",
      "len of dataset : 1076\n",
      "number of class : 64\n"
     ]
    }
   ],
   "source": [
    "# Download data fewshot \n",
    "# https://downgit.github.io/#/home?url=https:%2F%2Fgithub.com%2Fjianguoz%2FFew-Shot-Intent-Detection%2Ftree%2Fmain%2FDatasets%2FHWU64\n",
    "\n",
    "# load data\n",
    "train_samples = load_examples(path_5shot)\n",
    "valid_samples = load_examples(valid_path)\n",
    "test_samples = load_examples(test_path)\n",
    "\n",
    "\n",
    "print(\"===== small train set ====\")\n",
    "\n",
    "for i in range(len(train_samples)):\n",
    "    data.append(train_samples[i].text)\n",
    "    labels.append(train_samples[i].label)\n",
    "\n",
    "\n",
    "train_data = CustomTextDataset(labels,data,batch_size=batch_size,repeated_label=False)\n",
    "train_loader = DataLoader(train_data,batch_size=batch_size,shuffle=True)\n",
    "\n",
    "\n",
    "\n",
    "print(\"===== validation set ====\")\n",
    "\n",
    "data = []\n",
    "labels = []\n",
    "\n",
    "for i in range(len(valid_samples)):\n",
    "    data.append(valid_samples[i].text)\n",
    "    labels.append(valid_samples[i].label)\n",
    "\n",
    "valid_data = CustomTextDataset(labels,data,batch_size=batch_size,repeated_label=False)\n",
    "valid_loader = DataLoader(valid_data,batch_size=batch_size,shuffle=True)\n",
    "\n",
    "\n",
    "\n",
    "print(\"===== test set ====\")\n",
    "\n",
    "data = []\n",
    "labels = []\n",
    "    \n",
    "for i in range(len(test_samples)):\n",
    "    data.append(test_samples[i].text)\n",
    "    labels.append(test_samples[i].label)\n",
    "\n",
    "test_data = CustomTextDataset(labels,data,batch_size=batch_size,repeated_label=False)\n",
    "test_loader = DataLoader(test_data,batch_size=batch_size,shuffle=True)\n",
    "\n",
    "\n",
    "\n",
    "# got the number of unique classes from dataset\n",
    "num_class = len(np.unique(np.array(labels)))\n",
    "\n",
    "# get text label of uniqure classes\n",
    "unique_label = np.unique(np.array(labels))\n",
    "\n",
    "# map text label to index classes\n",
    "label_maps = {unique_label[i]: i for i in range(len(unique_label))}\n",
    "\n",
    "print(\"number of class :\",num_class)"
   ]
  },
  {
   "cell_type": "code",
   "execution_count": 12,
   "id": "bffa36c1-624d-43c1-94a6-a1e4f3ea730b",
   "metadata": {},
   "outputs": [],
   "source": [
    "from transformers import AutoModelForSequenceClassification, TrainingArguments, Trainer, AutoConfig"
   ]
  },
  {
   "cell_type": "code",
   "execution_count": 13,
   "id": "59017e63-2a32-4156-ab50-93be0cbe5615",
   "metadata": {},
   "outputs": [],
   "source": [
    "tokenizer = AutoTokenizer.from_pretrained(\"princeton-nlp/sup-simcse-bert-base-uncased\")"
   ]
  },
  {
   "cell_type": "code",
   "execution_count": 14,
   "id": "e8a8c263-984d-476c-a1f4-a17cabe5dd88",
   "metadata": {},
   "outputs": [],
   "source": [
    "simcse = AutoModel.from_pretrained(\"princeton-nlp/sup-simcse-bert-base-uncased\")"
   ]
  },
  {
   "cell_type": "code",
   "execution_count": 15,
   "id": "4ba5c716-7bf0-481d-8786-88ad2af2c873",
   "metadata": {},
   "outputs": [
    {
     "name": "stdout",
     "output_type": "stream",
     "text": [
      "classifier change accordingly to num_class:  Linear(in_features=768, out_features=64, bias=True)\n"
     ]
    }
   ],
   "source": [
    "config = AutoConfig.from_pretrained(\"bert-base-uncased\")\n",
    "config.num_labels = num_class\n",
    "model = AutoModelForSequenceClassification.from_config(config)\n",
    "print(\"classifier change accordingly to num_class: \",model.classifier)"
   ]
  },
  {
   "cell_type": "code",
   "execution_count": 16,
   "id": "6dcdd28d-d203-40bd-a684-02289964b843",
   "metadata": {},
   "outputs": [
    {
     "name": "stdout",
     "output_type": "stream",
     "text": [
      "Done with feed old weight to new architecure\n"
     ]
    }
   ],
   "source": [
    "with torch.no_grad():\n",
    "    \n",
    "    for new_name, new_param in model.named_parameters():\n",
    "\n",
    "        new_keys = new_name.split(\".\")\n",
    "\n",
    "        for old_name, old_param in simcse.named_parameters():\n",
    "\n",
    "            old_keys = old_name.split(\".\")\n",
    "\n",
    "            if new_keys[1:] == old_keys:\n",
    "                # print(\"-----------------------\")\n",
    "                # print(new_keys[1:])\n",
    "                # print(old_keys)\n",
    "                # print(\"-----------------------\")\n",
    "                # if new_param.shape == old_param.shape\n",
    "                # feed old weight to new network\n",
    "                model.state_dict()[new_name].data.copy_(old_param)\n",
    "                \n",
    "                assert torch.all(model.state_dict()[new_name] == simcse.state_dict()[old_name])\n",
    "                                \n",
    "print(\"Done with feed old weight to new architecure\")     "
   ]
  },
  {
   "cell_type": "code",
   "execution_count": 17,
   "id": "36aceb20-a97a-4945-abba-67bac08c5c46",
   "metadata": {},
   "outputs": [
    {
     "name": "stdout",
     "output_type": "stream",
     "text": [
      "classifier.weight\n",
      "classifier.bias\n"
     ]
    }
   ],
   "source": [
    "model = freeze_layers(model,freeze_layers_count=12)"
   ]
  },
  {
   "cell_type": "code",
   "execution_count": 18,
   "id": "386a074c-a8bc-4a42-ac24-75393cdce94a",
   "metadata": {},
   "outputs": [],
   "source": [
    "optimizer= AdamW(model.parameters(), lr=lr)\n",
    "model = model.to(device)"
   ]
  },
  {
   "cell_type": "code",
   "execution_count": 19,
   "id": "de0011ad-62d5-4d80-9f9a-4434eb746694",
   "metadata": {},
   "outputs": [
    {
     "name": "stdout",
     "output_type": "stream",
     "text": [
      "======  Epoch 1 ====== \n",
      " Training Loss: 0.9654583260416985, \t\t Training acc: 0.21250000596046448\n",
      "train correct :  tensor(68, device='cuda:3')\n",
      "train total : 320\n",
      " Validation Loss: 0.7595803088415067, \t\t Validation acc: 0.5901486873626709\n",
      "valid correct :  tensor(635, device='cuda:3')\n",
      "valid total : 1076\n",
      "Validation Loss Decreased(inf--->0.759580) \t Saving The Model\n",
      "======  Epoch 2 ====== \n",
      " Training Loss: 0.5963700287044048, \t\t Training acc: 0.8062500357627869\n",
      "train correct :  tensor(258, device='cuda:3')\n",
      "train total : 320\n",
      " Validation Loss: 0.5444074996563582, \t\t Validation acc: 0.6988847255706787\n",
      "valid correct :  tensor(752, device='cuda:3')\n",
      "valid total : 1076\n",
      "Validation Loss Decreased(0.759580--->0.544407) \t Saving The Model\n",
      "======  Epoch 3 ====== \n",
      " Training Loss: 0.369661664403975, \t\t Training acc: 0.8812500238418579\n",
      "train correct :  tensor(282, device='cuda:3')\n",
      "train total : 320\n",
      " Validation Loss: 0.4285378533114288, \t\t Validation acc: 0.702602207660675\n",
      "valid correct :  tensor(756, device='cuda:3')\n",
      "valid total : 1076\n",
      "Validation Loss Decreased(0.544407--->0.428538) \t Saving The Model\n",
      "======  Epoch 4 ====== \n",
      " Training Loss: 0.23447185354307293, \t\t Training acc: 0.965624988079071\n",
      "train correct :  tensor(309, device='cuda:3')\n",
      "train total : 320\n",
      " Validation Loss: 0.36126906626951294, \t\t Validation acc: 0.7304832339286804\n",
      "valid correct :  tensor(786, device='cuda:3')\n",
      "valid total : 1076\n",
      "Validation Loss Decreased(0.428538--->0.361269) \t Saving The Model\n",
      "======  Epoch 5 ====== \n",
      " Training Loss: 0.16167260599322616, \t\t Training acc: 0.9781250357627869\n",
      "train correct :  tensor(313, device='cuda:3')\n",
      "train total : 320\n",
      " Validation Loss: 0.3233119251559658, \t\t Validation acc: 0.7295538783073425\n",
      "valid correct :  tensor(785, device='cuda:3')\n",
      "valid total : 1076\n",
      "Validation Loss Decreased(0.361269--->0.323312) \t Saving The Model\n",
      "======  Epoch 6 ====== \n",
      " Training Loss: 0.11383742997422815, \t\t Training acc: 0.984375\n",
      "train correct :  tensor(315, device='cuda:3')\n",
      "train total : 320\n",
      " Validation Loss: 0.3006185939376239, \t\t Validation acc: 0.732342004776001\n",
      "valid correct :  tensor(788, device='cuda:3')\n",
      "valid total : 1076\n",
      "Validation Loss Decreased(0.323312--->0.300619) \t Saving The Model\n",
      "======  Epoch 7 ====== \n",
      " Training Loss: 0.08744117445312441, \t\t Training acc: 0.9906250238418579\n",
      "train correct :  tensor(317, device='cuda:3')\n",
      "train total : 320\n",
      " Validation Loss: 0.2835528595324564, \t\t Validation acc: 0.7379181981086731\n",
      "valid correct :  tensor(794, device='cuda:3')\n",
      "valid total : 1076\n",
      "Validation Loss Decreased(0.300619--->0.283553) \t Saving The Model\n",
      "======  Epoch 8 ====== \n",
      " Training Loss: 0.0678140896372497, \t\t Training acc: 1.0\n",
      "train correct :  tensor(320, device='cuda:3')\n",
      "train total : 320\n",
      " Validation Loss: 0.27182589170131766, \t\t Validation acc: 0.7397769689559937\n",
      "valid correct :  tensor(796, device='cuda:3')\n",
      "valid total : 1076\n",
      "Validation Loss Decreased(0.283553--->0.271826) \t Saving The Model\n",
      "======  Epoch 9 ====== \n",
      " Training Loss: 0.05470752585679293, \t\t Training acc: 1.0\n",
      "train correct :  tensor(320, device='cuda:3')\n",
      "train total : 320\n",
      " Validation Loss: 0.26485334465550225, \t\t Validation acc: 0.738847553730011\n",
      "valid correct :  tensor(795, device='cuda:3')\n",
      "valid total : 1076\n",
      "Validation Loss Decreased(0.271826--->0.264853) \t Saving The Model\n",
      "======  Epoch 10 ====== \n",
      " Training Loss: 0.04795398368733004, \t\t Training acc: 1.0\n",
      "train correct :  tensor(320, device='cuda:3')\n",
      "train total : 320\n",
      " Validation Loss: 0.2571986347547694, \t\t Validation acc: 0.7453531622886658\n",
      "valid correct :  tensor(802, device='cuda:3')\n",
      "valid total : 1076\n",
      "Validation Loss Decreased(0.264853--->0.257199) \t Saving The Model\n",
      "======  Epoch 11 ====== \n",
      " Training Loss: 0.04050474887480959, \t\t Training acc: 1.0\n",
      "train correct :  tensor(320, device='cuda:3')\n",
      "train total : 320\n",
      " Validation Loss: 0.25166052626272783, \t\t Validation acc: 0.7407063245773315\n",
      "valid correct :  tensor(797, device='cuda:3')\n",
      "valid total : 1076\n",
      "Validation Loss Decreased(0.257199--->0.251661) \t Saving The Model\n",
      "======  Epoch 12 ====== \n",
      " Training Loss: 0.031983721535652876, \t\t Training acc: 1.0\n",
      "train correct :  tensor(320, device='cuda:3')\n",
      "train total : 320\n",
      " Validation Loss: 0.2484626444160495, \t\t Validation acc: 0.7416356801986694\n",
      "valid correct :  tensor(798, device='cuda:3')\n",
      "valid total : 1076\n",
      "Validation Loss Decreased(0.251661--->0.248463) \t Saving The Model\n",
      "======  Epoch 13 ====== \n",
      " Training Loss: 0.030094725277740507, \t\t Training acc: 1.0\n",
      "train correct :  tensor(320, device='cuda:3')\n",
      "train total : 320\n",
      " Validation Loss: 0.2444427441736358, \t\t Validation acc: 0.7425650358200073\n",
      "valid correct :  tensor(799, device='cuda:3')\n",
      "valid total : 1076\n",
      "Validation Loss Decreased(0.248463--->0.244443) \t Saving The Model\n",
      "======  Epoch 14 ====== \n",
      " Training Loss: 0.025790579861495643, \t\t Training acc: 1.0\n",
      "train correct :  tensor(320, device='cuda:3')\n",
      "train total : 320\n",
      " Validation Loss: 0.2430430995231169, \t\t Validation acc: 0.7444238066673279\n",
      "valid correct :  tensor(801, device='cuda:3')\n",
      "valid total : 1076\n",
      "Validation Loss Decreased(0.244443--->0.243043) \t Saving The Model\n",
      "======  Epoch 15 ====== \n",
      " Training Loss: 0.02193645677762106, \t\t Training acc: 1.0\n",
      "train correct :  tensor(320, device='cuda:3')\n",
      "train total : 320\n",
      " Validation Loss: 0.24150937048157461, \t\t Validation acc: 0.7462825179100037\n",
      "valid correct :  tensor(803, device='cuda:3')\n",
      "valid total : 1076\n",
      "Validation Loss Decreased(0.243043--->0.241509) \t Saving The Model\n",
      "======  Epoch 16 ====== \n",
      " Training Loss: 0.01932133084628731, \t\t Training acc: 1.0\n",
      "train correct :  tensor(320, device='cuda:3')\n",
      "train total : 320\n",
      " Validation Loss: 0.2396437714194886, \t\t Validation acc: 0.7481412291526794\n",
      "valid correct :  tensor(805, device='cuda:3')\n",
      "valid total : 1076\n",
      "Validation Loss Decreased(0.241509--->0.239644) \t Saving The Model\n",
      "======  Epoch 17 ====== \n",
      " Training Loss: 0.016702781507046894, \t\t Training acc: 1.0\n",
      "train correct :  tensor(320, device='cuda:3')\n",
      "train total : 320\n",
      " Validation Loss: 0.23769033366474965, \t\t Validation acc: 0.75\n",
      "valid correct :  tensor(807, device='cuda:3')\n",
      "valid total : 1076\n",
      "Validation Loss Decreased(0.239644--->0.237690) \t Saving The Model\n",
      "======  Epoch 18 ====== \n",
      " Training Loss: 0.016340187209425493, \t\t Training acc: 1.0\n",
      "train correct :  tensor(320, device='cuda:3')\n",
      "train total : 320\n",
      " Validation Loss: 0.2359786484404346, \t\t Validation acc: 0.7481412291526794\n",
      "valid correct :  tensor(805, device='cuda:3')\n",
      "valid total : 1076\n",
      "Validation Loss Decreased(0.237690--->0.235979) \t Saving The Model\n",
      "======  Epoch 19 ====== \n",
      " Training Loss: 0.014835846878122538, \t\t Training acc: 1.0\n",
      "train correct :  tensor(320, device='cuda:3')\n",
      "train total : 320\n",
      " Validation Loss: 0.23645276378590932, \t\t Validation acc: 0.7444238066673279\n",
      "valid correct :  tensor(801, device='cuda:3')\n",
      "valid total : 1076\n",
      "======  Epoch 20 ====== \n",
      " Training Loss: 0.013662156736245379, \t\t Training acc: 1.0\n",
      "train correct :  tensor(320, device='cuda:3')\n",
      "train total : 320\n",
      " Validation Loss: 0.2370601447911926, \t\t Validation acc: 0.7434943914413452\n",
      "valid correct :  tensor(800, device='cuda:3')\n",
      "valid total : 1076\n",
      "======  Epoch 21 ====== \n",
      " Training Loss: 0.01214560639928095, \t\t Training acc: 1.0\n",
      "train correct :  tensor(320, device='cuda:3')\n",
      "train total : 320\n",
      " Validation Loss: 0.23553569543566624, \t\t Validation acc: 0.7407063245773315\n",
      "valid correct :  tensor(797, device='cuda:3')\n",
      "valid total : 1076\n",
      "Validation Loss Decreased(0.235979--->0.235536) \t Saving The Model\n",
      "======  Epoch 22 ====== \n",
      " Training Loss: 0.011708996357629075, \t\t Training acc: 1.0\n",
      "train correct :  tensor(320, device='cuda:3')\n",
      "train total : 320\n",
      " Validation Loss: 0.23536874732992796, \t\t Validation acc: 0.7416356801986694\n",
      "valid correct :  tensor(798, device='cuda:3')\n",
      "valid total : 1076\n",
      "Validation Loss Decreased(0.235536--->0.235369) \t Saving The Model\n",
      "======  Epoch 23 ====== \n",
      " Training Loss: 0.01047651596891228, \t\t Training acc: 1.0\n",
      "train correct :  tensor(320, device='cuda:3')\n",
      "train total : 320\n",
      " Validation Loss: 0.2341938511638116, \t\t Validation acc: 0.7425650358200073\n",
      "valid correct :  tensor(799, device='cuda:3')\n",
      "valid total : 1076\n",
      "Validation Loss Decreased(0.235369--->0.234194) \t Saving The Model\n",
      "======  Epoch 24 ====== \n",
      " Training Loss: 0.008866287488490342, \t\t Training acc: 1.0\n",
      "train correct :  tensor(320, device='cuda:3')\n",
      "train total : 320\n",
      " Validation Loss: 0.23543351958246148, \t\t Validation acc: 0.7379181981086731\n",
      "valid correct :  tensor(794, device='cuda:3')\n",
      "valid total : 1076\n",
      "======  Epoch 25 ====== \n",
      " Training Loss: 0.008413624769309536, \t\t Training acc: 1.0\n",
      "train correct :  tensor(320, device='cuda:3')\n",
      "train total : 320\n",
      " Validation Loss: 0.23450705983769496, \t\t Validation acc: 0.7434943914413452\n",
      "valid correct :  tensor(800, device='cuda:3')\n",
      "valid total : 1076\n",
      "======  Epoch 26 ====== \n",
      " Training Loss: 0.007536352198803798, \t\t Training acc: 1.0\n",
      "train correct :  tensor(320, device='cuda:3')\n",
      "train total : 320\n",
      " Validation Loss: 0.23465068615474444, \t\t Validation acc: 0.7425650358200073\n",
      "valid correct :  tensor(799, device='cuda:3')\n",
      "valid total : 1076\n",
      "======  Epoch 27 ====== \n",
      " Training Loss: 0.007887727266643196, \t\t Training acc: 1.0\n",
      "train correct :  tensor(320, device='cuda:3')\n",
      "train total : 320\n",
      " Validation Loss: 0.23361115871675894, \t\t Validation acc: 0.7453531622886658\n",
      "valid correct :  tensor(802, device='cuda:3')\n",
      "valid total : 1076\n",
      "Validation Loss Decreased(0.234194--->0.233611) \t Saving The Model\n",
      "======  Epoch 28 ====== \n",
      " Training Loss: 0.006924522876215633, \t\t Training acc: 1.0\n",
      "train correct :  tensor(320, device='cuda:3')\n",
      "train total : 320\n",
      " Validation Loss: 0.23281763965042385, \t\t Validation acc: 0.7397769689559937\n",
      "valid correct :  tensor(796, device='cuda:3')\n",
      "valid total : 1076\n",
      "Validation Loss Decreased(0.233611--->0.232818) \t Saving The Model\n",
      "======  Epoch 29 ====== \n",
      " Training Loss: 0.007133371096279007, \t\t Training acc: 1.0\n",
      "train correct :  tensor(320, device='cuda:3')\n",
      "train total : 320\n",
      " Validation Loss: 0.23324037801221595, \t\t Validation acc: 0.7444238066673279\n",
      "valid correct :  tensor(801, device='cuda:3')\n",
      "valid total : 1076\n",
      "======  Epoch 30 ====== \n",
      " Training Loss: 0.006239897210616618, \t\t Training acc: 1.0\n",
      "train correct :  tensor(320, device='cuda:3')\n",
      "train total : 320\n",
      " Validation Loss: 0.23339147131446902, \t\t Validation acc: 0.7462825179100037\n",
      "valid correct :  tensor(803, device='cuda:3')\n",
      "valid total : 1076\n"
     ]
    }
   ],
   "source": [
    "train_log, valid_log = train(model,optimizer,train_loader,valid_loader,epochs=30)"
   ]
  },
  {
   "cell_type": "code",
   "execution_count": 23,
   "id": "28a6845f-9b45-4f89-bc55-10d5b2a8f75f",
   "metadata": {},
   "outputs": [
    {
     "data": {
      "text/plain": [
       "<matplotlib.legend.Legend at 0x7fb747f45e50>"
      ]
     },
     "execution_count": 23,
     "metadata": {},
     "output_type": "execute_result"
    },
    {
     "data": {
      "image/png": "[encoded data removed]",
      "text/plain": [
       "<Figure size 432x288 with 2 Axes>"
      ]
     },
     "metadata": {
      "needs_background": "light"
     },
     "output_type": "display_data"
    }
   ],
   "source": [
    "fig, (ax1, ax2) = plt.subplots(2)\n",
    "fig.suptitle('Show by freezing 12 layers')\n",
    "ax1.plot(torch.tensor(train_log[0] , device = 'cpu').tolist())\n",
    "ax1.plot(torch.tensor(valid_log[0] , device = 'cpu').tolist())\n",
    "ax1.legend(['train_acc','validation_acc'])\n",
    "ax2.plot(torch.tensor(train_log[1] , device = 'cpu').tolist())\n",
    "ax2.plot(torch.tensor(valid_log[1] , device = 'cpu').tolist())\n",
    "ax2.legend(['train_loss','validation_loss'])"
   ]
  },
  {
   "cell_type": "code",
   "execution_count": 24,
   "id": "00ef3eac-0ff0-4f4e-b9f2-d7cc9f8c3316",
   "metadata": {},
   "outputs": [
    {
     "name": "stdout",
     "output_type": "stream",
     "text": [
      "correct : 794\n",
      "total : 1076\n"
     ]
    }
   ],
   "source": [
    "test_acc = test(model,test_loader=test_loader,data_size=len(test_data))"
   ]
  },
  {
   "cell_type": "code",
   "execution_count": 25,
   "id": "785a5508-1057-4001-93a9-5a44ba7a6ae6",
   "metadata": {},
   "outputs": [
    {
     "name": "stdout",
     "output_type": "stream",
     "text": [
      "Accuracy : 73.7918215613383 %\n"
     ]
    }
   ],
   "source": [
    "print(f'Accuracy : {100 * test_acc} %') "
   ]
  },
  {
   "cell_type": "code",
   "execution_count": 27,
   "id": "faf2d2e7-1f5d-4916-af6b-abbc439e108b",
   "metadata": {},
   "outputs": [],
   "source": [
    "PATH = f'../../../fewshot_models/model_64_train_5.pth'\n",
    "best_model = AutoModelForSequenceClassification.from_config(config)\n",
    "# Model class must be defined somewhere\n",
    "best_model.load_state_dict(torch.load(PATH))\n",
    "best_model = best_model.to(device)"
   ]
  },
  {
   "cell_type": "code",
   "execution_count": 30,
   "id": "b7abc09f-8bd4-4c7a-b680-e405fab3f905",
   "metadata": {},
   "outputs": [
    {
     "name": "stdout",
     "output_type": "stream",
     "text": [
      "correct : 777\n",
      "total : 1076\n"
     ]
    }
   ],
   "source": [
    "test_acc = test(best_model,device=device,label_maps=label_maps,test_loader=test_loader,data_size=len(test_data),tokenizer=tokenizer)"
   ]
  },
  {
   "cell_type": "code",
   "execution_count": 31,
   "id": "4e81bc4c-07ff-440e-9068-8753dd0bd9f8",
   "metadata": {},
   "outputs": [
    {
     "name": "stdout",
     "output_type": "stream",
     "text": [
      "Accuracy : 72.21189591078067 %\n"
     ]
    }
   ],
   "source": [
    "print(f'Accuracy : {100 * test_acc} %') "
   ]
  },
  {
   "cell_type": "code",
   "execution_count": null,
   "id": "96294f24-5699-4bf1-a2ab-3e3b797ce76c",
   "metadata": {},
   "outputs": [],
   "source": []
  }
 ],
 "metadata": {
  "kernelspec": {
   "display_name": "Python 3 (ipykernel)",
   "language": "python",
   "name": "python3"
  },
  "language_info": {
   "codemirror_mode": {
    "name": "ipython",
    "version": 3
   },
   "file_extension": ".py",
   "mimetype": "text/x-python",
   "name": "python",
   "nbconvert_exporter": "python",
   "pygments_lexer": "ipython3",
   "version": "3.9.7"
  }
 },
 "nbformat": 4,
 "nbformat_minor": 5
}
