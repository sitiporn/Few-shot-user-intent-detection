{
 "cells": [
  {
   "cell_type": "code",
   "execution_count": 1,
   "id": "ab48da99-c338-4d6b-b74f-2d023949750c",
   "metadata": {},
   "outputs": [],
   "source": [
    "import os\n",
    "import numpy as np\n",
    "import torch\n",
    "import torch.nn as nn\n",
    "from torch.utils.data import Dataset, DataLoader\n",
    "from transformers import RobertaConfig, RobertaModel, RobertaTokenizer, RobertaForSequenceClassification\n",
    "from transformers import AdamW\n",
    "import random\n",
    "from IPython.display import clear_output\n",
    "import matplotlib.pyplot as plt\n",
    "from collections import OrderedDict\n",
    "from scipy.spatial.distance import cosine\n",
    "import sys, os\n",
    "sys.path.append(os.path.abspath(os.path.join('..', 'simcse')))\n",
    "from sim_utils import load_examples, Inputexample, CustomTextDataset, freeze_layers, test, train\n",
    "from transformers import AutoModelForSequenceClassification, TrainingArguments, Trainer, AutoConfig, AutoModel, AutoTokenizer\n",
    "from loss import Similarity, create_supervised_pair, supervised_contrasive_loss\n",
    "\n",
    "#comment this if you are not using puffer\n",
    "os.environ['http_proxy'] = 'http://192.41.170.23:3128'\n",
    "os.environ['https_proxy'] = 'http://192.41.170.23:3128'"
   ]
  },
  {
   "cell_type": "code",
   "execution_count": 2,
   "id": "2afff669-6e24-4eec-8d14-ea8a4a53766b",
   "metadata": {},
   "outputs": [],
   "source": [
    "N = 5\n",
    "data = []\n",
    "labels = []\n",
    "\n",
    "train_samples = []\n",
    "train_labels = []\n",
    "\n",
    "valid_samples = []\n",
    "valid_labels = []\n",
    "\n",
    "test_samples = []\n",
    "test_labels = []\n",
    "\n",
    "embed_dim = 768\n",
    "batch_size = 16 \n",
    "lr=2e-3  # you can adjust \n",
    "temp = 0.3  # you can adjust \n",
    "lamda = 0.01  # you can adjust  \n",
    "skip_time = 0 # the number of time that yi not equal to yj in supervised contrastive loss equation \n",
    "path = f'./roberta_nli/'\n",
    "bert_model = 'roberta-base'\n",
    "# the number of class to exactly match not to fine-tune \n",
    "\n",
    "num_labels = 2\n",
    "data_name = 'BANKING77'\n",
    "model_name = 'roberta_nli'\n",
    "shot_name = 'train_5'\n",
    "exp_name = f'{model_name}_lr={lr}_t={temp}_{data_name}_{shot_name}'"
   ]
  },
  {
   "cell_type": "code",
   "execution_count": 3,
   "id": "e58a34c6",
   "metadata": {},
   "outputs": [
    {
     "name": "stdout",
     "output_type": "stream",
     "text": [
      "train path :  ../../../../Thesis/BANKING77/train_5/\n",
      "valid path :  ../../../../Thesis/BANKING77/valid/\n",
      "test path  :  ../../../../Thesis/BANKING77/test/\n",
      "experiment code name : roberta_nli_lr=0.002_t=0.3_BANKING77_train_5\n"
     ]
    }
   ],
   "source": [
    "path_shot = f'../../../../Thesis/{data_name}/{shot_name}/'\n",
    "valid_path = f'../../../../Thesis/{data_name}/valid/'\n",
    "test_path = f'../../../../Thesis/{data_name}/test/'\n",
    "print(\"train path : \",path_shot)\n",
    "print(\"valid path : \",valid_path)\n",
    "print(\"test path  : \",test_path)\n",
    "print(\"experiment code name :\",exp_name)"
   ]
  },
  {
   "cell_type": "code",
   "execution_count": 4,
   "id": "f24b0c99-e4fe-4be3-a9dc-15d707ee4be0",
   "metadata": {},
   "outputs": [
    {
     "name": "stdout",
     "output_type": "stream",
     "text": [
      "===== small train set ====\n",
      "Train on Combine between Supervised Contrastive and Cross Entropy loss\n",
      "len of dataset : 385\n",
      "===== validation set ====\n",
      "Train on Combine between Supervised Contrastive and Cross Entropy loss\n",
      "len of dataset : 1540\n",
      "===== test set ====\n",
      "Train on Combine between Supervised Contrastive and Cross Entropy loss\n",
      "len of dataset : 3080\n"
     ]
    }
   ],
   "source": [
    "# Download data fewshot \n",
    "# https://downgit.github.io/#/home?url=https:%2F%2Fgithub.com%2Fjianguoz%2FFew-Shot-Intent-Detection%2Ftree%2Fmain%2FDatasets%2FHWU64\n",
    "\n",
    "# load data\n",
    "train_samples = load_examples(path_shot)\n",
    "valid_samples = load_examples(valid_path)\n",
    "test_samples = load_examples(test_path)\n",
    "\n",
    "\n",
    "print(\"===== small train set ====\")\n",
    "\n",
    "for i in range(len(train_samples)):\n",
    "    data.append(train_samples[i].text)\n",
    "    labels.append(train_samples[i].label)\n",
    "\n",
    "\n",
    "train_data = CustomTextDataset(labels,data,batch_size=batch_size,repeated_label=True)\n",
    "train_loader = DataLoader(train_data,batch_size=batch_size,shuffle=True)\n",
    "\n",
    "\n",
    "\n",
    "print(\"===== validation set ====\")\n",
    "\n",
    "data = []\n",
    "labels = []\n",
    "\n",
    "for i in range(len(valid_samples)):\n",
    "    data.append(valid_samples[i].text)\n",
    "    labels.append(valid_samples[i].label)\n",
    "\n",
    "valid_data = CustomTextDataset(labels,data,batch_size=batch_size,repeated_label=True)\n",
    "valid_loader = DataLoader(valid_data,batch_size=batch_size,shuffle=True)\n",
    "\n",
    "\n",
    "print(\"===== test set ====\")\n",
    "\n",
    "data = []\n",
    "labels = []\n",
    "    \n",
    "for i in range(len(test_samples)):\n",
    "    data.append(test_samples[i].text)\n",
    "    labels.append(test_samples[i].label)\n",
    "\n",
    "test_data = CustomTextDataset(labels,data,batch_size=batch_size,repeated_label=True)\n",
    "test_loader = DataLoader(test_data,batch_size=batch_size,shuffle=True)\n",
    "\n",
    "\n",
    "\n",
    "# got the number of unique classes from dataset\n",
    "num_class = len(np.unique(np.array(labels)))\n",
    "\n",
    "# get text label of uniqure classes\n",
    "unique_label = np.unique(np.array(labels))\n",
    "\n",
    "# map text label to index classes\n",
    "label_maps = {unique_label[i]: i for i in range(len(unique_label))}"
   ]
  },
  {
   "cell_type": "code",
   "execution_count": 17,
   "id": "4e9ce704-fbe6-405f-a7dc-43f89c6ea79f",
   "metadata": {},
   "outputs": [],
   "source": [
    "config = AutoConfig.from_pretrained(bert_model, num_labels=num_labels)\n",
    "tokenizer = AutoTokenizer.from_pretrained(bert_model)"
   ]
  },
  {
   "cell_type": "code",
   "execution_count": 18,
   "id": "659ca306-d915-4b21-b428-dcd126f39382",
   "metadata": {},
   "outputs": [],
   "source": [
    "# Load\n",
    "device = torch.device('cuda:2')\n",
    "state_dict = torch.load(path+'/pytorch_model.bin',map_location=device)"
   ]
  },
  {
   "cell_type": "code",
   "execution_count": 19,
   "id": "88290571-085f-4bfd-90b3-3db123273aa3",
   "metadata": {},
   "outputs": [
    {
     "name": "stderr",
     "output_type": "stream",
     "text": [
      "Some weights of the model checkpoint at ./roberta_nli/ were not used when initializing RobertaForSequenceClassification: ['roberta.pooler.dense.weight', 'roberta.pooler.dense.bias']\n",
      "- This IS expected if you are initializing RobertaForSequenceClassification from the checkpoint of a model trained on another task or with another architecture (e.g. initializing a BertForSequenceClassification model from a BertForPreTraining model).\n",
      "- This IS NOT expected if you are initializing RobertaForSequenceClassification from the checkpoint of a model that you expect to be exactly identical (initializing a BertForSequenceClassification model from a BertForSequenceClassification model).\n"
     ]
    }
   ],
   "source": [
    "transfer = AutoModelForSequenceClassification.from_pretrained(path, state_dict=state_dict, config=config)"
   ]
  },
  {
   "cell_type": "code",
   "execution_count": 20,
   "id": "4c4609c5-f5f4-4214-b9b8-08581c38724e",
   "metadata": {},
   "outputs": [
    {
     "name": "stderr",
     "output_type": "stream",
     "text": [
      "Some weights of the model checkpoint at roberta-base were not used when initializing RobertaForSequenceClassification: ['lm_head.dense.weight', 'roberta.pooler.dense.weight', 'lm_head.bias', 'lm_head.decoder.weight', 'roberta.pooler.dense.bias', 'lm_head.layer_norm.bias', 'lm_head.dense.bias', 'lm_head.layer_norm.weight']\n",
      "- This IS expected if you are initializing RobertaForSequenceClassification from the checkpoint of a model trained on another task or with another architecture (e.g. initializing a BertForSequenceClassification model from a BertForPreTraining model).\n",
      "- This IS NOT expected if you are initializing RobertaForSequenceClassification from the checkpoint of a model that you expect to be exactly identical (initializing a BertForSequenceClassification model from a BertForSequenceClassification model).\n",
      "Some weights of RobertaForSequenceClassification were not initialized from the model checkpoint at roberta-base and are newly initialized: ['classifier.dense.weight', 'classifier.dense.bias', 'classifier.out_proj.weight', 'classifier.out_proj.bias']\n",
      "You should probably TRAIN this model on a down-stream task to be able to use it for predictions and inference.\n"
     ]
    }
   ],
   "source": [
    "config = AutoConfig.from_pretrained(bert_model, num_labels=num_class)\n",
    "model = AutoModelForSequenceClassification.from_pretrained(bert_model,config=config)"
   ]
  },
  {
   "cell_type": "code",
   "execution_count": 21,
   "id": "da08d29e-98ce-4a16-b24a-ee893beb0b56",
   "metadata": {},
   "outputs": [],
   "source": [
    "for model_name, model_param in model.named_parameters():\n",
    "     \n",
    "    model_keys = model_name.split(\".\")\n",
    "    \n",
    "    for trans_name, trans_param in transfer.named_parameters():\n",
    "        \n",
    "        trans_keys = trans_name.split(\".\")\n",
    "        \n",
    "        if trans_keys == model_keys and 'out_proj' not in trans_keys:\n",
    "           \n",
    "            model.state_dict()[model_name].data.copy_(trans_param)\n",
    "            \n",
    "            assert torch.all(model.state_dict()[model_name] == transfer.state_dict()[trans_name])"
   ]
  },
  {
   "cell_type": "code",
   "execution_count": 22,
   "id": "9dbcb5ee-fd86-4fdc-a3c7-60560fdf3cf8",
   "metadata": {},
   "outputs": [
    {
     "name": "stdout",
     "output_type": "stream",
     "text": [
      "classifier.out_proj.weight\n",
      "classifier.out_proj.bias\n"
     ]
    }
   ],
   "source": [
    "model = freeze_layers(model,stop_freeze='out_proj',freeze_layers_count=12)\n",
    "optimizer= AdamW(model.parameters(), lr=lr)\n",
    "model = model.to(device)"
   ]
  },
  {
   "cell_type": "code",
   "execution_count": 25,
   "id": "de0011ad-62d5-4d80-9f9a-4434eb746694",
   "metadata": {},
   "outputs": [
    {
     "name": "stdout",
     "output_type": "stream",
     "text": [
      "======  Epoch 1 ====== \n",
      " Training Loss: 0.19703397998562105, \t\t Training acc: 0.11688311398029327\n",
      "train correct :  tensor(45, device='cuda:2')\n",
      "train total : 385\n",
      " Validation Loss: 0.4155018323427671, \t\t Validation acc: 0.009740259498357773\n",
      "valid correct :  tensor(15, device='cuda:2')\n",
      "valid total : 1540\n",
      "Validation Loss Decreased(inf--->0.415502) \t Saving The Model\n",
      "======  Epoch 2 ====== \n",
      " Training Loss: 0.17189704102355163, \t\t Training acc: 0.11428571492433548\n",
      "train correct :  tensor(44, device='cuda:2')\n",
      "train total : 385\n",
      " Validation Loss: 0.4531713207046707, \t\t Validation acc: 0.014935065060853958\n",
      "valid correct :  tensor(23, device='cuda:2')\n",
      "valid total : 1540\n",
      "======  Epoch 3 ====== \n",
      " Training Loss: 0.1658413856060474, \t\t Training acc: 0.13246752321720123\n",
      "train correct :  tensor(51, device='cuda:2')\n",
      "train total : 385\n",
      " Validation Loss: 0.4673274325085925, \t\t Validation acc: 0.06428571045398712\n",
      "valid correct :  tensor(99, device='cuda:2')\n",
      "valid total : 1540\n",
      "======  Epoch 4 ====== \n",
      " Training Loss: 0.16067958435454927, \t\t Training acc: 0.145454540848732\n",
      "train correct :  tensor(56, device='cuda:2')\n",
      "train total : 385\n",
      " Validation Loss: 0.4920241665530514, \t\t Validation acc: 0.02532467432320118\n",
      "valid correct :  tensor(39, device='cuda:2')\n",
      "valid total : 1540\n",
      "======  Epoch 5 ====== \n",
      " Training Loss: 0.15975148337227957, \t\t Training acc: 0.15324674546718597\n",
      "train correct :  tensor(59, device='cuda:2')\n",
      "train total : 385\n",
      " Validation Loss: 0.5025763310395278, \t\t Validation acc: 0.05064934864640236\n",
      "valid correct :  tensor(78, device='cuda:2')\n",
      "valid total : 1540\n",
      "======  Epoch 6 ====== \n",
      " Training Loss: 0.16314853259495327, \t\t Training acc: 0.15064935386180878\n",
      "train correct :  tensor(58, device='cuda:2')\n",
      "train total : 385\n",
      " Validation Loss: 0.5167343278983971, \t\t Validation acc: 0.048701297491788864\n",
      "valid correct :  tensor(75, device='cuda:2')\n",
      "valid total : 1540\n",
      "======  Epoch 7 ====== \n",
      " Training Loss: 0.17056361173654533, \t\t Training acc: 0.13766233623027802\n",
      "train correct :  tensor(53, device='cuda:2')\n",
      "train total : 385\n",
      " Validation Loss: 0.5171380482710801, \t\t Validation acc: 0.013636363670229912\n",
      "valid correct :  tensor(21, device='cuda:2')\n",
      "valid total : 1540\n",
      "======  Epoch 8 ====== \n",
      " Training Loss: 0.15929016509613433, \t\t Training acc: 0.13246752321720123\n",
      "train correct :  tensor(51, device='cuda:2')\n",
      "train total : 385\n",
      " Validation Loss: 0.5376196167685768, \t\t Validation acc: 0.011688311584293842\n",
      "valid correct :  tensor(18, device='cuda:2')\n",
      "valid total : 1540\n",
      "======  Epoch 9 ====== \n",
      " Training Loss: 0.16784465343921215, \t\t Training acc: 0.15064935386180878\n",
      "train correct :  tensor(58, device='cuda:2')\n",
      "train total : 385\n",
      " Validation Loss: 0.5436209443327669, \t\t Validation acc: 0.014935065060853958\n",
      "valid correct :  tensor(23, device='cuda:2')\n",
      "valid total : 1540\n",
      "======  Epoch 10 ====== \n",
      " Training Loss: 0.16558960010479024, \t\t Training acc: 0.13506492972373962\n",
      "train correct :  tensor(52, device='cuda:2')\n",
      "train total : 385\n",
      " Validation Loss: 0.5398424848333582, \t\t Validation acc: 0.06038960814476013\n",
      "valid correct :  tensor(93, device='cuda:2')\n",
      "valid total : 1540\n",
      "======  Epoch 11 ====== \n",
      " Training Loss: 0.15983025222629696, \t\t Training acc: 0.15584415197372437\n",
      "train correct :  tensor(60, device='cuda:2')\n",
      "train total : 385\n",
      " Validation Loss: 0.560559672813911, \t\t Validation acc: 0.04415584355592728\n",
      "valid correct :  tensor(68, device='cuda:2')\n",
      "valid total : 1540\n",
      "======  Epoch 12 ====== \n",
      " Training Loss: 0.1627429503899116, \t\t Training acc: 0.16103896498680115\n",
      "train correct :  tensor(62, device='cuda:2')\n",
      "train total : 385\n",
      " Validation Loss: 0.5560275811653632, \t\t Validation acc: 0.048051945865154266\n",
      "valid correct :  tensor(74, device='cuda:2')\n",
      "valid total : 1540\n",
      "======  Epoch 13 ====== \n",
      " Training Loss: 0.16568200309555253, \t\t Training acc: 0.15844155848026276\n",
      "train correct :  tensor(61, device='cuda:2')\n",
      "train total : 385\n",
      " Validation Loss: 0.5664079006616172, \t\t Validation acc: 0.040909089148044586\n",
      "valid correct :  tensor(63, device='cuda:2')\n",
      "valid total : 1540\n",
      "======  Epoch 14 ====== \n",
      " Training Loss: 0.15561463461293804, \t\t Training acc: 0.18701298534870148\n",
      "train correct :  tensor(72, device='cuda:2')\n",
      "train total : 385\n",
      " Validation Loss: 0.5621595695421293, \t\t Validation acc: 0.019480518996715546\n",
      "valid correct :  tensor(30, device='cuda:2')\n",
      "valid total : 1540\n",
      "======  Epoch 15 ====== \n",
      " Training Loss: 0.16518083981105258, \t\t Training acc: 0.13506492972373962\n",
      "train correct :  tensor(52, device='cuda:2')\n",
      "train total : 385\n",
      " Validation Loss: 0.5664684150126074, \t\t Validation acc: 0.0181818176060915\n",
      "valid correct :  tensor(28, device='cuda:2')\n",
      "valid total : 1540\n",
      "======  Epoch 16 ====== \n",
      " Training Loss: 0.1629655528378177, \t\t Training acc: 0.12987013161182404\n",
      "train correct :  tensor(50, device='cuda:2')\n",
      "train total : 385\n",
      " Validation Loss: 0.5853331782601097, \t\t Validation acc: 0.045454543083906174\n",
      "valid correct :  tensor(70, device='cuda:2')\n",
      "valid total : 1540\n",
      "======  Epoch 17 ====== \n",
      " Training Loss: 0.1647492687423508, \t\t Training acc: 0.17402596771717072\n",
      "train correct :  tensor(67, device='cuda:2')\n",
      "train total : 385\n",
      " Validation Loss: 0.5721239080676784, \t\t Validation acc: 0.08636363595724106\n",
      "valid correct :  tensor(133, device='cuda:2')\n",
      "valid total : 1540\n",
      "======  Epoch 18 ====== \n",
      " Training Loss: 0.1604859482158314, \t\t Training acc: 0.16103896498680115\n",
      "train correct :  tensor(62, device='cuda:2')\n",
      "train total : 385\n",
      " Validation Loss: 0.5898071193075799, \t\t Validation acc: 0.044805195182561874\n",
      "valid correct :  tensor(69, device='cuda:2')\n",
      "valid total : 1540\n",
      "======  Epoch 19 ====== \n",
      " Training Loss: 0.163557040846193, \t\t Training acc: 0.13506492972373962\n",
      "train correct :  tensor(52, device='cuda:2')\n",
      "train total : 385\n",
      " Validation Loss: 0.5852511653652439, \t\t Validation acc: 0.05519480258226395\n",
      "valid correct :  tensor(85, device='cuda:2')\n",
      "valid total : 1540\n",
      "======  Epoch 20 ====== \n",
      " Training Loss: 0.16022927110845392, \t\t Training acc: 0.15844155848026276\n",
      "train correct :  tensor(61, device='cuda:2')\n",
      "train total : 385\n",
      " Validation Loss: 0.6040747921188157, \t\t Validation acc: 0.03961038962006569\n",
      "valid correct :  tensor(61, device='cuda:2')\n",
      "valid total : 1540\n",
      "======  Epoch 21 ====== \n",
      " Training Loss: 0.1567189665583821, \t\t Training acc: 0.18961039185523987\n",
      "train correct :  tensor(73, device='cuda:2')\n",
      "train total : 385\n",
      " Validation Loss: 0.6053079425514518, \t\t Validation acc: 0.04220779240131378\n",
      "valid correct :  tensor(65, device='cuda:2')\n",
      "valid total : 1540\n",
      "======  Epoch 22 ====== \n",
      " Training Loss: 0.16026569279757413, \t\t Training acc: 0.15064935386180878\n",
      "train correct :  tensor(58, device='cuda:2')\n",
      "train total : 385\n",
      " Validation Loss: 0.5860926377308833, \t\t Validation acc: 0.04675324633717537\n",
      "valid correct :  tensor(72, device='cuda:2')\n",
      "valid total : 1540\n",
      "======  Epoch 23 ====== \n",
      " Training Loss: 0.158056573124675, \t\t Training acc: 0.13766233623027802\n",
      "train correct :  tensor(53, device='cuda:2')\n",
      "train total : 385\n",
      " Validation Loss: 0.59201188335171, \t\t Validation acc: 0.05000000074505806\n",
      "valid correct :  tensor(77, device='cuda:2')\n",
      "valid total : 1540\n",
      "======  Epoch 24 ====== \n",
      " Training Loss: 0.16016838209969655, \t\t Training acc: 0.145454540848732\n",
      "train correct :  tensor(56, device='cuda:2')\n",
      "train total : 385\n",
      " Validation Loss: 0.6196501926942305, \t\t Validation acc: 0.012987012974917889\n",
      "valid correct :  tensor(20, device='cuda:2')\n",
      "valid total : 1540\n",
      "======  Epoch 25 ====== \n",
      " Training Loss: 0.16137973642968512, \t\t Training acc: 0.15844155848026276\n",
      "train correct :  tensor(61, device='cuda:2')\n",
      "train total : 385\n",
      " Validation Loss: 0.6054834904608788, \t\t Validation acc: 0.05714285746216774\n",
      "valid correct :  tensor(88, device='cuda:2')\n",
      "valid total : 1540\n",
      "======  Epoch 26 ====== \n",
      " Training Loss: 0.16074454474758793, \t\t Training acc: 0.1402597427368164\n",
      "train correct :  tensor(54, device='cuda:2')\n",
      "train total : 385\n",
      " Validation Loss: 0.6175709272359873, \t\t Validation acc: 0.02857142873108387\n",
      "valid correct :  tensor(44, device='cuda:2')\n",
      "valid total : 1540\n",
      "======  Epoch 27 ====== \n",
      " Training Loss: 0.15839356447195077, \t\t Training acc: 0.15584415197372437\n",
      "train correct :  tensor(60, device='cuda:2')\n",
      "train total : 385\n",
      " Validation Loss: 0.6095818943791576, \t\t Validation acc: 0.09090908616781235\n",
      "valid correct :  tensor(140, device='cuda:2')\n",
      "valid total : 1540\n",
      "======  Epoch 28 ====== \n",
      " Training Loss: 0.1647494210825338, \t\t Training acc: 0.17142856121063232\n",
      "train correct :  tensor(66, device='cuda:2')\n",
      "train total : 385\n",
      " Validation Loss: 0.634449967471036, \t\t Validation acc: 0.013636363670229912\n",
      "valid correct :  tensor(21, device='cuda:2')\n",
      "valid total : 1540\n",
      "======  Epoch 29 ====== \n",
      " Training Loss: 0.15914161886487688, \t\t Training acc: 0.18701298534870148\n",
      "train correct :  tensor(72, device='cuda:2')\n",
      "train total : 385\n",
      " Validation Loss: 0.6263151868597253, \t\t Validation acc: 0.0012987012742087245\n",
      "valid correct :  tensor(2, device='cuda:2')\n",
      "valid total : 1540\n",
      "======  Epoch 30 ====== \n",
      " Training Loss: 0.162367582321167, \t\t Training acc: 0.17402596771717072\n",
      "train correct :  tensor(67, device='cuda:2')\n",
      "train total : 385\n",
      " Validation Loss: 0.6439186972457093, \t\t Validation acc: 0.045454543083906174\n",
      "valid correct :  tensor(70, device='cuda:2')\n",
      "valid total : 1540\n"
     ]
    }
   ],
   "source": [
    "train_log, valid_log = train(exp_name,model,device,label_maps,optimizer,train_loader,valid_loader,train_data,valid_data,tokenizer,epochs=30)"
   ]
  },
  {
   "cell_type": "code",
   "execution_count": 32,
   "id": "cfe3922e",
   "metadata": {},
   "outputs": [
    {
     "data": {
      "text/plain": [
       "<matplotlib.legend.Legend at 0x7f0dc8491f40>"
      ]
     },
     "execution_count": 32,
     "metadata": {},
     "output_type": "execute_result"
    },
    {
     "data": {
      "image/png": "[encoded data removed]",
      "text/plain": [
       "<Figure size 432x288 with 2 Axes>"
      ]
     },
     "metadata": {
      "needs_background": "light"
     },
     "output_type": "display_data"
    }
   ],
   "source": [
    "fig, (ax1, ax2) = plt.subplots(2)\n",
    "fig.suptitle('Show t 4.1 by freezing 12 layers')\n",
    "ax1.plot(torch.tensor(train_log[0] , device = 'cpu').tolist())\n",
    "ax1.plot(torch.tensor(valid_log[0] , device = 'cpu').tolist())\n",
    "ax1.legend(['train_acc','validation_acc'])\n",
    "ax2.plot(torch.tensor(train_log[1] , device = 'cpu').tolist())\n",
    "ax2.plot(torch.tensor(valid_log[1] , device = 'cpu').tolist())\n",
    "ax2.legend(['train_loss','validation_loss'])"
   ]
  },
  {
   "cell_type": "code",
   "execution_count": 33,
   "id": "e02deb21",
   "metadata": {},
   "outputs": [
    {
     "name": "stdout",
     "output_type": "stream",
     "text": [
      "correct : 46\n",
      "total : 3080\n"
     ]
    }
   ],
   "source": [
    "test_acc = test(model,device,label_maps,test_loader,len(test_data),tokenizer)"
   ]
  },
  {
   "cell_type": "code",
   "execution_count": 34,
   "id": "e2771a09",
   "metadata": {},
   "outputs": [
    {
     "name": "stdout",
     "output_type": "stream",
     "text": [
      "Accuracy : 1.4935064935064934 %\n"
     ]
    }
   ],
   "source": [
    "print(f'Accuracy : {100 * test_acc} %') "
   ]
  },
  {
   "cell_type": "raw",
   "id": "0abbe553-6bcd-4444-8fdf-269687d77189",
   "metadata": {},
   "source": [
    "import numpy as np\n",
    "import seaborn as sns\n",
    "from sklearn.manifold import TSNE\n",
    "import pandas as pd\n",
    "\n",
    "X = torch.tensor([[0, 0, 0], [0, 1, 1], [1, 0, 1], [1, 1, 1]])\n",
    "tsne = TSNE(n_components=2, verbose=1, perplexity=40, n_iter=300)\n",
    "tsne_results = tsne.fit_transform(X)\n",
    "sns.scatterplot(\n",
    "    x=tsne_results[:,0], y=tsne_results[:,1],\n",
    "    palette=sns.color_palette(\"hls\", 10),\n",
    "    legend=\"full\")"
   ]
  },
  {
   "cell_type": "raw",
   "id": "02aa1a67-7e55-46b0-8a63-5096624b0183",
   "metadata": {},
   "source": [
    "# This problem is funmental about encoder\n",
    "   if feed the sentence due to both model good at acc vs low acc \n",
    "         if both are groped well so this is not fundamental problem aobut encoders it's migt be something else"
   ]
  },
  {
   "cell_type": "code",
   "execution_count": null,
   "id": "b5f87f1e-fc6c-4580-a276-29cdb072bc3d",
   "metadata": {},
   "outputs": [],
   "source": []
  }
 ],
 "metadata": {
  "kernelspec": {
   "display_name": "Python 3 (ipykernel)",
   "language": "python",
   "name": "python3"
  },
  "language_info": {
   "codemirror_mode": {
    "name": "ipython",
    "version": 3
   },
   "file_extension": ".py",
   "mimetype": "text/x-python",
   "name": "python",
   "nbconvert_exporter": "python",
   "pygments_lexer": "ipython3",
   "version": "3.9.7"
  }
 },
 "nbformat": 4,
 "nbformat_minor": 5
}
